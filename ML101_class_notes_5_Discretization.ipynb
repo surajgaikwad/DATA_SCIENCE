{
 "cells": [
  {
   "cell_type": "markdown",
   "id": "2873a6b9",
   "metadata": {
    "id": "2873a6b9"
   },
   "source": [
    "# Discretization"
   ]
  },
  {
   "cell_type": "markdown",
   "id": "8abed37f",
   "metadata": {
    "id": "8abed37f"
   },
   "source": [
    "- Discretization, also known as **quantization** or **binning**, is the process of converting continuous numerical variables into discrete categorical ones by grouping together values that are similar or fall within a certain range. This can be useful in machine learning for several reasons:\n",
    "- Discretization can help to reduce the dimensionality of a dataset by reducing the number of features.\n",
    "- Discretization can help to make the relationship between the input variables and the output variable more interpretable by converting continuous variables into ordinal ones.\n",
    "- Discretization can help to improve the performance of certain algorithms that are sensitive to the scale of the input variables.\n",
    "- When we do descretization, it should make sense.\n",
    "- Sometimes it is easy to understand continuous data when divided into categories. For example: BMI can be categorized into following groups:\n",
    "    - **< 19.5 (Underweight)**\n",
    "    - **Between 19.5 and 25 (normal weight)**\n",
    "    - **> 25 and < 30 (overweight)**\n",
    "    - **>= 30 (Obese)**\n",
    "- Here, discretization helps to understand data easier **if it solves the problem statement**.\n",
    "- Continuous variable may have complex non-linear relationship"
   ]
  },
  {
   "cell_type": "markdown",
   "id": "7848d8f7",
   "metadata": {
    "id": "7848d8f7"
   },
   "source": [
    "## Approaches to discretization\n",
    "- Equal width (creating equal number of bins, having same width)\n",
    "- Equal-frequency (N number of bins having same amount of observations)\n",
    "- Pre-defined bins (BMI example)\n",
    "- K-means (creating K clusters) **Will be covered during ML**\n",
    "- Decision tree (Decision tree to identify optimal number of bins) **Will be covered during ML**\n"
   ]
  },
  {
   "cell_type": "markdown",
   "id": "0d5d08f3",
   "metadata": {
    "id": "0d5d08f3"
   },
   "source": [
    "It's important to note that discretization should be performed with care as it can lead to loss of information and affect the performance of the model. It's generally recommended to perform discretization after performing feature selection and to evaluate the performance of the model with and without discretization."
   ]
  },
  {
   "cell_type": "code",
   "execution_count": 1,
   "id": "98f55acc",
   "metadata": {
    "id": "98f55acc"
   },
   "outputs": [],
   "source": [
    "# importing libraries\n",
    "import numpy as np\n",
    "import pandas as pd"
   ]
  },
  {
   "cell_type": "code",
   "execution_count": 2,
   "id": "266d6661",
   "metadata": {
    "id": "266d6661",
    "outputId": "e96e1e96-b5a3-4c95-a366-fdd5f7e3a460"
   },
   "outputs": [
    {
     "name": "stdout",
     "output_type": "stream",
     "text": [
      "    Age  Age_Binned\n",
      "0    21       Adult\n",
      "1    35       Adult\n",
      "2    42       Adult\n",
      "3    27       Adult\n",
      "4    57       Adult\n",
      "5    73     Elderly\n",
      "6     5       Child\n",
      "7    55       Adult\n",
      "8    48       Adult\n",
      "9    16  Adolescent\n",
      "10   19       Adult\n",
      "11   62     Elderly\n"
     ]
    }
   ],
   "source": [
    "Age = [21, 35, 42, 27, 57, 73, 5, 55, 48, 16, 19, 62]\n",
    "df = pd.DataFrame({'Age': Age})\n",
    "df['Age_Binned'] = pd.cut(df['Age'], bins=[0,10,18,60,99],labels=['Child','Adolescent','Adult','Elderly'])\n",
    "print(df)"
   ]
  },
  {
   "cell_type": "code",
   "execution_count": 3,
   "id": "62543f71",
   "metadata": {},
   "outputs": [
    {
     "data": {
      "text/plain": [
       "Adult         8\n",
       "Elderly       2\n",
       "Child         1\n",
       "Adolescent    1\n",
       "Name: Age_Binned, dtype: int64"
      ]
     },
     "execution_count": 3,
     "metadata": {},
     "output_type": "execute_result"
    }
   ],
   "source": [
    "df[\"Age_Binned\"].value_counts()"
   ]
  },
  {
   "cell_type": "code",
   "execution_count": null,
   "id": "1d2f08e3",
   "metadata": {},
   "outputs": [],
   "source": []
  }
 ],
 "metadata": {
  "colab": {
   "provenance": []
  },
  "kernelspec": {
   "display_name": "Python 3 (ipykernel)",
   "language": "python",
   "name": "python3"
  },
  "language_info": {
   "codemirror_mode": {
    "name": "ipython",
    "version": 3
   },
   "file_extension": ".py",
   "mimetype": "text/x-python",
   "name": "python",
   "nbconvert_exporter": "python",
   "pygments_lexer": "ipython3",
   "version": "3.9.7"
  }
 },
 "nbformat": 4,
 "nbformat_minor": 5
}
