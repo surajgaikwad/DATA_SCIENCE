{
 "cells": [
  {
   "cell_type": "markdown",
   "id": "b97e1ce7",
   "metadata": {
    "id": "b97e1ce7"
   },
   "source": [
    "![Outlier.png](attachment:Outlier.png)\n"
   ]
  },
  {
   "cell_type": "markdown",
   "id": "110ebf0e",
   "metadata": {
    "id": "110ebf0e"
   },
   "source": [
    "## Outlier\n",
    "\n",
    "- An outlier is an extreme value that lies far from the most data points in a variable. \n",
    "\n"
   ]
  },
  {
   "cell_type": "markdown",
   "id": "3a073dea",
   "metadata": {
    "id": "3a073dea"
   },
   "source": [
    "### Handling outliers\n",
    "\n",
    "- Outliers can either be a wrong value, such as age 300 years or just variance, such as 210 kilo gram.\n",
    "\n",
    "- If a value is wrong, we can delete them; otherwise we may have to treat them.\n"
   ]
  },
  {
   "cell_type": "markdown",
   "id": "2f95ccfe",
   "metadata": {
    "id": "2f95ccfe"
   },
   "source": [
    "### Possibilities for an Outlier!\n",
    "\n",
    "- Measurement error during experiment or data may entered wrong.\n",
    "- Missing values may entered as extreme numbers.\n",
    "- Data may be not from the same sample.\n",
    "- Not an error, just variance\n",
    "- Extreme distribution than normal."
   ]
  },
  {
   "cell_type": "markdown",
   "id": "4e1da45f",
   "metadata": {
    "id": "4e1da45f"
   },
   "source": [
    "### Effect of outliers on EDA\n",
    "\n",
    "- Affects numerical measures, such as mean and standard deviation\n",
    "- Affects correlation\n"
   ]
  },
  {
   "cell_type": "markdown",
   "id": "13efdbaa",
   "metadata": {
    "id": "13efdbaa"
   },
   "source": [
    "### Drop outliers or not\n",
    "\n",
    "- We must study the dataset with and without outliers in order to better grasp the implications of the findings before eliminating the outliers.\n",
    "- You can drop the outlier if you noticed that it is clear that it was entered or measured wrongly. Nothing wrong in that instance.\n",
    "- If you notice that your assumptions are changing, you can immediately drop the outlier if the findings remain the same.\n",
    "- If the anomaly has an impact on your results and assumptions. Without hesitation, disregard the anomaly and get on with your next steps."
   ]
  },
  {
   "cell_type": "markdown",
   "id": "c9c20e33",
   "metadata": {
    "id": "c9c20e33"
   },
   "source": [
    "### Finding outliers"
   ]
  },
  {
   "cell_type": "code",
   "execution_count": 1,
   "id": "6b79a577",
   "metadata": {
    "id": "6b79a577"
   },
   "outputs": [],
   "source": [
    "# import libraries\n",
    "import os\n",
    "import numpy as np\n",
    "import pandas as pd\n",
    "import matplotlib.pyplot as plt\n",
    "import seaborn as sns\n",
    "from scipy import stats"
   ]
  },
  {
   "cell_type": "code",
   "execution_count": 23,
   "id": "5dd6550a",
   "metadata": {
    "id": "5dd6550a"
   },
   "outputs": [
    {
     "data": {
      "text/html": [
       "<div>\n",
       "<style scoped>\n",
       "    .dataframe tbody tr th:only-of-type {\n",
       "        vertical-align: middle;\n",
       "    }\n",
       "\n",
       "    .dataframe tbody tr th {\n",
       "        vertical-align: top;\n",
       "    }\n",
       "\n",
       "    .dataframe thead th {\n",
       "        text-align: right;\n",
       "    }\n",
       "</style>\n",
       "<table border=\"1\" class=\"dataframe\">\n",
       "  <thead>\n",
       "    <tr style=\"text-align: right;\">\n",
       "      <th></th>\n",
       "      <th>Pregnancies</th>\n",
       "      <th>Glucose</th>\n",
       "      <th>Blood Pressure</th>\n",
       "      <th>Skin Thickness</th>\n",
       "      <th>Insulin</th>\n",
       "      <th>BMI</th>\n",
       "      <th>Diabetes Pedigree Function</th>\n",
       "      <th>Age</th>\n",
       "      <th>Outcome</th>\n",
       "    </tr>\n",
       "  </thead>\n",
       "  <tbody>\n",
       "    <tr>\n",
       "      <th>0</th>\n",
       "      <td>6.0</td>\n",
       "      <td>148.0</td>\n",
       "      <td>72.0</td>\n",
       "      <td>35.0</td>\n",
       "      <td>0.0</td>\n",
       "      <td>33.6</td>\n",
       "      <td>0.627</td>\n",
       "      <td>50.0</td>\n",
       "      <td>1.0</td>\n",
       "    </tr>\n",
       "    <tr>\n",
       "      <th>1</th>\n",
       "      <td>1.0</td>\n",
       "      <td>85.0</td>\n",
       "      <td>66.0</td>\n",
       "      <td>29.0</td>\n",
       "      <td>0.0</td>\n",
       "      <td>26.6</td>\n",
       "      <td>0.351</td>\n",
       "      <td>31.0</td>\n",
       "      <td>0.0</td>\n",
       "    </tr>\n",
       "    <tr>\n",
       "      <th>2</th>\n",
       "      <td>8.0</td>\n",
       "      <td>183.0</td>\n",
       "      <td>64.0</td>\n",
       "      <td>0.0</td>\n",
       "      <td>0.0</td>\n",
       "      <td>23.3</td>\n",
       "      <td>0.672</td>\n",
       "      <td>32.0</td>\n",
       "      <td>1.0</td>\n",
       "    </tr>\n",
       "    <tr>\n",
       "      <th>3</th>\n",
       "      <td>1.0</td>\n",
       "      <td>89.0</td>\n",
       "      <td>66.0</td>\n",
       "      <td>23.0</td>\n",
       "      <td>94.0</td>\n",
       "      <td>28.1</td>\n",
       "      <td>0.167</td>\n",
       "      <td>21.0</td>\n",
       "      <td>0.0</td>\n",
       "    </tr>\n",
       "    <tr>\n",
       "      <th>4</th>\n",
       "      <td>0.0</td>\n",
       "      <td>137.0</td>\n",
       "      <td>40.0</td>\n",
       "      <td>35.0</td>\n",
       "      <td>168.0</td>\n",
       "      <td>43.1</td>\n",
       "      <td>2.288</td>\n",
       "      <td>33.0</td>\n",
       "      <td>1.0</td>\n",
       "    </tr>\n",
       "    <tr>\n",
       "      <th>...</th>\n",
       "      <td>...</td>\n",
       "      <td>...</td>\n",
       "      <td>...</td>\n",
       "      <td>...</td>\n",
       "      <td>...</td>\n",
       "      <td>...</td>\n",
       "      <td>...</td>\n",
       "      <td>...</td>\n",
       "      <td>...</td>\n",
       "    </tr>\n",
       "    <tr>\n",
       "      <th>763</th>\n",
       "      <td>10.0</td>\n",
       "      <td>101.0</td>\n",
       "      <td>76.0</td>\n",
       "      <td>48.0</td>\n",
       "      <td>180.0</td>\n",
       "      <td>32.9</td>\n",
       "      <td>0.171</td>\n",
       "      <td>63.0</td>\n",
       "      <td>0.0</td>\n",
       "    </tr>\n",
       "    <tr>\n",
       "      <th>764</th>\n",
       "      <td>2.0</td>\n",
       "      <td>122.0</td>\n",
       "      <td>70.0</td>\n",
       "      <td>27.0</td>\n",
       "      <td>0.0</td>\n",
       "      <td>36.8</td>\n",
       "      <td>0.340</td>\n",
       "      <td>27.0</td>\n",
       "      <td>0.0</td>\n",
       "    </tr>\n",
       "    <tr>\n",
       "      <th>765</th>\n",
       "      <td>5.0</td>\n",
       "      <td>121.0</td>\n",
       "      <td>72.0</td>\n",
       "      <td>23.0</td>\n",
       "      <td>112.0</td>\n",
       "      <td>26.2</td>\n",
       "      <td>0.245</td>\n",
       "      <td>30.0</td>\n",
       "      <td>0.0</td>\n",
       "    </tr>\n",
       "    <tr>\n",
       "      <th>766</th>\n",
       "      <td>1.0</td>\n",
       "      <td>126.0</td>\n",
       "      <td>60.0</td>\n",
       "      <td>0.0</td>\n",
       "      <td>0.0</td>\n",
       "      <td>30.1</td>\n",
       "      <td>0.349</td>\n",
       "      <td>47.0</td>\n",
       "      <td>1.0</td>\n",
       "    </tr>\n",
       "    <tr>\n",
       "      <th>767</th>\n",
       "      <td>1.0</td>\n",
       "      <td>93.0</td>\n",
       "      <td>70.0</td>\n",
       "      <td>31.0</td>\n",
       "      <td>0.0</td>\n",
       "      <td>30.4</td>\n",
       "      <td>0.315</td>\n",
       "      <td>23.0</td>\n",
       "      <td>0.0</td>\n",
       "    </tr>\n",
       "  </tbody>\n",
       "</table>\n",
       "<p>768 rows × 9 columns</p>\n",
       "</div>"
      ],
      "text/plain": [
       "      Pregnancies  Glucose  Blood Pressure  Skin Thickness  Insulin   BMI  \\\n",
       "0             6.0    148.0            72.0            35.0      0.0  33.6   \n",
       "1             1.0     85.0            66.0            29.0      0.0  26.6   \n",
       "2             8.0    183.0            64.0             0.0      0.0  23.3   \n",
       "3             1.0     89.0            66.0            23.0     94.0  28.1   \n",
       "4             0.0    137.0            40.0            35.0    168.0  43.1   \n",
       "..            ...      ...             ...             ...      ...   ...   \n",
       "763          10.0    101.0            76.0            48.0    180.0  32.9   \n",
       "764           2.0    122.0            70.0            27.0      0.0  36.8   \n",
       "765           5.0    121.0            72.0            23.0    112.0  26.2   \n",
       "766           1.0    126.0            60.0             0.0      0.0  30.1   \n",
       "767           1.0     93.0            70.0            31.0      0.0  30.4   \n",
       "\n",
       "     Diabetes Pedigree Function   Age  Outcome  \n",
       "0                         0.627  50.0      1.0  \n",
       "1                         0.351  31.0      0.0  \n",
       "2                         0.672  32.0      1.0  \n",
       "3                         0.167  21.0      0.0  \n",
       "4                         2.288  33.0      1.0  \n",
       "..                          ...   ...      ...  \n",
       "763                       0.171  63.0      0.0  \n",
       "764                       0.340  27.0      0.0  \n",
       "765                       0.245  30.0      0.0  \n",
       "766                       0.349  47.0      1.0  \n",
       "767                       0.315  23.0      0.0  \n",
       "\n",
       "[768 rows x 9 columns]"
      ]
     },
     "execution_count": 23,
     "metadata": {},
     "output_type": "execute_result"
    }
   ],
   "source": [
    "diabetes = pd.read_excel('ML101 Dataset_4 diabetes.xlsx') # reading the file \n",
    "diabetes"
   ]
  },
  {
   "cell_type": "code",
   "execution_count": 4,
   "id": "0292ef43",
   "metadata": {},
   "outputs": [
    {
     "data": {
      "image/png": "[encoded data removed]",
      "text/plain": [
       "<Figure size 432x288 with 1 Axes>"
      ]
     },
     "metadata": {
      "needs_background": "light"
     },
     "output_type": "display_data"
    }
   ],
   "source": [
    "sns.histplot(data = diabetes['Age'], kde = True)\n",
    "plt.show()"
   ]
  },
  {
   "cell_type": "markdown",
   "id": "4bfac0a0",
   "metadata": {},
   "source": [
    "### Boxplot is used to check whether outliers are presnt or not  (yes or no )"
   ]
  },
  {
   "cell_type": "code",
   "execution_count": 5,
   "id": "b91ca1d7",
   "metadata": {},
   "outputs": [
    {
     "data": {
      "text/plain": [
       "<AxesSubplot:ylabel='Age'>"
      ]
     },
     "execution_count": 5,
     "metadata": {},
     "output_type": "execute_result"
    },
    {
     "data": {
      "image/png": "[encoded data removed]",
      "text/plain": [
       "<Figure size 432x288 with 1 Axes>"
      ]
     },
     "metadata": {
      "needs_background": "light"
     },
     "output_type": "display_data"
    }
   ],
   "source": [
    "sns.boxplot(y=diabetes[\"Age\"])"
   ]
  },
  {
   "cell_type": "code",
   "execution_count": 6,
   "id": "f7aec6fa",
   "metadata": {},
   "outputs": [
    {
     "data": {
      "text/plain": [
       "<AxesSubplot:xlabel='Age'>"
      ]
     },
     "execution_count": 6,
     "metadata": {},
     "output_type": "execute_result"
    },
    {
     "data": {
      "image/png": "[encoded data removed]",
      "text/plain": [
       "<Figure size 432x288 with 1 Axes>"
      ]
     },
     "metadata": {
      "needs_background": "light"
     },
     "output_type": "display_data"
    }
   ],
   "source": [
    "sns.boxplot(x=diabetes[\"Age\"])"
   ]
  },
  {
   "cell_type": "code",
   "execution_count": 7,
   "id": "2e70809f",
   "metadata": {},
   "outputs": [
    {
     "data": {
      "text/plain": [
       "0      1.425995\n",
       "1     -0.190672\n",
       "2     -0.105584\n",
       "3     -1.041549\n",
       "4     -0.020496\n",
       "         ...   \n",
       "763    2.532136\n",
       "764   -0.531023\n",
       "765   -0.275760\n",
       "766    1.170732\n",
       "767   -0.871374\n",
       "Name: Age, Length: 768, dtype: float64"
      ]
     },
     "execution_count": 7,
     "metadata": {},
     "output_type": "execute_result"
    }
   ],
   "source": [
    "stats.zscore(diabetes[\"Age\"])"
   ]
  },
  {
   "cell_type": "code",
   "execution_count": 12,
   "id": "f8938596",
   "metadata": {},
   "outputs": [
    {
     "data": {
      "text/html": [
       "<div>\n",
       "<style scoped>\n",
       "    .dataframe tbody tr th:only-of-type {\n",
       "        vertical-align: middle;\n",
       "    }\n",
       "\n",
       "    .dataframe tbody tr th {\n",
       "        vertical-align: top;\n",
       "    }\n",
       "\n",
       "    .dataframe thead th {\n",
       "        text-align: right;\n",
       "    }\n",
       "</style>\n",
       "<table border=\"1\" class=\"dataframe\">\n",
       "  <thead>\n",
       "    <tr style=\"text-align: right;\">\n",
       "      <th></th>\n",
       "      <th>Age</th>\n",
       "    </tr>\n",
       "  </thead>\n",
       "  <tbody>\n",
       "    <tr>\n",
       "      <th>0</th>\n",
       "      <td>1.425995</td>\n",
       "    </tr>\n",
       "    <tr>\n",
       "      <th>1</th>\n",
       "      <td>-0.190672</td>\n",
       "    </tr>\n",
       "    <tr>\n",
       "      <th>2</th>\n",
       "      <td>-0.105584</td>\n",
       "    </tr>\n",
       "    <tr>\n",
       "      <th>3</th>\n",
       "      <td>-1.041549</td>\n",
       "    </tr>\n",
       "    <tr>\n",
       "      <th>4</th>\n",
       "      <td>-0.020496</td>\n",
       "    </tr>\n",
       "    <tr>\n",
       "      <th>...</th>\n",
       "      <td>...</td>\n",
       "    </tr>\n",
       "    <tr>\n",
       "      <th>763</th>\n",
       "      <td>2.532136</td>\n",
       "    </tr>\n",
       "    <tr>\n",
       "      <th>764</th>\n",
       "      <td>-0.531023</td>\n",
       "    </tr>\n",
       "    <tr>\n",
       "      <th>765</th>\n",
       "      <td>-0.275760</td>\n",
       "    </tr>\n",
       "    <tr>\n",
       "      <th>766</th>\n",
       "      <td>1.170732</td>\n",
       "    </tr>\n",
       "    <tr>\n",
       "      <th>767</th>\n",
       "      <td>-0.871374</td>\n",
       "    </tr>\n",
       "  </tbody>\n",
       "</table>\n",
       "<p>768 rows × 1 columns</p>\n",
       "</div>"
      ],
      "text/plain": [
       "          Age\n",
       "0    1.425995\n",
       "1   -0.190672\n",
       "2   -0.105584\n",
       "3   -1.041549\n",
       "4   -0.020496\n",
       "..        ...\n",
       "763  2.532136\n",
       "764 -0.531023\n",
       "765 -0.275760\n",
       "766  1.170732\n",
       "767 -0.871374\n",
       "\n",
       "[768 rows x 1 columns]"
      ]
     },
     "execution_count": 12,
     "metadata": {},
     "output_type": "execute_result"
    }
   ],
   "source": [
    "df1 = pd.DataFrame(stats.zscore(diabetes[\"Age\"]))\n",
    "df1"
   ]
  },
  {
   "cell_type": "code",
   "execution_count": 27,
   "id": "8ca3f6cc",
   "metadata": {},
   "outputs": [
    {
     "data": {
      "text/html": [
       "<div>\n",
       "<style scoped>\n",
       "    .dataframe tbody tr th:only-of-type {\n",
       "        vertical-align: middle;\n",
       "    }\n",
       "\n",
       "    .dataframe tbody tr th {\n",
       "        vertical-align: top;\n",
       "    }\n",
       "\n",
       "    .dataframe thead th {\n",
       "        text-align: right;\n",
       "    }\n",
       "</style>\n",
       "<table border=\"1\" class=\"dataframe\">\n",
       "  <thead>\n",
       "    <tr style=\"text-align: right;\">\n",
       "      <th></th>\n",
       "      <th>Age</th>\n",
       "    </tr>\n",
       "  </thead>\n",
       "  <tbody>\n",
       "    <tr>\n",
       "      <th>123</th>\n",
       "      <td>3.042663</td>\n",
       "    </tr>\n",
       "    <tr>\n",
       "      <th>453</th>\n",
       "      <td>3.297926</td>\n",
       "    </tr>\n",
       "    <tr>\n",
       "      <th>459</th>\n",
       "      <td>4.063716</td>\n",
       "    </tr>\n",
       "    <tr>\n",
       "      <th>666</th>\n",
       "      <td>3.127750</td>\n",
       "    </tr>\n",
       "    <tr>\n",
       "      <th>684</th>\n",
       "      <td>3.042663</td>\n",
       "    </tr>\n",
       "  </tbody>\n",
       "</table>\n",
       "</div>"
      ],
      "text/plain": [
       "          Age\n",
       "123  3.042663\n",
       "453  3.297926\n",
       "459  4.063716\n",
       "666  3.127750\n",
       "684  3.042663"
      ]
     },
     "execution_count": 27,
     "metadata": {},
     "output_type": "execute_result"
    }
   ],
   "source": [
    "df1[(df1[\"Age\"]>3) | (df1[\"Age\"]<-3)]"
   ]
  },
  {
   "cell_type": "code",
   "execution_count": 14,
   "id": "37ba9b2a",
   "metadata": {},
   "outputs": [
    {
     "data": {
      "text/html": [
       "<div>\n",
       "<style scoped>\n",
       "    .dataframe tbody tr th:only-of-type {\n",
       "        vertical-align: middle;\n",
       "    }\n",
       "\n",
       "    .dataframe tbody tr th {\n",
       "        vertical-align: top;\n",
       "    }\n",
       "\n",
       "    .dataframe thead th {\n",
       "        text-align: right;\n",
       "    }\n",
       "</style>\n",
       "<table border=\"1\" class=\"dataframe\">\n",
       "  <thead>\n",
       "    <tr style=\"text-align: right;\">\n",
       "      <th></th>\n",
       "      <th>Age</th>\n",
       "    </tr>\n",
       "  </thead>\n",
       "  <tbody>\n",
       "  </tbody>\n",
       "</table>\n",
       "</div>"
      ],
      "text/plain": [
       "Empty DataFrame\n",
       "Columns: [Age]\n",
       "Index: []"
      ]
     },
     "execution_count": 14,
     "metadata": {},
     "output_type": "execute_result"
    }
   ],
   "source": [
    "df1[df1[\"Age\"]<-3]"
   ]
  },
  {
   "cell_type": "code",
   "execution_count": 8,
   "id": "0e533f7b",
   "metadata": {},
   "outputs": [
    {
     "name": "stdout",
     "output_type": "stream",
     "text": [
      "0      1.425995\n",
      "1      0.190672\n",
      "2      0.105584\n",
      "3      1.041549\n",
      "4      0.020496\n",
      "         ...   \n",
      "763    2.532136\n",
      "764    0.531023\n",
      "765    0.275760\n",
      "766    1.170732\n",
      "767    0.871374\n",
      "Name: Age, Length: 768, dtype: float64\n"
     ]
    }
   ],
   "source": [
    "from scipy import stats \n",
    "z = np.abs(stats.zscore(diabetes[\"Age\"]))\n",
    "print(z)"
   ]
  },
  {
   "cell_type": "code",
   "execution_count": 9,
   "id": "aff582c4",
   "metadata": {},
   "outputs": [
    {
     "name": "stdout",
     "output_type": "stream",
     "text": [
      "(array([123, 453, 459, 666, 684], dtype=int64),)\n"
     ]
    }
   ],
   "source": [
    "threshold = 3\n",
    "print(np.where(z>3))"
   ]
  },
  {
   "cell_type": "code",
   "execution_count": 10,
   "id": "7dcdb43b",
   "metadata": {},
   "outputs": [
    {
     "name": "stdout",
     "output_type": "stream",
     "text": [
      "(array([], dtype=int64),)\n"
     ]
    }
   ],
   "source": [
    "threshold = -3\n",
    "print(np.where(z<-3))"
   ]
  },
  {
   "cell_type": "code",
   "execution_count": null,
   "id": "87ab73ec",
   "metadata": {},
   "outputs": [],
   "source": []
  },
  {
   "cell_type": "code",
   "execution_count": null,
   "id": "dd4485c4",
   "metadata": {},
   "outputs": [],
   "source": []
  },
  {
   "cell_type": "code",
   "execution_count": null,
   "id": "4dfd0a8b",
   "metadata": {
    "id": "4dfd0a8b",
    "outputId": "15fbab0e-f75e-45e9-81dc-499860643a2d"
   },
   "outputs": [
    {
     "data": {
      "text/plain": [
       "<matplotlib.legend.Legend at 0x20b3d7c0340>"
      ]
     },
     "execution_count": 3,
     "metadata": {},
     "output_type": "execute_result"
    },
    {
     "data": {
      "image/png": "[encoded data removed]",
      "text/plain": [
       "<Figure size 432x288 with 1 Axes>"
      ]
     },
     "metadata": {
      "needs_background": "light"
     },
     "output_type": "display_data"
    }
   ],
   "source": [
    "sns.histplot(data = diabetes['Age'], kde = True)\n",
    "plt.axvline(x=diabetes.Age.mean(),color='red',alpha=0.5,label='Mean')\n",
    "plt.axvline(x=diabetes.Age.median(),c='blue',ls='--',alpha=0.5,label='Median')\n",
    "plt.legend()"
   ]
  },
  {
   "cell_type": "code",
   "execution_count": null,
   "id": "d395f1b7",
   "metadata": {
    "id": "d395f1b7",
    "outputId": "4714ab1b-1529-45f7-f2be-1e3dfe8c935c"
   },
   "outputs": [
    {
     "data": {
      "text/plain": [
       "<AxesSubplot:ylabel='Age'>"
      ]
     },
     "execution_count": 4,
     "metadata": {},
     "output_type": "execute_result"
    },
    {
     "data": {
      "image/png": "[encoded data removed]",
      "text/plain": [
       "<Figure size 432x288 with 1 Axes>"
      ]
     },
     "metadata": {
      "needs_background": "light"
     },
     "output_type": "display_data"
    }
   ],
   "source": [
    "sns.boxplot(y=diabetes['Age'])"
   ]
  },
  {
   "cell_type": "markdown",
   "id": "ee4b5100",
   "metadata": {
    "id": "ee4b5100"
   },
   "source": [
    "### Approaches can be used"
   ]
  },
  {
   "cell_type": "markdown",
   "id": "368d6eea",
   "metadata": {
    "id": "368d6eea"
   },
   "source": [
    "- outlier replacements using computed **mean**. \n",
    "- outlier replacements using computed median. \n",
    "- outlier replacements using grouped mean, if classification approach. \n",
    "- outlier replacements using grouped median if classification approach. \n",
    "- outlier removal or the filling of missing values (Z score and/or IQR)"
   ]
  },
  {
   "cell_type": "markdown",
   "id": "4f93f075",
   "metadata": {
    "id": "4f93f075"
   },
   "source": [
    "**Z score**\n",
    "\n",
    "- Calculating standard normal distribution.\n",
    "- Describe any data point by finding the relationship between the mean and standard deviation of the data points.\n",
    "- It finds the data distribution where the mean is 0, and the standard deviation is 1.\n",
    "- if the Z-score value is greater than 3 or less than -3, respectively, that data point will be identified as an outlier.\n"
   ]
  },
  {
   "cell_type": "markdown",
   "id": "ab126a78",
   "metadata": {
    "id": "ab126a78"
   },
   "source": [
    "![Z_score_outlier_detection.jpeg](attachment:Z_score_outlier_detection.jpeg)\n"
   ]
  },
  {
   "cell_type": "code",
   "execution_count": null,
   "id": "822bbe1a",
   "metadata": {
    "id": "822bbe1a",
    "outputId": "9eb5008f-6d62-48a7-ae75-d2d687c1e98a"
   },
   "outputs": [
    {
     "name": "stdout",
     "output_type": "stream",
     "text": [
      "0      1.425995\n",
      "1      0.190672\n",
      "2      0.105584\n",
      "3      1.041549\n",
      "4      0.020496\n",
      "         ...   \n",
      "763    2.532136\n",
      "764    0.531023\n",
      "765    0.275760\n",
      "766    1.170732\n",
      "767    0.871374\n",
      "Name: Age, Length: 768, dtype: float64\n"
     ]
    }
   ],
   "source": [
    "z = np.abs(stats.zscore(diabetes['Age']))\n",
    "print(z)"
   ]
  },
  {
   "cell_type": "code",
   "execution_count": null,
   "id": "30fddb82",
   "metadata": {
    "id": "30fddb82",
    "outputId": "7d95ac8e-f54b-4390-cfcb-7f7c5eae065b"
   },
   "outputs": [
    {
     "name": "stdout",
     "output_type": "stream",
     "text": [
      "(array([123, 453, 459, 666, 684], dtype=int64),)\n"
     ]
    }
   ],
   "source": [
    "threshold = 3\n",
    "print(np.where(z > 3))"
   ]
  },
  {
   "cell_type": "code",
   "execution_count": null,
   "id": "5adc8de2",
   "metadata": {
    "id": "5adc8de2",
    "outputId": "f8f7e9be-10fe-4a57-d5e5-b39c4868d0f6"
   },
   "outputs": [
    {
     "name": "stdout",
     "output_type": "stream",
     "text": [
      "(array([], dtype=int64),)\n"
     ]
    }
   ],
   "source": [
    "threshold = -3\n",
    "print(np.where(z < -3))"
   ]
  },
  {
   "cell_type": "markdown",
   "id": "e532e068",
   "metadata": {
    "id": "e532e068"
   },
   "source": [
    "**IQR Score**"
   ]
  },
  {
   "cell_type": "markdown",
   "id": "55ffb6f4",
   "metadata": {
    "id": "55ffb6f4"
   },
   "source": [
    "![Outlier.png](attachment:Outlier.png)\n"
   ]
  },
  {
   "cell_type": "markdown",
   "id": "955a890d",
   "metadata": {
    "id": "955a890d"
   },
   "source": [
    "- data has been divided into quartiles (Q1, Q2, and Q3).\n",
    "    - 25th percentile of the data – Q1\n",
    "    - 50th percentile of the data – Q2 (Median)\n",
    "    - 75th percentile of the data – Q3\n",
    "    - lower limit for outliers are Q1 - 1.5 * IQR\n",
    "    - upper limit for outliers are Q3 + 1.5 * IQR"
   ]
  },
  {
   "cell_type": "code",
   "execution_count": 24,
   "id": "b9fc4438",
   "metadata": {},
   "outputs": [
    {
     "data": {
      "text/html": [
       "<div>\n",
       "<style scoped>\n",
       "    .dataframe tbody tr th:only-of-type {\n",
       "        vertical-align: middle;\n",
       "    }\n",
       "\n",
       "    .dataframe tbody tr th {\n",
       "        vertical-align: top;\n",
       "    }\n",
       "\n",
       "    .dataframe thead th {\n",
       "        text-align: right;\n",
       "    }\n",
       "</style>\n",
       "<table border=\"1\" class=\"dataframe\">\n",
       "  <thead>\n",
       "    <tr style=\"text-align: right;\">\n",
       "      <th></th>\n",
       "      <th>Pregnancies</th>\n",
       "      <th>Glucose</th>\n",
       "      <th>Blood Pressure</th>\n",
       "      <th>Skin Thickness</th>\n",
       "      <th>Insulin</th>\n",
       "      <th>BMI</th>\n",
       "      <th>Diabetes Pedigree Function</th>\n",
       "      <th>Age</th>\n",
       "      <th>Outcome</th>\n",
       "    </tr>\n",
       "  </thead>\n",
       "  <tbody>\n",
       "    <tr>\n",
       "      <th>123</th>\n",
       "      <td>5.0</td>\n",
       "      <td>132.0</td>\n",
       "      <td>80.0</td>\n",
       "      <td>0.0</td>\n",
       "      <td>0.0</td>\n",
       "      <td>26.8</td>\n",
       "      <td>0.186</td>\n",
       "      <td>69.0</td>\n",
       "      <td>0.0</td>\n",
       "    </tr>\n",
       "    <tr>\n",
       "      <th>363</th>\n",
       "      <td>4.0</td>\n",
       "      <td>146.0</td>\n",
       "      <td>78.0</td>\n",
       "      <td>0.0</td>\n",
       "      <td>0.0</td>\n",
       "      <td>38.5</td>\n",
       "      <td>0.520</td>\n",
       "      <td>67.0</td>\n",
       "      <td>1.0</td>\n",
       "    </tr>\n",
       "    <tr>\n",
       "      <th>453</th>\n",
       "      <td>2.0</td>\n",
       "      <td>119.0</td>\n",
       "      <td>0.0</td>\n",
       "      <td>0.0</td>\n",
       "      <td>0.0</td>\n",
       "      <td>19.6</td>\n",
       "      <td>0.832</td>\n",
       "      <td>72.0</td>\n",
       "      <td>0.0</td>\n",
       "    </tr>\n",
       "    <tr>\n",
       "      <th>459</th>\n",
       "      <td>9.0</td>\n",
       "      <td>134.0</td>\n",
       "      <td>74.0</td>\n",
       "      <td>33.0</td>\n",
       "      <td>60.0</td>\n",
       "      <td>25.9</td>\n",
       "      <td>0.460</td>\n",
       "      <td>81.0</td>\n",
       "      <td>0.0</td>\n",
       "    </tr>\n",
       "    <tr>\n",
       "      <th>489</th>\n",
       "      <td>8.0</td>\n",
       "      <td>194.0</td>\n",
       "      <td>80.0</td>\n",
       "      <td>0.0</td>\n",
       "      <td>0.0</td>\n",
       "      <td>26.1</td>\n",
       "      <td>0.551</td>\n",
       "      <td>67.0</td>\n",
       "      <td>0.0</td>\n",
       "    </tr>\n",
       "    <tr>\n",
       "      <th>537</th>\n",
       "      <td>0.0</td>\n",
       "      <td>57.0</td>\n",
       "      <td>60.0</td>\n",
       "      <td>0.0</td>\n",
       "      <td>0.0</td>\n",
       "      <td>21.7</td>\n",
       "      <td>0.735</td>\n",
       "      <td>67.0</td>\n",
       "      <td>0.0</td>\n",
       "    </tr>\n",
       "    <tr>\n",
       "      <th>666</th>\n",
       "      <td>4.0</td>\n",
       "      <td>145.0</td>\n",
       "      <td>82.0</td>\n",
       "      <td>18.0</td>\n",
       "      <td>0.0</td>\n",
       "      <td>32.5</td>\n",
       "      <td>0.235</td>\n",
       "      <td>70.0</td>\n",
       "      <td>1.0</td>\n",
       "    </tr>\n",
       "    <tr>\n",
       "      <th>674</th>\n",
       "      <td>8.0</td>\n",
       "      <td>91.0</td>\n",
       "      <td>82.0</td>\n",
       "      <td>0.0</td>\n",
       "      <td>0.0</td>\n",
       "      <td>35.6</td>\n",
       "      <td>0.587</td>\n",
       "      <td>68.0</td>\n",
       "      <td>0.0</td>\n",
       "    </tr>\n",
       "    <tr>\n",
       "      <th>684</th>\n",
       "      <td>5.0</td>\n",
       "      <td>136.0</td>\n",
       "      <td>82.0</td>\n",
       "      <td>0.0</td>\n",
       "      <td>0.0</td>\n",
       "      <td>0.0</td>\n",
       "      <td>0.640</td>\n",
       "      <td>69.0</td>\n",
       "      <td>0.0</td>\n",
       "    </tr>\n",
       "  </tbody>\n",
       "</table>\n",
       "</div>"
      ],
      "text/plain": [
       "      Pregnancies  Glucose  Blood Pressure  Skin Thickness  Insulin   BMI  \\\n",
       "123           5.0    132.0            80.0             0.0      0.0  26.8   \n",
       "363           4.0    146.0            78.0             0.0      0.0  38.5   \n",
       "453           2.0    119.0             0.0             0.0      0.0  19.6   \n",
       "459           9.0    134.0            74.0            33.0     60.0  25.9   \n",
       "489           8.0    194.0            80.0             0.0      0.0  26.1   \n",
       "537           0.0     57.0            60.0             0.0      0.0  21.7   \n",
       "666           4.0    145.0            82.0            18.0      0.0  32.5   \n",
       "674           8.0     91.0            82.0             0.0      0.0  35.6   \n",
       "684           5.0    136.0            82.0             0.0      0.0   0.0   \n",
       "\n",
       "     Diabetes Pedigree Function   Age  Outcome  \n",
       "123                       0.186  69.0      0.0  \n",
       "363                       0.520  67.0      1.0  \n",
       "453                       0.832  72.0      0.0  \n",
       "459                       0.460  81.0      0.0  \n",
       "489                       0.551  67.0      0.0  \n",
       "537                       0.735  67.0      0.0  \n",
       "666                       0.235  70.0      1.0  \n",
       "674                       0.587  68.0      0.0  \n",
       "684                       0.640  69.0      0.0  "
      ]
     },
     "execution_count": 24,
     "metadata": {},
     "output_type": "execute_result"
    }
   ],
   "source": [
    "#USing Pandas\n",
    "Q1 = diabetes[\"Age\"].quantile(0.25)\n",
    "Q2 = diabetes[\"Age\"].quantile(0.50)\n",
    "Q3 = diabetes[\"Age\"].quantile(0.75)\n",
    "\n",
    "IQR = Q3-Q1\n",
    "\n",
    "u_l = Q3+(1.5*IQR)\n",
    "l_l = Q1-(1.5*IQR)\n",
    "\n",
    "diabetes[(diabetes[\"Age\"]>u_l) | (diabetes[\"Age\"]<l_l)]"
   ]
  },
  {
   "cell_type": "code",
   "execution_count": 41,
   "id": "5bc24f90",
   "metadata": {},
   "outputs": [
    {
     "data": {
      "text/plain": [
       "Int64Index([123, 363, 453, 459, 489, 537, 666, 674, 684], dtype='int64')"
      ]
     },
     "execution_count": 41,
     "metadata": {},
     "output_type": "execute_result"
    }
   ],
   "source": [
    "diabetes[(diabetes[\"Age\"]>u_l) | (diabetes[\"Age\"]<l_l)].index"
   ]
  },
  {
   "cell_type": "code",
   "execution_count": 26,
   "id": "9091b6f4",
   "metadata": {},
   "outputs": [
    {
     "data": {
      "text/plain": [
       "9"
      ]
     },
     "execution_count": 26,
     "metadata": {},
     "output_type": "execute_result"
    }
   ],
   "source": [
    "len(diabetes[(diabetes[\"Age\"]>u_l) | (diabetes[\"Age\"]<l_l)])"
   ]
  },
  {
   "cell_type": "code",
   "execution_count": null,
   "id": "d5dbb1fb",
   "metadata": {},
   "outputs": [],
   "source": []
  },
  {
   "cell_type": "code",
   "execution_count": 18,
   "id": "46e27de4",
   "metadata": {
    "id": "46e27de4",
    "outputId": "3f518d31-9592-49de-dbf5-7a541b1e49e4"
   },
   "outputs": [
    {
     "name": "stdout",
     "output_type": "stream",
     "text": [
      "24.0,29.0,41.0\n"
     ]
    }
   ],
   "source": [
    "#USing Numpy\n",
    "Q1 = np.percentile(diabetes['Age'], 25)\n",
    "Q2 = np.percentile(diabetes['Age'], 50)  \n",
    "Q3 = np.percentile(diabetes['Age'], 75)\n",
    "\n",
    "print( f\"{Q1},{Q2},{Q3}\")"
   ]
  },
  {
   "cell_type": "code",
   "execution_count": 19,
   "id": "2f9e544b",
   "metadata": {
    "id": "2f9e544b",
    "outputId": "0addcbbb-28db-4431-9955-a85095a7703b"
   },
   "outputs": [
    {
     "name": "stdout",
     "output_type": "stream",
     "text": [
      "Interquartile range is 17.0\n",
      "low_limit is -1.5\n",
      "up_limit is 66.5\n",
      " outlier in the dataset is [69.0, 67.0, 72.0, 81.0, 67.0, 67.0, 70.0, 68.0, 69.0]\n"
     ]
    }
   ],
   "source": [
    "IQR = Q3 - Q1\n",
    "print('Interquartile range is', IQR)\n",
    "low_lim = Q1 - 1.5 * IQR\n",
    "up_lim = Q3 + 1.5 * IQR\n",
    "print('low_limit is', low_lim)\n",
    "print('up_limit is', up_lim)\n",
    "outlier =[]\n",
    "for x in diabetes['Age']:\n",
    "    if ((x> up_lim) or (x<low_lim)):\n",
    "         outlier.append(x)\n",
    "print(' outlier in the dataset is', outlier)"
   ]
  },
  {
   "cell_type": "markdown",
   "id": "2f19ba8d",
   "metadata": {},
   "source": [
    "#### Capping "
   ]
  },
  {
   "cell_type": "code",
   "execution_count": 38,
   "id": "c7029931",
   "metadata": {},
   "outputs": [
    {
     "name": "stdout",
     "output_type": "stream",
     "text": [
      "0      50.0\n",
      "1      31.0\n",
      "2      32.0\n",
      "3      21.0\n",
      "4      33.0\n",
      "       ... \n",
      "763    63.0\n",
      "764    27.0\n",
      "765    30.0\n",
      "766    47.0\n",
      "767    23.0\n",
      "Name: Age, Length: 768, dtype: float64\n"
     ]
    },
    {
     "name": "stderr",
     "output_type": "stream",
     "text": [
      "C:\\Users\\Expert\\anaconda3\\lib\\site-packages\\seaborn\\_decorators.py:36: FutureWarning: Pass the following variable as a keyword arg: x. From version 0.12, the only valid positional argument will be `data`, and passing other arguments without an explicit keyword will result in an error or misinterpretation.\n",
      "  warnings.warn(\n"
     ]
    },
    {
     "data": {
      "image/png": "[encoded data removed]",
      "text/plain": [
       "<Figure size 432x288 with 1 Axes>"
      ]
     },
     "metadata": {
      "needs_background": "light"
     },
     "output_type": "display_data"
    }
   ],
   "source": [
    "df2 = diabetes[\"Age\"].clip(lower=l_l, upper=u_l)  \n",
    "#replaceing left outliers with lower limit and right outliers with upper limit \n",
    "print(df2)\n",
    "sns.boxplot(diabetes[\"Age\"].clip(lower=l_l, upper=u_l))\n",
    "plt.show()"
   ]
  },
  {
   "cell_type": "markdown",
   "id": "1fbcbbbb",
   "metadata": {},
   "source": [
    "#### droping "
   ]
  },
  {
   "cell_type": "code",
   "execution_count": 42,
   "id": "55386de4",
   "metadata": {},
   "outputs": [],
   "source": [
    "df3 = diabetes.drop([123, 363, 453, 459, 489, 537, 666, 674, 684],axis=0) # dropped the outliers"
   ]
  },
  {
   "cell_type": "code",
   "execution_count": 47,
   "id": "b81afdf9",
   "metadata": {},
   "outputs": [
    {
     "name": "stdout",
     "output_type": "stream",
     "text": [
      "(759, 9),(768, 9)\n"
     ]
    }
   ],
   "source": [
    "print(f\"{df3.shape},{diabetes.shape}\") # dropped the outliers "
   ]
  },
  {
   "cell_type": "code",
   "execution_count": null,
   "id": "81249794",
   "metadata": {},
   "outputs": [],
   "source": [
    " "
   ]
  },
  {
   "cell_type": "code",
   "execution_count": null,
   "id": "16b51454",
   "metadata": {},
   "outputs": [],
   "source": []
  },
  {
   "cell_type": "markdown",
   "id": "431026dc",
   "metadata": {
    "id": "431026dc"
   },
   "source": [
    "### Capping\n",
    "Capping is a technique used to deal with outliers in a dataset. It involves setting a maximum or minimum value beyond which data points will not be plotted or included in calculations. This can help to minimize the impact of extreme values on the overall appearance or statistical analysis of the data. Capping can be done in different ways such as by replacing the outlier with the maximum or minimum value or by removing the outlier from the dataset entirely. It is important to note that capping should be used with caution as it can lead to loss of information."
   ]
  },
  {
   "cell_type": "markdown",
   "id": "169aabac",
   "metadata": {
    "id": "169aabac"
   },
   "source": [
    "In Python, capping can be achieved using various libraries such as Pandas, Numpy, and Scipy. One way to cap a dataset in pandas is to use the DataFrame.clip() method, which allows you to set a minimum and/or maximum value for each element in the dataframe. For example, the following code will set a minimum value of 0 and a maximum value of 100 for all elements in a dataframe called 'df':"
   ]
  },
  {
   "cell_type": "code",
   "execution_count": 30,
   "id": "ed36027f",
   "metadata": {
    "id": "ed36027f",
    "outputId": "6ce4e6b3-d277-4560-f9f6-de1d3e4caa50"
   },
   "outputs": [
    {
     "name": "stdout",
     "output_type": "stream",
     "text": [
      "    A    B    C\n",
      "0  35   15   20\n",
      "1  35   25   30\n",
      "2  35   35   40\n",
      "3  40   45   50\n",
      "4  50   55   60\n",
      "5  60   65   70\n",
      "6  70   75   80\n",
      "7  75   85   90\n",
      "8  75   95  100\n",
      "9  75  105  110\n"
     ]
    }
   ],
   "source": [
    "import pandas as pd\n",
    "import numpy as np\n",
    "# Creating a sample dataframe\n",
    "df = pd.DataFrame({\n",
    "    'A': [10, 20, 30, 40, 50, 60, 70, 80, 90, 100],\n",
    "    'B': [15, 25, 35, 45, 55, 65, 75, 85, 95, 105],\n",
    "    'C': [20, 30, 40, 50, 60, 70, 80, 90, 100, 110]\n",
    "})\n",
    "\n",
    "# Capping the values of the dataframe by setting a maximum and minimum value\n",
    "df[\"A\"] = df[\"A\"].clip(lower=35, upper=75)\n",
    "\n",
    "print(df)"
   ]
  },
  {
   "cell_type": "code",
   "execution_count": 31,
   "id": "acbb6714",
   "metadata": {},
   "outputs": [
    {
     "name": "stdout",
     "output_type": "stream",
     "text": [
      "    A   B    C\n",
      "0  35  35   20\n",
      "1  35  35   30\n",
      "2  35  35   40\n",
      "3  40  45   50\n",
      "4  50  55   60\n",
      "5  60  65   70\n",
      "6  70  75   80\n",
      "7  75  75   90\n",
      "8  75  75  100\n",
      "9  75  75  110\n"
     ]
    }
   ],
   "source": [
    "df[\"B\"] = df[\"B\"].clip(lower=35, upper=75)\n",
    "\n",
    "print(df)"
   ]
  },
  {
   "cell_type": "code",
   "execution_count": 32,
   "id": "1987c825",
   "metadata": {},
   "outputs": [
    {
     "name": "stdout",
     "output_type": "stream",
     "text": [
      "    A   B   C\n",
      "0  35  35  35\n",
      "1  35  35  35\n",
      "2  35  35  40\n",
      "3  40  45  50\n",
      "4  50  55  60\n",
      "5  60  65  70\n",
      "6  70  75  75\n",
      "7  75  75  75\n",
      "8  75  75  75\n",
      "9  75  75  75\n"
     ]
    }
   ],
   "source": [
    "df[\"C\"] = df[\"C\"].clip(lower=35, upper=75)\n",
    "\n",
    "print(df)"
   ]
  },
  {
   "cell_type": "markdown",
   "id": "067e5fe1",
   "metadata": {
    "id": "067e5fe1"
   },
   "source": [
    "As you can see in this case, any value below 35 and above 75 has been replaced by 35 and 75 respectively.\n",
    "It's important to note that this process is a trade-off between preserving the integrity of the data and removing the extreme values that may cause a bias in the analysis, so it's important to evaluate the suitability of the capping in each case."
   ]
  },
  {
   "cell_type": "markdown",
   "id": "e3075fd0",
   "metadata": {
    "id": "e3075fd0"
   },
   "source": [
    "### Mahalanobis distance\n",
    "The Mahalanobis distance is a distance meaasure between a point and a distribution. It takes into account the correlation between the variables. "
   ]
  },
  {
   "cell_type": "code",
   "execution_count": null,
   "id": "7e44f46c",
   "metadata": {
    "id": "7e44f46c"
   },
   "outputs": [],
   "source": []
  }
 ],
 "metadata": {
  "colab": {
   "provenance": []
  },
  "kernelspec": {
   "display_name": "Python 3 (ipykernel)",
   "language": "python",
   "name": "python3"
  },
  "language_info": {
   "codemirror_mode": {
    "name": "ipython",
    "version": 3
   },
   "file_extension": ".py",
   "mimetype": "text/x-python",
   "name": "python",
   "nbconvert_exporter": "python",
   "pygments_lexer": "ipython3",
   "version": "3.9.7"
  }
 },
 "nbformat": 4,
 "nbformat_minor": 5
}
