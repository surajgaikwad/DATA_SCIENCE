{
 "cells": [
  {
   "cell_type": "markdown",
   "id": "da686de0",
   "metadata": {
    "id": "da686de0"
   },
   "source": [
    "# Descriptive Statistics review"
   ]
  },
  {
   "cell_type": "markdown",
   "id": "4297972b",
   "metadata": {
    "id": "4297972b"
   },
   "source": [
    "## Sampling techniques\n",
    "- To avoid bias in a study\n",
    "- If there is any bias, results will not be interpretable."
   ]
  },
  {
   "cell_type": "markdown",
   "id": "cSfviV_7Ftoh",
   "metadata": {
    "id": "cSfviV_7Ftoh"
   },
   "source": []
  },
  {
   "cell_type": "markdown",
   "id": "00c542b6",
   "metadata": {
    "id": "00c542b6"
   },
   "source": [
    "## Numerical Measures"
   ]
  },
  {
   "cell_type": "markdown",
   "id": "0ef81079",
   "metadata": {
    "id": "0ef81079"
   },
   "source": [
    "### Measures of Central Tendency\n",
    "- Mean (Average value, \n",
    "- Median\n",
    "- Mode"
   ]
  },
  {
   "cell_type": "markdown",
   "id": "901b10c9",
   "metadata": {
    "id": "901b10c9"
   },
   "source": [
    "### Measures of Dispersion\n",
    "- Interquartile range\n",
    "- Variance\n",
    "- Standard deviation"
   ]
  },
  {
   "cell_type": "markdown",
   "id": "03cd3588",
   "metadata": {
    "id": "03cd3588"
   },
   "source": [
    "## Skewness"
   ]
  },
  {
   "cell_type": "markdown",
   "id": "d9fba986",
   "metadata": {
    "id": "d9fba986"
   },
   "source": [
    "## Normal distribution"
   ]
  },
  {
   "cell_type": "code",
   "execution_count": 42,
   "id": "50efa814",
   "metadata": {
    "id": "50efa814"
   },
   "outputs": [],
   "source": [
    "# Importing libraries\n",
    "import numpy as np\n",
    "import pandas as pd"
   ]
  },
  {
   "cell_type": "code",
   "execution_count": 43,
   "id": "48b27ad7",
   "metadata": {
    "id": "48b27ad7",
    "scrolled": true
   },
   "outputs": [
    {
     "data": {
      "text/html": [
       "<div>\n",
       "<style scoped>\n",
       "    .dataframe tbody tr th:only-of-type {\n",
       "        vertical-align: middle;\n",
       "    }\n",
       "\n",
       "    .dataframe tbody tr th {\n",
       "        vertical-align: top;\n",
       "    }\n",
       "\n",
       "    .dataframe thead th {\n",
       "        text-align: right;\n",
       "    }\n",
       "</style>\n",
       "<table border=\"1\" class=\"dataframe\">\n",
       "  <thead>\n",
       "    <tr style=\"text-align: right;\">\n",
       "      <th></th>\n",
       "      <th>studyName</th>\n",
       "      <th>Sample Number</th>\n",
       "      <th>Species</th>\n",
       "      <th>Region</th>\n",
       "      <th>Island</th>\n",
       "      <th>Stage</th>\n",
       "      <th>Individual ID</th>\n",
       "      <th>Clutch Completion</th>\n",
       "      <th>Date Egg</th>\n",
       "      <th>Culmen Length (mm)</th>\n",
       "      <th>Culmen Depth (mm)</th>\n",
       "      <th>Flipper Length (mm)</th>\n",
       "      <th>Body Mass (g)</th>\n",
       "      <th>Sex</th>\n",
       "      <th>Delta 15 N (o/oo)</th>\n",
       "      <th>Delta 13 C (o/oo)</th>\n",
       "      <th>Comments</th>\n",
       "    </tr>\n",
       "  </thead>\n",
       "  <tbody>\n",
       "    <tr>\n",
       "      <th>0</th>\n",
       "      <td>PAL0708</td>\n",
       "      <td>1.0</td>\n",
       "      <td>Adelie Penguin (Pygoscelis adeliae)</td>\n",
       "      <td>Anvers</td>\n",
       "      <td>Torgersen</td>\n",
       "      <td>Adult, 1 Egg Stage</td>\n",
       "      <td>N1A1</td>\n",
       "      <td>Yes</td>\n",
       "      <td>2007-11-11</td>\n",
       "      <td>NaN</td>\n",
       "      <td>NaN</td>\n",
       "      <td>181.0</td>\n",
       "      <td>3750.0</td>\n",
       "      <td>MALE</td>\n",
       "      <td>NaN</td>\n",
       "      <td>NaN</td>\n",
       "      <td>Not enough blood for isotopes.</td>\n",
       "    </tr>\n",
       "    <tr>\n",
       "      <th>1</th>\n",
       "      <td>PAL0708</td>\n",
       "      <td>2.0</td>\n",
       "      <td>Adelie Penguin (Pygoscelis adeliae)</td>\n",
       "      <td>Anvers</td>\n",
       "      <td>Torgersen</td>\n",
       "      <td>Adult, 1 Egg Stage</td>\n",
       "      <td>N1A2</td>\n",
       "      <td>Yes</td>\n",
       "      <td>2007-11-11</td>\n",
       "      <td>39.5</td>\n",
       "      <td>17.4</td>\n",
       "      <td>186.0</td>\n",
       "      <td>3800.0</td>\n",
       "      <td>FEMALE</td>\n",
       "      <td>8.94956</td>\n",
       "      <td>-24.69454</td>\n",
       "      <td>NaN</td>\n",
       "    </tr>\n",
       "    <tr>\n",
       "      <th>2</th>\n",
       "      <td>PAL0708</td>\n",
       "      <td>3.0</td>\n",
       "      <td>Adelie Penguin (Pygoscelis adeliae)</td>\n",
       "      <td>Anvers</td>\n",
       "      <td>Torgersen</td>\n",
       "      <td>Adult, 1 Egg Stage</td>\n",
       "      <td>N2A1</td>\n",
       "      <td>Yes</td>\n",
       "      <td>2007-11-16</td>\n",
       "      <td>40.3</td>\n",
       "      <td>18.0</td>\n",
       "      <td>195.0</td>\n",
       "      <td>3250.0</td>\n",
       "      <td>FEMALE</td>\n",
       "      <td>8.36821</td>\n",
       "      <td>-25.33302</td>\n",
       "      <td>NaN</td>\n",
       "    </tr>\n",
       "    <tr>\n",
       "      <th>3</th>\n",
       "      <td>PAL0708</td>\n",
       "      <td>4.0</td>\n",
       "      <td>Adelie Penguin (Pygoscelis adeliae)</td>\n",
       "      <td>Anvers</td>\n",
       "      <td>Torgersen</td>\n",
       "      <td>Adult, 1 Egg Stage</td>\n",
       "      <td>N2A2</td>\n",
       "      <td>Yes</td>\n",
       "      <td>2007-11-16</td>\n",
       "      <td>NaN</td>\n",
       "      <td>NaN</td>\n",
       "      <td>NaN</td>\n",
       "      <td>.</td>\n",
       "      <td>NaN</td>\n",
       "      <td>NaN</td>\n",
       "      <td>NaN</td>\n",
       "      <td>Adult not sampled.</td>\n",
       "    </tr>\n",
       "    <tr>\n",
       "      <th>4</th>\n",
       "      <td>PAL0708</td>\n",
       "      <td>5.0</td>\n",
       "      <td>Adelie Penguin (Pygoscelis adeliae)</td>\n",
       "      <td>Anvers</td>\n",
       "      <td>Torgersen</td>\n",
       "      <td>Adult, 1 Egg Stage</td>\n",
       "      <td>N3A1</td>\n",
       "      <td>Yes</td>\n",
       "      <td>2007-11-16</td>\n",
       "      <td>36.7</td>\n",
       "      <td>19.3</td>\n",
       "      <td>193.0</td>\n",
       "      <td>3450.0</td>\n",
       "      <td>FEMALE</td>\n",
       "      <td>8.76651</td>\n",
       "      <td>-25.32426</td>\n",
       "      <td>NaN</td>\n",
       "    </tr>\n",
       "  </tbody>\n",
       "</table>\n",
       "</div>"
      ],
      "text/plain": [
       "  studyName  Sample Number                              Species  Region  \\\n",
       "0   PAL0708            1.0  Adelie Penguin (Pygoscelis adeliae)  Anvers   \n",
       "1   PAL0708            2.0  Adelie Penguin (Pygoscelis adeliae)  Anvers   \n",
       "2   PAL0708            3.0  Adelie Penguin (Pygoscelis adeliae)  Anvers   \n",
       "3   PAL0708            4.0  Adelie Penguin (Pygoscelis adeliae)  Anvers   \n",
       "4   PAL0708            5.0  Adelie Penguin (Pygoscelis adeliae)  Anvers   \n",
       "\n",
       "      Island               Stage Individual ID Clutch Completion   Date Egg  \\\n",
       "0  Torgersen  Adult, 1 Egg Stage          N1A1               Yes 2007-11-11   \n",
       "1  Torgersen  Adult, 1 Egg Stage          N1A2               Yes 2007-11-11   \n",
       "2  Torgersen  Adult, 1 Egg Stage          N2A1               Yes 2007-11-16   \n",
       "3  Torgersen  Adult, 1 Egg Stage          N2A2               Yes 2007-11-16   \n",
       "4  Torgersen  Adult, 1 Egg Stage          N3A1               Yes 2007-11-16   \n",
       "\n",
       "   Culmen Length (mm)  Culmen Depth (mm)  Flipper Length (mm) Body Mass (g)  \\\n",
       "0                 NaN                NaN                181.0        3750.0   \n",
       "1                39.5               17.4                186.0        3800.0   \n",
       "2                40.3               18.0                195.0        3250.0   \n",
       "3                 NaN                NaN                  NaN             .   \n",
       "4                36.7               19.3                193.0        3450.0   \n",
       "\n",
       "      Sex  Delta 15 N (o/oo)  Delta 13 C (o/oo)  \\\n",
       "0    MALE                NaN                NaN   \n",
       "1  FEMALE            8.94956          -24.69454   \n",
       "2  FEMALE            8.36821          -25.33302   \n",
       "3     NaN                NaN                NaN   \n",
       "4  FEMALE            8.76651          -25.32426   \n",
       "\n",
       "                         Comments  \n",
       "0  Not enough blood for isotopes.  \n",
       "1                             NaN  \n",
       "2                             NaN  \n",
       "3              Adult not sampled.  \n",
       "4                             NaN  "
      ]
     },
     "execution_count": 43,
     "metadata": {},
     "output_type": "execute_result"
    }
   ],
   "source": [
    "penguin_raw = pd.read_excel('ML101 Dataset_2 penguin_manipulated_data_set.xlsx') # reading dataset\n",
    "penguin = penguin_raw.copy() # creating a new copy\n",
    "penguin.head()"
   ]
  },
  {
   "cell_type": "code",
   "execution_count": 44,
   "id": "8dfa4acd",
   "metadata": {
    "id": "8dfa4acd"
   },
   "outputs": [],
   "source": [
    "# Dropping few columns\n",
    "penguin = penguin.drop(['studyName', 'Sample Number', 'Stage', 'Region', 'Date Egg', 'Individual ID', 'Delta 15 N (o/oo)', 'Delta 13 C (o/oo)', 'Comments'], axis = 1)"
   ]
  },
  {
   "cell_type": "code",
   "execution_count": 45,
   "id": "689ffd8b",
   "metadata": {
    "id": "689ffd8b",
    "outputId": "298b4bf7-5844-4da8-aa43-b13190af080f"
   },
   "outputs": [
    {
     "data": {
      "text/html": [
       "<div>\n",
       "<style scoped>\n",
       "    .dataframe tbody tr th:only-of-type {\n",
       "        vertical-align: middle;\n",
       "    }\n",
       "\n",
       "    .dataframe tbody tr th {\n",
       "        vertical-align: top;\n",
       "    }\n",
       "\n",
       "    .dataframe thead th {\n",
       "        text-align: right;\n",
       "    }\n",
       "</style>\n",
       "<table border=\"1\" class=\"dataframe\">\n",
       "  <thead>\n",
       "    <tr style=\"text-align: right;\">\n",
       "      <th></th>\n",
       "      <th>Species</th>\n",
       "      <th>Island</th>\n",
       "      <th>Clutch Completion</th>\n",
       "      <th>Culmen Length (mm)</th>\n",
       "      <th>Culmen Depth (mm)</th>\n",
       "      <th>Flipper Length (mm)</th>\n",
       "      <th>Body Mass (g)</th>\n",
       "      <th>Sex</th>\n",
       "    </tr>\n",
       "  </thead>\n",
       "  <tbody>\n",
       "    <tr>\n",
       "      <th>count</th>\n",
       "      <td>344</td>\n",
       "      <td>344</td>\n",
       "      <td>344</td>\n",
       "      <td>288.000000</td>\n",
       "      <td>235.000000</td>\n",
       "      <td>337.000000</td>\n",
       "      <td>344.0</td>\n",
       "      <td>334</td>\n",
       "    </tr>\n",
       "    <tr>\n",
       "      <th>unique</th>\n",
       "      <td>3</td>\n",
       "      <td>3</td>\n",
       "      <td>2</td>\n",
       "      <td>NaN</td>\n",
       "      <td>NaN</td>\n",
       "      <td>NaN</td>\n",
       "      <td>96.0</td>\n",
       "      <td>3</td>\n",
       "    </tr>\n",
       "    <tr>\n",
       "      <th>top</th>\n",
       "      <td>Adelie Penguin (Pygoscelis adeliae)</td>\n",
       "      <td>Biscoe</td>\n",
       "      <td>Yes</td>\n",
       "      <td>NaN</td>\n",
       "      <td>NaN</td>\n",
       "      <td>NaN</td>\n",
       "      <td>3800.0</td>\n",
       "      <td>MALE</td>\n",
       "    </tr>\n",
       "    <tr>\n",
       "      <th>freq</th>\n",
       "      <td>152</td>\n",
       "      <td>168</td>\n",
       "      <td>308</td>\n",
       "      <td>NaN</td>\n",
       "      <td>NaN</td>\n",
       "      <td>NaN</td>\n",
       "      <td>11.0</td>\n",
       "      <td>168</td>\n",
       "    </tr>\n",
       "    <tr>\n",
       "      <th>mean</th>\n",
       "      <td>NaN</td>\n",
       "      <td>NaN</td>\n",
       "      <td>NaN</td>\n",
       "      <td>44.429514</td>\n",
       "      <td>17.195745</td>\n",
       "      <td>200.925816</td>\n",
       "      <td>NaN</td>\n",
       "      <td>NaN</td>\n",
       "    </tr>\n",
       "    <tr>\n",
       "      <th>std</th>\n",
       "      <td>NaN</td>\n",
       "      <td>NaN</td>\n",
       "      <td>NaN</td>\n",
       "      <td>5.262364</td>\n",
       "      <td>2.003539</td>\n",
       "      <td>14.069888</td>\n",
       "      <td>NaN</td>\n",
       "      <td>NaN</td>\n",
       "    </tr>\n",
       "    <tr>\n",
       "      <th>min</th>\n",
       "      <td>NaN</td>\n",
       "      <td>NaN</td>\n",
       "      <td>NaN</td>\n",
       "      <td>32.100000</td>\n",
       "      <td>13.200000</td>\n",
       "      <td>172.000000</td>\n",
       "      <td>NaN</td>\n",
       "      <td>NaN</td>\n",
       "    </tr>\n",
       "    <tr>\n",
       "      <th>25%</th>\n",
       "      <td>NaN</td>\n",
       "      <td>NaN</td>\n",
       "      <td>NaN</td>\n",
       "      <td>40.200000</td>\n",
       "      <td>15.550000</td>\n",
       "      <td>190.000000</td>\n",
       "      <td>NaN</td>\n",
       "      <td>NaN</td>\n",
       "    </tr>\n",
       "    <tr>\n",
       "      <th>50%</th>\n",
       "      <td>NaN</td>\n",
       "      <td>NaN</td>\n",
       "      <td>NaN</td>\n",
       "      <td>45.300000</td>\n",
       "      <td>17.500000</td>\n",
       "      <td>197.000000</td>\n",
       "      <td>NaN</td>\n",
       "      <td>NaN</td>\n",
       "    </tr>\n",
       "    <tr>\n",
       "      <th>75%</th>\n",
       "      <td>NaN</td>\n",
       "      <td>NaN</td>\n",
       "      <td>NaN</td>\n",
       "      <td>49.000000</td>\n",
       "      <td>18.800000</td>\n",
       "      <td>213.000000</td>\n",
       "      <td>NaN</td>\n",
       "      <td>NaN</td>\n",
       "    </tr>\n",
       "    <tr>\n",
       "      <th>max</th>\n",
       "      <td>NaN</td>\n",
       "      <td>NaN</td>\n",
       "      <td>NaN</td>\n",
       "      <td>58.000000</td>\n",
       "      <td>21.500000</td>\n",
       "      <td>231.000000</td>\n",
       "      <td>NaN</td>\n",
       "      <td>NaN</td>\n",
       "    </tr>\n",
       "  </tbody>\n",
       "</table>\n",
       "</div>"
      ],
      "text/plain": [
       "                                    Species  Island Clutch Completion  \\\n",
       "count                                   344     344               344   \n",
       "unique                                    3       3                 2   \n",
       "top     Adelie Penguin (Pygoscelis adeliae)  Biscoe               Yes   \n",
       "freq                                    152     168               308   \n",
       "mean                                    NaN     NaN               NaN   \n",
       "std                                     NaN     NaN               NaN   \n",
       "min                                     NaN     NaN               NaN   \n",
       "25%                                     NaN     NaN               NaN   \n",
       "50%                                     NaN     NaN               NaN   \n",
       "75%                                     NaN     NaN               NaN   \n",
       "max                                     NaN     NaN               NaN   \n",
       "\n",
       "        Culmen Length (mm)  Culmen Depth (mm)  Flipper Length (mm)  \\\n",
       "count           288.000000         235.000000           337.000000   \n",
       "unique                 NaN                NaN                  NaN   \n",
       "top                    NaN                NaN                  NaN   \n",
       "freq                   NaN                NaN                  NaN   \n",
       "mean             44.429514          17.195745           200.925816   \n",
       "std               5.262364           2.003539            14.069888   \n",
       "min              32.100000          13.200000           172.000000   \n",
       "25%              40.200000          15.550000           190.000000   \n",
       "50%              45.300000          17.500000           197.000000   \n",
       "75%              49.000000          18.800000           213.000000   \n",
       "max              58.000000          21.500000           231.000000   \n",
       "\n",
       "        Body Mass (g)   Sex  \n",
       "count           344.0   334  \n",
       "unique           96.0     3  \n",
       "top            3800.0  MALE  \n",
       "freq             11.0   168  \n",
       "mean              NaN   NaN  \n",
       "std               NaN   NaN  \n",
       "min               NaN   NaN  \n",
       "25%               NaN   NaN  \n",
       "50%               NaN   NaN  \n",
       "75%               NaN   NaN  \n",
       "max               NaN   NaN  "
      ]
     },
     "execution_count": 45,
     "metadata": {},
     "output_type": "execute_result"
    }
   ],
   "source": [
    "penguin.describe(include='all') "
   ]
  },
  {
   "cell_type": "code",
   "execution_count": 46,
   "id": "1513ebbd",
   "metadata": {},
   "outputs": [
    {
     "data": {
      "text/plain": [
       "44.42951388888888"
      ]
     },
     "execution_count": 46,
     "metadata": {},
     "output_type": "execute_result"
    }
   ],
   "source": [
    "penguin['Culmen Length (mm)'].mean()"
   ]
  },
  {
   "cell_type": "code",
   "execution_count": 47,
   "id": "2c103c95",
   "metadata": {
    "id": "2c103c95",
    "outputId": "2986873f-67a2-4f4f-ad9c-acad560aee1a",
    "scrolled": true
   },
   "outputs": [
    {
     "name": "stderr",
     "output_type": "stream",
     "text": [
      "C:\\Users\\Expert\\AppData\\Local\\Temp/ipykernel_14280/4205592437.py:1: FutureWarning: Dropping of nuisance columns in DataFrame reductions (with 'numeric_only=None') is deprecated; in a future version this will raise TypeError.  Select only valid columns before calling the reduction.\n",
      "  penguin.skew() # to examine skewness\n"
     ]
    },
    {
     "data": {
      "text/plain": [
       "Culmen Length (mm)    -0.157126\n",
       "Culmen Depth (mm)     -0.134342\n",
       "Flipper Length (mm)    0.341849\n",
       "dtype: float64"
      ]
     },
     "execution_count": 47,
     "metadata": {},
     "output_type": "execute_result"
    }
   ],
   "source": [
    "penguin.skew() # to examine skewness"
   ]
  },
  {
   "cell_type": "code",
   "execution_count": 48,
   "id": "bbf24de0",
   "metadata": {
    "id": "bbf24de0",
    "outputId": "7df64075-cdc8-4dcc-8a2c-3185f18fe403"
   },
   "outputs": [
    {
     "name": "stderr",
     "output_type": "stream",
     "text": [
      "C:\\Users\\Expert\\AppData\\Local\\Temp/ipykernel_14280/348940119.py:1: FutureWarning: Dropping of nuisance columns in DataFrame reductions (with 'numeric_only=None') is deprecated; in a future version this will raise TypeError.  Select only valid columns before calling the reduction.\n",
      "  penguin.mean()\n"
     ]
    },
    {
     "data": {
      "text/plain": [
       "Culmen Length (mm)      44.429514\n",
       "Culmen Depth (mm)       17.195745\n",
       "Flipper Length (mm)    200.925816\n",
       "dtype: float64"
      ]
     },
     "execution_count": 48,
     "metadata": {},
     "output_type": "execute_result"
    }
   ],
   "source": [
    "penguin.mean()"
   ]
  },
  {
   "cell_type": "code",
   "execution_count": 49,
   "id": "ab8436ec",
   "metadata": {
    "id": "ab8436ec",
    "outputId": "b9e37c11-a3c5-4dd0-e402-f2d5ebdbe9e5"
   },
   "outputs": [
    {
     "name": "stderr",
     "output_type": "stream",
     "text": [
      "C:\\Users\\Expert\\AppData\\Local\\Temp/ipykernel_14280/3660690124.py:1: FutureWarning: Dropping of nuisance columns in DataFrame reductions (with 'numeric_only=None') is deprecated; in a future version this will raise TypeError.  Select only valid columns before calling the reduction.\n",
      "  penguin.median()\n"
     ]
    },
    {
     "data": {
      "text/plain": [
       "Culmen Length (mm)      45.3\n",
       "Culmen Depth (mm)       17.5\n",
       "Flipper Length (mm)    197.0\n",
       "dtype: float64"
      ]
     },
     "execution_count": 49,
     "metadata": {},
     "output_type": "execute_result"
    }
   ],
   "source": [
    "penguin.median()"
   ]
  },
  {
   "cell_type": "code",
   "execution_count": 50,
   "id": "1bb00c55",
   "metadata": {
    "id": "1bb00c55",
    "outputId": "2a109058-c168-4d51-ba75-6c064f2b237b"
   },
   "outputs": [
    {
     "data": {
      "text/plain": [
       "0    Adelie Penguin (Pygoscelis adeliae)\n",
       "dtype: object"
      ]
     },
     "execution_count": 50,
     "metadata": {},
     "output_type": "execute_result"
    }
   ],
   "source": [
    "penguin[\"Species\"].mode()"
   ]
  },
  {
   "cell_type": "code",
   "execution_count": 51,
   "id": "ccdb0500",
   "metadata": {
    "id": "ccdb0500",
    "outputId": "7a70433b-8729-4d92-f4ee-7249fc42f816"
   },
   "outputs": [
    {
     "name": "stderr",
     "output_type": "stream",
     "text": [
      "C:\\Users\\Expert\\AppData\\Local\\Temp/ipykernel_14280/3090176597.py:1: FutureWarning: Dropping of nuisance columns in DataFrame reductions (with 'numeric_only=None') is deprecated; in a future version this will raise TypeError.  Select only valid columns before calling the reduction.\n",
      "  penguin.var()\n"
     ]
    },
    {
     "data": {
      "text/plain": [
       "Culmen Length (mm)      27.692471\n",
       "Culmen Depth (mm)        4.014170\n",
       "Flipper Length (mm)    197.961742\n",
       "dtype: float64"
      ]
     },
     "execution_count": 51,
     "metadata": {},
     "output_type": "execute_result"
    }
   ],
   "source": [
    "penguin.var()"
   ]
  },
  {
   "cell_type": "code",
   "execution_count": 52,
   "id": "e61373ed",
   "metadata": {
    "id": "e61373ed",
    "outputId": "6ed936ea-38e7-4026-9c30-db19167d9fce"
   },
   "outputs": [
    {
     "name": "stderr",
     "output_type": "stream",
     "text": [
      "C:\\Users\\Expert\\AppData\\Local\\Temp/ipykernel_14280/4182437139.py:1: FutureWarning: Dropping of nuisance columns in DataFrame reductions (with 'numeric_only=None') is deprecated; in a future version this will raise TypeError.  Select only valid columns before calling the reduction.\n",
      "  penguin.std()\n"
     ]
    },
    {
     "data": {
      "text/plain": [
       "Culmen Length (mm)      5.262364\n",
       "Culmen Depth (mm)       2.003539\n",
       "Flipper Length (mm)    14.069888\n",
       "dtype: float64"
      ]
     },
     "execution_count": 52,
     "metadata": {},
     "output_type": "execute_result"
    }
   ],
   "source": [
    "penguin.std()"
   ]
  },
  {
   "cell_type": "code",
   "execution_count": 53,
   "id": "538e45dc",
   "metadata": {},
   "outputs": [
    {
     "name": "stderr",
     "output_type": "stream",
     "text": [
      "C:\\Users\\Expert\\AppData\\Local\\Temp/ipykernel_14280/1205244670.py:1: FutureWarning: Dropping of nuisance columns in DataFrame reductions (with 'numeric_only=None') is deprecated; in a future version this will raise TypeError.  Select only valid columns before calling the reduction.\n",
      "  penguin.skew()\n"
     ]
    },
    {
     "data": {
      "text/plain": [
       "Culmen Length (mm)    -0.157126\n",
       "Culmen Depth (mm)     -0.134342\n",
       "Flipper Length (mm)    0.341849\n",
       "dtype: float64"
      ]
     },
     "execution_count": 53,
     "metadata": {},
     "output_type": "execute_result"
    }
   ],
   "source": [
    "penguin.skew()"
   ]
  },
  {
   "cell_type": "code",
   "execution_count": 54,
   "id": "08876445",
   "metadata": {},
   "outputs": [
    {
     "data": {
      "text/plain": [
       "<AxesSubplot:xlabel='Culmen Length (mm)', ylabel='Density'>"
      ]
     },
     "execution_count": 54,
     "metadata": {},
     "output_type": "execute_result"
    },
    {
     "data": {
      "image/png": "[encoded data removed]",
      "text/plain": [
       "<Figure size 432x288 with 1 Axes>"
      ]
     },
     "metadata": {
      "needs_background": "light"
     },
     "output_type": "display_data"
    }
   ],
   "source": [
    "import seaborn as sns\n",
    "sns.kdeplot(penguin['Culmen Length (mm)']) #kde - kernel density estimation"
   ]
  },
  {
   "cell_type": "code",
   "execution_count": 55,
   "id": "f97554cb",
   "metadata": {},
   "outputs": [
    {
     "data": {
      "text/plain": [
       "<seaborn.axisgrid.FacetGrid at 0x1c8a9395fa0>"
      ]
     },
     "execution_count": 55,
     "metadata": {},
     "output_type": "execute_result"
    },
    {
     "data": {
      "image/png": "[encoded data removed]",
      "text/plain": [
       "<Figure size 360x360 with 1 Axes>"
      ]
     },
     "metadata": {
      "needs_background": "light"
     },
     "output_type": "display_data"
    }
   ],
   "source": [
    "sns.displot(penguin['Culmen Length (mm)'],kde=True)"
   ]
  },
  {
   "cell_type": "code",
   "execution_count": 56,
   "id": "bbf78a8c",
   "metadata": {},
   "outputs": [
    {
     "data": {
      "text/plain": [
       "<AxesSubplot:xlabel='Culmen Depth (mm)', ylabel='Density'>"
      ]
     },
     "execution_count": 56,
     "metadata": {},
     "output_type": "execute_result"
    },
    {
     "data": {
      "image/png": "[encoded data removed]",
      "text/plain": [
       "<Figure size 432x288 with 1 Axes>"
      ]
     },
     "metadata": {
      "needs_background": "light"
     },
     "output_type": "display_data"
    }
   ],
   "source": [
    "sns.kdeplot(penguin['Culmen Depth (mm)'])"
   ]
  },
  {
   "cell_type": "code",
   "execution_count": 57,
   "id": "858f222a",
   "metadata": {},
   "outputs": [
    {
     "data": {
      "text/plain": [
       "<seaborn.axisgrid.FacetGrid at 0x1c8a9433b80>"
      ]
     },
     "execution_count": 57,
     "metadata": {},
     "output_type": "execute_result"
    },
    {
     "data": {
      "image/png": "[encoded data removed]",
      "text/plain": [
       "<Figure size 360x360 with 1 Axes>"
      ]
     },
     "metadata": {
      "needs_background": "light"
     },
     "output_type": "display_data"
    }
   ],
   "source": [
    "sns.displot(penguin['Culmen Depth (mm)'],kde=True)"
   ]
  },
  {
   "cell_type": "code",
   "execution_count": 58,
   "id": "3b8ae1ff",
   "metadata": {},
   "outputs": [
    {
     "data": {
      "text/plain": [
       "<AxesSubplot:xlabel='Flipper Length (mm)', ylabel='Density'>"
      ]
     },
     "execution_count": 58,
     "metadata": {},
     "output_type": "execute_result"
    },
    {
     "data": {
      "image/png": "[encoded data removed]",
      "text/plain": [
       "<Figure size 432x288 with 1 Axes>"
      ]
     },
     "metadata": {
      "needs_background": "light"
     },
     "output_type": "display_data"
    }
   ],
   "source": [
    "sns.kdeplot(penguin['Flipper Length (mm)'])"
   ]
  },
  {
   "cell_type": "code",
   "execution_count": 59,
   "id": "95b12a8e",
   "metadata": {},
   "outputs": [
    {
     "data": {
      "text/plain": [
       "<seaborn.axisgrid.FacetGrid at 0x1c8aa434f10>"
      ]
     },
     "execution_count": 59,
     "metadata": {},
     "output_type": "execute_result"
    },
    {
     "data": {
      "image/png": "[encoded data removed]",
      "text/plain": [
       "<Figure size 360x360 with 1 Axes>"
      ]
     },
     "metadata": {
      "needs_background": "light"
     },
     "output_type": "display_data"
    }
   ],
   "source": [
    "sns.displot(penguin['Flipper Length (mm)'],kde=True)"
   ]
  },
  {
   "cell_type": "code",
   "execution_count": 60,
   "id": "8a217c27",
   "metadata": {
    "id": "8a217c27"
   },
   "outputs": [],
   "source": [
    "penguin.rename(columns = {'Clutch Completion':'Clutch_Completion', 'Culmen Length (mm)':'Culmen_Length', \n",
    "                         'Culmen Depth (mm)':'Culmen_Depth', 'Flipper Length (mm)':'Flipper_Length', 'Body Mass (g)':'Body_Mass'}, inplace = True)"
   ]
  },
  {
   "cell_type": "code",
   "execution_count": 61,
   "id": "2d6598ca",
   "metadata": {
    "id": "2d6598ca",
    "outputId": "95b4c41f-6c1c-41b0-ac9e-c6c82947d44b"
   },
   "outputs": [
    {
     "name": "stdout",
     "output_type": "stream",
     "text": [
      "nan\n"
     ]
    }
   ],
   "source": [
    "from scipy import stats\n",
    "# Interquartile range (IQR)\n",
    "IQR = stats.iqr(penguin.Culmen_Depth, interpolation = 'midpoint')\n",
    "  \n",
    "print(IQR)"
   ]
  },
  {
   "cell_type": "code",
   "execution_count": 62,
   "id": "6b95ee25",
   "metadata": {},
   "outputs": [
    {
     "data": {
      "text/html": [
       "<div>\n",
       "<style scoped>\n",
       "    .dataframe tbody tr th:only-of-type {\n",
       "        vertical-align: middle;\n",
       "    }\n",
       "\n",
       "    .dataframe tbody tr th {\n",
       "        vertical-align: top;\n",
       "    }\n",
       "\n",
       "    .dataframe thead th {\n",
       "        text-align: right;\n",
       "    }\n",
       "</style>\n",
       "<table border=\"1\" class=\"dataframe\">\n",
       "  <thead>\n",
       "    <tr style=\"text-align: right;\">\n",
       "      <th></th>\n",
       "      <th>Culmen_Length</th>\n",
       "      <th>Culmen_Depth</th>\n",
       "      <th>Flipper_Length</th>\n",
       "    </tr>\n",
       "  </thead>\n",
       "  <tbody>\n",
       "    <tr>\n",
       "      <th>count</th>\n",
       "      <td>288.000000</td>\n",
       "      <td>235.000000</td>\n",
       "      <td>337.000000</td>\n",
       "    </tr>\n",
       "    <tr>\n",
       "      <th>mean</th>\n",
       "      <td>44.429514</td>\n",
       "      <td>17.195745</td>\n",
       "      <td>200.925816</td>\n",
       "    </tr>\n",
       "    <tr>\n",
       "      <th>std</th>\n",
       "      <td>5.262364</td>\n",
       "      <td>2.003539</td>\n",
       "      <td>14.069888</td>\n",
       "    </tr>\n",
       "    <tr>\n",
       "      <th>min</th>\n",
       "      <td>32.100000</td>\n",
       "      <td>13.200000</td>\n",
       "      <td>172.000000</td>\n",
       "    </tr>\n",
       "    <tr>\n",
       "      <th>25%</th>\n",
       "      <td>40.200000</td>\n",
       "      <td>15.550000</td>\n",
       "      <td>190.000000</td>\n",
       "    </tr>\n",
       "    <tr>\n",
       "      <th>50%</th>\n",
       "      <td>45.300000</td>\n",
       "      <td>17.500000</td>\n",
       "      <td>197.000000</td>\n",
       "    </tr>\n",
       "    <tr>\n",
       "      <th>75%</th>\n",
       "      <td>49.000000</td>\n",
       "      <td>18.800000</td>\n",
       "      <td>213.000000</td>\n",
       "    </tr>\n",
       "    <tr>\n",
       "      <th>max</th>\n",
       "      <td>58.000000</td>\n",
       "      <td>21.500000</td>\n",
       "      <td>231.000000</td>\n",
       "    </tr>\n",
       "  </tbody>\n",
       "</table>\n",
       "</div>"
      ],
      "text/plain": [
       "       Culmen_Length  Culmen_Depth  Flipper_Length\n",
       "count     288.000000    235.000000      337.000000\n",
       "mean       44.429514     17.195745      200.925816\n",
       "std         5.262364      2.003539       14.069888\n",
       "min        32.100000     13.200000      172.000000\n",
       "25%        40.200000     15.550000      190.000000\n",
       "50%        45.300000     17.500000      197.000000\n",
       "75%        49.000000     18.800000      213.000000\n",
       "max        58.000000     21.500000      231.000000"
      ]
     },
     "execution_count": 62,
     "metadata": {},
     "output_type": "execute_result"
    }
   ],
   "source": [
    "penguin.describe()"
   ]
  },
  {
   "cell_type": "code",
   "execution_count": 63,
   "id": "d0187e22",
   "metadata": {},
   "outputs": [
    {
     "data": {
      "text/plain": [
       "45.3"
      ]
     },
     "execution_count": 63,
     "metadata": {},
     "output_type": "execute_result"
    }
   ],
   "source": [
    "penguin['Culmen_Length'].quantile(0.50)"
   ]
  },
  {
   "cell_type": "code",
   "execution_count": 65,
   "id": "4cec23cd",
   "metadata": {},
   "outputs": [],
   "source": [
    "Q1 = penguin['Culmen_Length'].quantile(0.25)\n",
    "Q2 = penguin['Culmen_Length'].quantile(0.50)\n",
    "Q3 = penguin['Culmen_Length'].quantile(0.75)"
   ]
  },
  {
   "cell_type": "code",
   "execution_count": null,
   "id": "fd391fa9",
   "metadata": {},
   "outputs": [],
   "source": []
  }
 ],
 "metadata": {
  "colab": {
   "provenance": []
  },
  "kernelspec": {
   "display_name": "Python 3 (ipykernel)",
   "language": "python",
   "name": "python3"
  },
  "language_info": {
   "codemirror_mode": {
    "name": "ipython",
    "version": 3
   },
   "file_extension": ".py",
   "mimetype": "text/x-python",
   "name": "python",
   "nbconvert_exporter": "python",
   "pygments_lexer": "ipython3",
   "version": "3.9.7"
  }
 },
 "nbformat": 4,
 "nbformat_minor": 5
}
