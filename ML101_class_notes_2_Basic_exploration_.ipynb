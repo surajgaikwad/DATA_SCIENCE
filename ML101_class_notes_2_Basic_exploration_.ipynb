{
 "cells": [
  {
   "cell_type": "markdown",
   "id": "04151053",
   "metadata": {
    "id": "04151053"
   },
   "source": [
    "# Exploratory Data Analysis\n",
    "- Exploratory data analysis is a way of evaluating data sets to summarize their main features, frequently utilising graphs, plots, charts and other methods for data visualisation. \n",
    "- EDA contrasts with conventional hypothesis testing because it is primarily used to see what the data can tell us outside of formal modelling.\n",
    "- John Tukey, a renowned statistician, first suggested the idea of EDA in 1970.\n",
    "- The objective was to investigate the evidence and develop the theory. It can assist us in data collection and experimentation. \n",
    "- EDA differs from **initial data analysis (IDA)**, which is more specifically focused on resolving missing values, transforming variables as necessary, and confirming the assumptions needed for model fitting and hypothesis testing.. \n",
    "- IDA is included in EDA.\n"
   ]
  },
  {
   "cell_type": "markdown",
   "id": "377ecbec",
   "metadata": {
    "id": "377ecbec"
   },
   "source": [
    "## Basic exploration\n",
    "- The aim of basic exploration is to utilized python functions to identifiy erroneous information from that raw data, such as missing values, outliers etc. \n",
    "- Functions used in this file can differ based on new file.\n",
    "- Excellent knowledge of python as well as certain libraries are must, such as numpy, pandas etc"
   ]
  },
  {
   "cell_type": "code",
   "execution_count": 1,
   "id": "1f152f6d",
   "metadata": {
    "id": "1f152f6d"
   },
   "outputs": [],
   "source": [
    "# Importing libraries\n",
    "import numpy as np\n",
    "import pandas as pd\n",
    "import matplotlib.pyplot as plt\n",
    "import seaborn as sns"
   ]
  },
  {
   "cell_type": "code",
   "execution_count": 2,
   "id": "b3044310",
   "metadata": {
    "id": "b3044310"
   },
   "outputs": [],
   "source": [
    "import warnings\n",
    "warnings.filterwarnings(\"ignore\") # ignoring wranings\n",
    "# it is imporat when we are done with project otherwise do not call this and try to understand the warnings.\n"
   ]
  },
  {
   "cell_type": "code",
   "execution_count": 3,
   "id": "4fd8064f",
   "metadata": {
    "id": "4fd8064f"
   },
   "outputs": [],
   "source": [
    "penguin_raw = pd.read_excel('ML101 Dataset_2 penguin_manipulated_data_set.xlsx') # reading url dataset"
   ]
  },
  {
   "cell_type": "code",
   "execution_count": 4,
   "id": "52b5c0f2",
   "metadata": {
    "id": "52b5c0f2"
   },
   "outputs": [],
   "source": [
    "penguin = penguin_raw.copy() # creating a copy of read file"
   ]
  },
  {
   "cell_type": "code",
   "execution_count": 5,
   "id": "b9227202",
   "metadata": {
    "id": "b9227202",
    "outputId": "2a20275f-7a9c-4b88-b121-95ba2741c62a"
   },
   "outputs": [
    {
     "data": {
      "text/plain": [
       "(344, 17)"
      ]
     },
     "execution_count": 5,
     "metadata": {},
     "output_type": "execute_result"
    }
   ],
   "source": [
    "penguin_raw.shape # exploring number of observations and variables"
   ]
  },
  {
   "cell_type": "code",
   "execution_count": 6,
   "id": "9246b1f8",
   "metadata": {},
   "outputs": [
    {
     "data": {
      "text/html": [
       "<div>\n",
       "<style scoped>\n",
       "    .dataframe tbody tr th:only-of-type {\n",
       "        vertical-align: middle;\n",
       "    }\n",
       "\n",
       "    .dataframe tbody tr th {\n",
       "        vertical-align: top;\n",
       "    }\n",
       "\n",
       "    .dataframe thead th {\n",
       "        text-align: right;\n",
       "    }\n",
       "</style>\n",
       "<table border=\"1\" class=\"dataframe\">\n",
       "  <thead>\n",
       "    <tr style=\"text-align: right;\">\n",
       "      <th></th>\n",
       "      <th>studyName</th>\n",
       "      <th>Sample Number</th>\n",
       "      <th>Species</th>\n",
       "      <th>Region</th>\n",
       "      <th>Island</th>\n",
       "      <th>Stage</th>\n",
       "      <th>Individual ID</th>\n",
       "      <th>Clutch Completion</th>\n",
       "      <th>Date Egg</th>\n",
       "      <th>Culmen Length (mm)</th>\n",
       "      <th>Culmen Depth (mm)</th>\n",
       "      <th>Flipper Length (mm)</th>\n",
       "      <th>Body Mass (g)</th>\n",
       "      <th>Sex</th>\n",
       "      <th>Delta 15 N (o/oo)</th>\n",
       "      <th>Delta 13 C (o/oo)</th>\n",
       "      <th>Comments</th>\n",
       "    </tr>\n",
       "  </thead>\n",
       "  <tbody>\n",
       "    <tr>\n",
       "      <th>0</th>\n",
       "      <td>PAL0708</td>\n",
       "      <td>1.0</td>\n",
       "      <td>Adelie Penguin (Pygoscelis adeliae)</td>\n",
       "      <td>Anvers</td>\n",
       "      <td>Torgersen</td>\n",
       "      <td>Adult, 1 Egg Stage</td>\n",
       "      <td>N1A1</td>\n",
       "      <td>Yes</td>\n",
       "      <td>2007-11-11</td>\n",
       "      <td>NaN</td>\n",
       "      <td>NaN</td>\n",
       "      <td>181.0</td>\n",
       "      <td>3750.0</td>\n",
       "      <td>MALE</td>\n",
       "      <td>NaN</td>\n",
       "      <td>NaN</td>\n",
       "      <td>Not enough blood for isotopes.</td>\n",
       "    </tr>\n",
       "    <tr>\n",
       "      <th>1</th>\n",
       "      <td>PAL0708</td>\n",
       "      <td>2.0</td>\n",
       "      <td>Adelie Penguin (Pygoscelis adeliae)</td>\n",
       "      <td>Anvers</td>\n",
       "      <td>Torgersen</td>\n",
       "      <td>Adult, 1 Egg Stage</td>\n",
       "      <td>N1A2</td>\n",
       "      <td>Yes</td>\n",
       "      <td>2007-11-11</td>\n",
       "      <td>39.5</td>\n",
       "      <td>17.4</td>\n",
       "      <td>186.0</td>\n",
       "      <td>3800.0</td>\n",
       "      <td>FEMALE</td>\n",
       "      <td>8.94956</td>\n",
       "      <td>-24.69454</td>\n",
       "      <td>NaN</td>\n",
       "    </tr>\n",
       "    <tr>\n",
       "      <th>2</th>\n",
       "      <td>PAL0708</td>\n",
       "      <td>3.0</td>\n",
       "      <td>Adelie Penguin (Pygoscelis adeliae)</td>\n",
       "      <td>Anvers</td>\n",
       "      <td>Torgersen</td>\n",
       "      <td>Adult, 1 Egg Stage</td>\n",
       "      <td>N2A1</td>\n",
       "      <td>Yes</td>\n",
       "      <td>2007-11-16</td>\n",
       "      <td>40.3</td>\n",
       "      <td>18.0</td>\n",
       "      <td>195.0</td>\n",
       "      <td>3250.0</td>\n",
       "      <td>FEMALE</td>\n",
       "      <td>8.36821</td>\n",
       "      <td>-25.33302</td>\n",
       "      <td>NaN</td>\n",
       "    </tr>\n",
       "    <tr>\n",
       "      <th>3</th>\n",
       "      <td>PAL0708</td>\n",
       "      <td>4.0</td>\n",
       "      <td>Adelie Penguin (Pygoscelis adeliae)</td>\n",
       "      <td>Anvers</td>\n",
       "      <td>Torgersen</td>\n",
       "      <td>Adult, 1 Egg Stage</td>\n",
       "      <td>N2A2</td>\n",
       "      <td>Yes</td>\n",
       "      <td>2007-11-16</td>\n",
       "      <td>NaN</td>\n",
       "      <td>NaN</td>\n",
       "      <td>NaN</td>\n",
       "      <td>.</td>\n",
       "      <td>NaN</td>\n",
       "      <td>NaN</td>\n",
       "      <td>NaN</td>\n",
       "      <td>Adult not sampled.</td>\n",
       "    </tr>\n",
       "    <tr>\n",
       "      <th>4</th>\n",
       "      <td>PAL0708</td>\n",
       "      <td>5.0</td>\n",
       "      <td>Adelie Penguin (Pygoscelis adeliae)</td>\n",
       "      <td>Anvers</td>\n",
       "      <td>Torgersen</td>\n",
       "      <td>Adult, 1 Egg Stage</td>\n",
       "      <td>N3A1</td>\n",
       "      <td>Yes</td>\n",
       "      <td>2007-11-16</td>\n",
       "      <td>36.7</td>\n",
       "      <td>19.3</td>\n",
       "      <td>193.0</td>\n",
       "      <td>3450.0</td>\n",
       "      <td>FEMALE</td>\n",
       "      <td>8.76651</td>\n",
       "      <td>-25.32426</td>\n",
       "      <td>NaN</td>\n",
       "    </tr>\n",
       "  </tbody>\n",
       "</table>\n",
       "</div>"
      ],
      "text/plain": [
       "  studyName  Sample Number                              Species  Region  \\\n",
       "0   PAL0708            1.0  Adelie Penguin (Pygoscelis adeliae)  Anvers   \n",
       "1   PAL0708            2.0  Adelie Penguin (Pygoscelis adeliae)  Anvers   \n",
       "2   PAL0708            3.0  Adelie Penguin (Pygoscelis adeliae)  Anvers   \n",
       "3   PAL0708            4.0  Adelie Penguin (Pygoscelis adeliae)  Anvers   \n",
       "4   PAL0708            5.0  Adelie Penguin (Pygoscelis adeliae)  Anvers   \n",
       "\n",
       "      Island               Stage Individual ID Clutch Completion   Date Egg  \\\n",
       "0  Torgersen  Adult, 1 Egg Stage          N1A1               Yes 2007-11-11   \n",
       "1  Torgersen  Adult, 1 Egg Stage          N1A2               Yes 2007-11-11   \n",
       "2  Torgersen  Adult, 1 Egg Stage          N2A1               Yes 2007-11-16   \n",
       "3  Torgersen  Adult, 1 Egg Stage          N2A2               Yes 2007-11-16   \n",
       "4  Torgersen  Adult, 1 Egg Stage          N3A1               Yes 2007-11-16   \n",
       "\n",
       "   Culmen Length (mm)  Culmen Depth (mm)  Flipper Length (mm) Body Mass (g)  \\\n",
       "0                 NaN                NaN                181.0        3750.0   \n",
       "1                39.5               17.4                186.0        3800.0   \n",
       "2                40.3               18.0                195.0        3250.0   \n",
       "3                 NaN                NaN                  NaN             .   \n",
       "4                36.7               19.3                193.0        3450.0   \n",
       "\n",
       "      Sex  Delta 15 N (o/oo)  Delta 13 C (o/oo)  \\\n",
       "0    MALE                NaN                NaN   \n",
       "1  FEMALE            8.94956          -24.69454   \n",
       "2  FEMALE            8.36821          -25.33302   \n",
       "3     NaN                NaN                NaN   \n",
       "4  FEMALE            8.76651          -25.32426   \n",
       "\n",
       "                         Comments  \n",
       "0  Not enough blood for isotopes.  \n",
       "1                             NaN  \n",
       "2                             NaN  \n",
       "3              Adult not sampled.  \n",
       "4                             NaN  "
      ]
     },
     "execution_count": 6,
     "metadata": {},
     "output_type": "execute_result"
    }
   ],
   "source": [
    "penguin.head()"
   ]
  },
  {
   "cell_type": "markdown",
   "id": "0bde6df5",
   "metadata": {
    "id": "0bde6df5"
   },
   "source": [
    "We have 344 observations and 17 variables. "
   ]
  },
  {
   "cell_type": "markdown",
   "id": "57b50ebb",
   "metadata": {
    "id": "57b50ebb"
   },
   "source": [
    "### Examining few observations and features"
   ]
  },
  {
   "cell_type": "code",
   "execution_count": 7,
   "id": "9f140073",
   "metadata": {
    "id": "9f140073",
    "outputId": "3f87e87f-0754-485f-b4db-eb2e2eba243e"
   },
   "outputs": [
    {
     "data": {
      "text/html": [
       "<div>\n",
       "<style scoped>\n",
       "    .dataframe tbody tr th:only-of-type {\n",
       "        vertical-align: middle;\n",
       "    }\n",
       "\n",
       "    .dataframe tbody tr th {\n",
       "        vertical-align: top;\n",
       "    }\n",
       "\n",
       "    .dataframe thead th {\n",
       "        text-align: right;\n",
       "    }\n",
       "</style>\n",
       "<table border=\"1\" class=\"dataframe\">\n",
       "  <thead>\n",
       "    <tr style=\"text-align: right;\">\n",
       "      <th></th>\n",
       "      <th>studyName</th>\n",
       "      <th>Sample Number</th>\n",
       "      <th>Species</th>\n",
       "      <th>Region</th>\n",
       "      <th>Island</th>\n",
       "      <th>Stage</th>\n",
       "      <th>Individual ID</th>\n",
       "      <th>Clutch Completion</th>\n",
       "      <th>Date Egg</th>\n",
       "      <th>Culmen Length (mm)</th>\n",
       "      <th>Culmen Depth (mm)</th>\n",
       "      <th>Flipper Length (mm)</th>\n",
       "      <th>Body Mass (g)</th>\n",
       "      <th>Sex</th>\n",
       "      <th>Delta 15 N (o/oo)</th>\n",
       "      <th>Delta 13 C (o/oo)</th>\n",
       "      <th>Comments</th>\n",
       "    </tr>\n",
       "  </thead>\n",
       "  <tbody>\n",
       "    <tr>\n",
       "      <th>0</th>\n",
       "      <td>PAL0708</td>\n",
       "      <td>1.0</td>\n",
       "      <td>Adelie Penguin (Pygoscelis adeliae)</td>\n",
       "      <td>Anvers</td>\n",
       "      <td>Torgersen</td>\n",
       "      <td>Adult, 1 Egg Stage</td>\n",
       "      <td>N1A1</td>\n",
       "      <td>Yes</td>\n",
       "      <td>2007-11-11</td>\n",
       "      <td>NaN</td>\n",
       "      <td>NaN</td>\n",
       "      <td>181.0</td>\n",
       "      <td>3750.0</td>\n",
       "      <td>MALE</td>\n",
       "      <td>NaN</td>\n",
       "      <td>NaN</td>\n",
       "      <td>Not enough blood for isotopes.</td>\n",
       "    </tr>\n",
       "    <tr>\n",
       "      <th>1</th>\n",
       "      <td>PAL0708</td>\n",
       "      <td>2.0</td>\n",
       "      <td>Adelie Penguin (Pygoscelis adeliae)</td>\n",
       "      <td>Anvers</td>\n",
       "      <td>Torgersen</td>\n",
       "      <td>Adult, 1 Egg Stage</td>\n",
       "      <td>N1A2</td>\n",
       "      <td>Yes</td>\n",
       "      <td>2007-11-11</td>\n",
       "      <td>39.5</td>\n",
       "      <td>17.4</td>\n",
       "      <td>186.0</td>\n",
       "      <td>3800.0</td>\n",
       "      <td>FEMALE</td>\n",
       "      <td>8.94956</td>\n",
       "      <td>-24.69454</td>\n",
       "      <td>NaN</td>\n",
       "    </tr>\n",
       "    <tr>\n",
       "      <th>2</th>\n",
       "      <td>PAL0708</td>\n",
       "      <td>3.0</td>\n",
       "      <td>Adelie Penguin (Pygoscelis adeliae)</td>\n",
       "      <td>Anvers</td>\n",
       "      <td>Torgersen</td>\n",
       "      <td>Adult, 1 Egg Stage</td>\n",
       "      <td>N2A1</td>\n",
       "      <td>Yes</td>\n",
       "      <td>2007-11-16</td>\n",
       "      <td>40.3</td>\n",
       "      <td>18.0</td>\n",
       "      <td>195.0</td>\n",
       "      <td>3250.0</td>\n",
       "      <td>FEMALE</td>\n",
       "      <td>8.36821</td>\n",
       "      <td>-25.33302</td>\n",
       "      <td>NaN</td>\n",
       "    </tr>\n",
       "    <tr>\n",
       "      <th>3</th>\n",
       "      <td>PAL0708</td>\n",
       "      <td>4.0</td>\n",
       "      <td>Adelie Penguin (Pygoscelis adeliae)</td>\n",
       "      <td>Anvers</td>\n",
       "      <td>Torgersen</td>\n",
       "      <td>Adult, 1 Egg Stage</td>\n",
       "      <td>N2A2</td>\n",
       "      <td>Yes</td>\n",
       "      <td>2007-11-16</td>\n",
       "      <td>NaN</td>\n",
       "      <td>NaN</td>\n",
       "      <td>NaN</td>\n",
       "      <td>.</td>\n",
       "      <td>NaN</td>\n",
       "      <td>NaN</td>\n",
       "      <td>NaN</td>\n",
       "      <td>Adult not sampled.</td>\n",
       "    </tr>\n",
       "    <tr>\n",
       "      <th>4</th>\n",
       "      <td>PAL0708</td>\n",
       "      <td>5.0</td>\n",
       "      <td>Adelie Penguin (Pygoscelis adeliae)</td>\n",
       "      <td>Anvers</td>\n",
       "      <td>Torgersen</td>\n",
       "      <td>Adult, 1 Egg Stage</td>\n",
       "      <td>N3A1</td>\n",
       "      <td>Yes</td>\n",
       "      <td>2007-11-16</td>\n",
       "      <td>36.7</td>\n",
       "      <td>19.3</td>\n",
       "      <td>193.0</td>\n",
       "      <td>3450.0</td>\n",
       "      <td>FEMALE</td>\n",
       "      <td>8.76651</td>\n",
       "      <td>-25.32426</td>\n",
       "      <td>NaN</td>\n",
       "    </tr>\n",
       "  </tbody>\n",
       "</table>\n",
       "</div>"
      ],
      "text/plain": [
       "  studyName  Sample Number                              Species  Region  \\\n",
       "0   PAL0708            1.0  Adelie Penguin (Pygoscelis adeliae)  Anvers   \n",
       "1   PAL0708            2.0  Adelie Penguin (Pygoscelis adeliae)  Anvers   \n",
       "2   PAL0708            3.0  Adelie Penguin (Pygoscelis adeliae)  Anvers   \n",
       "3   PAL0708            4.0  Adelie Penguin (Pygoscelis adeliae)  Anvers   \n",
       "4   PAL0708            5.0  Adelie Penguin (Pygoscelis adeliae)  Anvers   \n",
       "\n",
       "      Island               Stage Individual ID Clutch Completion   Date Egg  \\\n",
       "0  Torgersen  Adult, 1 Egg Stage          N1A1               Yes 2007-11-11   \n",
       "1  Torgersen  Adult, 1 Egg Stage          N1A2               Yes 2007-11-11   \n",
       "2  Torgersen  Adult, 1 Egg Stage          N2A1               Yes 2007-11-16   \n",
       "3  Torgersen  Adult, 1 Egg Stage          N2A2               Yes 2007-11-16   \n",
       "4  Torgersen  Adult, 1 Egg Stage          N3A1               Yes 2007-11-16   \n",
       "\n",
       "   Culmen Length (mm)  Culmen Depth (mm)  Flipper Length (mm) Body Mass (g)  \\\n",
       "0                 NaN                NaN                181.0        3750.0   \n",
       "1                39.5               17.4                186.0        3800.0   \n",
       "2                40.3               18.0                195.0        3250.0   \n",
       "3                 NaN                NaN                  NaN             .   \n",
       "4                36.7               19.3                193.0        3450.0   \n",
       "\n",
       "      Sex  Delta 15 N (o/oo)  Delta 13 C (o/oo)  \\\n",
       "0    MALE                NaN                NaN   \n",
       "1  FEMALE            8.94956          -24.69454   \n",
       "2  FEMALE            8.36821          -25.33302   \n",
       "3     NaN                NaN                NaN   \n",
       "4  FEMALE            8.76651          -25.32426   \n",
       "\n",
       "                         Comments  \n",
       "0  Not enough blood for isotopes.  \n",
       "1                             NaN  \n",
       "2                             NaN  \n",
       "3              Adult not sampled.  \n",
       "4                             NaN  "
      ]
     },
     "execution_count": 7,
     "metadata": {},
     "output_type": "execute_result"
    }
   ],
   "source": [
    "penguin_raw.head() # head function to identify any erroneous value\n",
    "# it is not about first 5 or 10 rows\n",
    "# Aim is to check if data looks fine"
   ]
  },
  {
   "cell_type": "code",
   "execution_count": 17,
   "id": "57774214",
   "metadata": {},
   "outputs": [
    {
     "data": {
      "text/plain": [
       "Adelie Penguin (Pygoscelis adeliae)          152\n",
       "Gentoo penguin (Pygoscelis papua)            124\n",
       "Chinstrap penguin (Pygoscelis antarctica)     68\n",
       "Name: Species, dtype: int64"
      ]
     },
     "execution_count": 17,
     "metadata": {},
     "output_type": "execute_result"
    }
   ],
   "source": [
    "penguin[\"Species\"].value_counts()"
   ]
  },
  {
   "cell_type": "markdown",
   "id": "a2b7801c",
   "metadata": {
    "id": "a2b7801c"
   },
   "source": [
    "- There are missing values in multiple columns, in form of NaN and '.'\n",
    "- Index 3 has many missing features."
   ]
  },
  {
   "cell_type": "code",
   "execution_count": 8,
   "id": "3bac8ef9",
   "metadata": {
    "id": "3bac8ef9",
    "outputId": "038408f0-55ba-4881-f705-30860187b898"
   },
   "outputs": [
    {
     "data": {
      "text/html": [
       "<div>\n",
       "<style scoped>\n",
       "    .dataframe tbody tr th:only-of-type {\n",
       "        vertical-align: middle;\n",
       "    }\n",
       "\n",
       "    .dataframe tbody tr th {\n",
       "        vertical-align: top;\n",
       "    }\n",
       "\n",
       "    .dataframe thead th {\n",
       "        text-align: right;\n",
       "    }\n",
       "</style>\n",
       "<table border=\"1\" class=\"dataframe\">\n",
       "  <thead>\n",
       "    <tr style=\"text-align: right;\">\n",
       "      <th></th>\n",
       "      <th>studyName</th>\n",
       "      <th>Sample Number</th>\n",
       "      <th>Species</th>\n",
       "      <th>Region</th>\n",
       "      <th>Island</th>\n",
       "      <th>Stage</th>\n",
       "      <th>Individual ID</th>\n",
       "      <th>Clutch Completion</th>\n",
       "      <th>Date Egg</th>\n",
       "      <th>Culmen Length (mm)</th>\n",
       "      <th>Culmen Depth (mm)</th>\n",
       "      <th>Flipper Length (mm)</th>\n",
       "      <th>Body Mass (g)</th>\n",
       "      <th>Sex</th>\n",
       "      <th>Delta 15 N (o/oo)</th>\n",
       "      <th>Delta 13 C (o/oo)</th>\n",
       "      <th>Comments</th>\n",
       "    </tr>\n",
       "  </thead>\n",
       "  <tbody>\n",
       "    <tr>\n",
       "      <th>339</th>\n",
       "      <td>PAL0910</td>\n",
       "      <td>120.0</td>\n",
       "      <td>Gentoo penguin (Pygoscelis papua)</td>\n",
       "      <td>Anvers</td>\n",
       "      <td>Biscoe</td>\n",
       "      <td>Adult, 1 Egg Stage</td>\n",
       "      <td>N38A2</td>\n",
       "      <td>No</td>\n",
       "      <td>2009-12-01</td>\n",
       "      <td>NaN</td>\n",
       "      <td>NaN</td>\n",
       "      <td>NaN</td>\n",
       "      <td>.</td>\n",
       "      <td>NaN</td>\n",
       "      <td>NaN</td>\n",
       "      <td>NaN</td>\n",
       "      <td>NaN</td>\n",
       "    </tr>\n",
       "    <tr>\n",
       "      <th>340</th>\n",
       "      <td>PAL0910</td>\n",
       "      <td>121.0</td>\n",
       "      <td>Gentoo penguin (Pygoscelis papua)</td>\n",
       "      <td>Anvers</td>\n",
       "      <td>Biscoe</td>\n",
       "      <td>Adult, 1 Egg Stage</td>\n",
       "      <td>N39A1</td>\n",
       "      <td>Yes</td>\n",
       "      <td>2009-11-22</td>\n",
       "      <td>46.8</td>\n",
       "      <td>14.3</td>\n",
       "      <td>215.0</td>\n",
       "      <td>4850.0</td>\n",
       "      <td>FEMALE</td>\n",
       "      <td>8.41151</td>\n",
       "      <td>-26.13832</td>\n",
       "      <td>NaN</td>\n",
       "    </tr>\n",
       "    <tr>\n",
       "      <th>341</th>\n",
       "      <td>PAL0910</td>\n",
       "      <td>122.0</td>\n",
       "      <td>Gentoo penguin (Pygoscelis papua)</td>\n",
       "      <td>Anvers</td>\n",
       "      <td>Biscoe</td>\n",
       "      <td>Adult, 1 Egg Stage</td>\n",
       "      <td>N39A2</td>\n",
       "      <td>Yes</td>\n",
       "      <td>2009-11-22</td>\n",
       "      <td>50.4</td>\n",
       "      <td>15.7</td>\n",
       "      <td>222.0</td>\n",
       "      <td>5750.0</td>\n",
       "      <td>MALE</td>\n",
       "      <td>8.30166</td>\n",
       "      <td>-26.04117</td>\n",
       "      <td>NaN</td>\n",
       "    </tr>\n",
       "    <tr>\n",
       "      <th>342</th>\n",
       "      <td>PAL0910</td>\n",
       "      <td>123.0</td>\n",
       "      <td>Gentoo penguin (Pygoscelis papua)</td>\n",
       "      <td>Anvers</td>\n",
       "      <td>Biscoe</td>\n",
       "      <td>Adult, 1 Egg Stage</td>\n",
       "      <td>N43A1</td>\n",
       "      <td>Yes</td>\n",
       "      <td>2009-11-22</td>\n",
       "      <td>45.2</td>\n",
       "      <td>14.8</td>\n",
       "      <td>212.0</td>\n",
       "      <td>.</td>\n",
       "      <td>FEMALE</td>\n",
       "      <td>8.24246</td>\n",
       "      <td>-26.11969</td>\n",
       "      <td>NaN</td>\n",
       "    </tr>\n",
       "    <tr>\n",
       "      <th>343</th>\n",
       "      <td>PAL0910</td>\n",
       "      <td>124.0</td>\n",
       "      <td>Gentoo penguin (Pygoscelis papua)</td>\n",
       "      <td>Anvers</td>\n",
       "      <td>Biscoe</td>\n",
       "      <td>Adult, 1 Egg Stage</td>\n",
       "      <td>N43A2</td>\n",
       "      <td>Yes</td>\n",
       "      <td>2009-11-22</td>\n",
       "      <td>49.9</td>\n",
       "      <td>16.1</td>\n",
       "      <td>213.0</td>\n",
       "      <td>5400.0</td>\n",
       "      <td>MALE</td>\n",
       "      <td>8.36390</td>\n",
       "      <td>-26.15531</td>\n",
       "      <td>NaN</td>\n",
       "    </tr>\n",
       "  </tbody>\n",
       "</table>\n",
       "</div>"
      ],
      "text/plain": [
       "    studyName  Sample Number                            Species  Region  \\\n",
       "339   PAL0910          120.0  Gentoo penguin (Pygoscelis papua)  Anvers   \n",
       "340   PAL0910          121.0  Gentoo penguin (Pygoscelis papua)  Anvers   \n",
       "341   PAL0910          122.0  Gentoo penguin (Pygoscelis papua)  Anvers   \n",
       "342   PAL0910          123.0  Gentoo penguin (Pygoscelis papua)  Anvers   \n",
       "343   PAL0910          124.0  Gentoo penguin (Pygoscelis papua)  Anvers   \n",
       "\n",
       "     Island               Stage Individual ID Clutch Completion   Date Egg  \\\n",
       "339  Biscoe  Adult, 1 Egg Stage         N38A2                No 2009-12-01   \n",
       "340  Biscoe  Adult, 1 Egg Stage         N39A1               Yes 2009-11-22   \n",
       "341  Biscoe  Adult, 1 Egg Stage         N39A2               Yes 2009-11-22   \n",
       "342  Biscoe  Adult, 1 Egg Stage         N43A1               Yes 2009-11-22   \n",
       "343  Biscoe  Adult, 1 Egg Stage         N43A2               Yes 2009-11-22   \n",
       "\n",
       "     Culmen Length (mm)  Culmen Depth (mm)  Flipper Length (mm) Body Mass (g)  \\\n",
       "339                 NaN                NaN                  NaN             .   \n",
       "340                46.8               14.3                215.0        4850.0   \n",
       "341                50.4               15.7                222.0        5750.0   \n",
       "342                45.2               14.8                212.0             .   \n",
       "343                49.9               16.1                213.0        5400.0   \n",
       "\n",
       "        Sex  Delta 15 N (o/oo)  Delta 13 C (o/oo) Comments  \n",
       "339     NaN                NaN                NaN      NaN  \n",
       "340  FEMALE            8.41151          -26.13832      NaN  \n",
       "341    MALE            8.30166          -26.04117      NaN  \n",
       "342  FEMALE            8.24246          -26.11969      NaN  \n",
       "343    MALE            8.36390          -26.15531      NaN  "
      ]
     },
     "execution_count": 8,
     "metadata": {},
     "output_type": "execute_result"
    }
   ],
   "source": [
    "penguin.tail() # tail function to identify any erroneous value\n",
    "# it is not about last 5 or 10 rows\n",
    "# Aim is to check if data looks fine"
   ]
  },
  {
   "cell_type": "markdown",
   "id": "870105ae",
   "metadata": {
    "id": "870105ae"
   },
   "source": [
    "- There are missing values in multiple columns, in form of NaN and '.'\n",
    "- Index 339 has many missing features."
   ]
  },
  {
   "cell_type": "markdown",
   "id": "1eb3c48f",
   "metadata": {
    "id": "1eb3c48f"
   },
   "source": [
    "### Examining column names"
   ]
  },
  {
   "cell_type": "code",
   "execution_count": 9,
   "id": "341a19a5",
   "metadata": {
    "id": "341a19a5",
    "outputId": "6d55a6bd-bd7e-459e-ee89-fb8f0438f452"
   },
   "outputs": [
    {
     "data": {
      "text/plain": [
       "Index(['studyName', 'Sample Number', 'Species', 'Region', 'Island', 'Stage',\n",
       "       'Individual ID', 'Clutch Completion', 'Date Egg', 'Culmen Length (mm)',\n",
       "       'Culmen Depth (mm)', 'Flipper Length (mm)', 'Body Mass (g)', 'Sex',\n",
       "       'Delta 15 N (o/oo)', 'Delta 13 C (o/oo)', 'Comments'],\n",
       "      dtype='object')"
      ]
     },
     "execution_count": 9,
     "metadata": {},
     "output_type": "execute_result"
    }
   ],
   "source": [
    "penguin.columns # checking column names\n",
    "# some column names to be renamed "
   ]
  },
  {
   "cell_type": "markdown",
   "id": "777b27ed",
   "metadata": {
    "id": "777b27ed"
   },
   "source": [
    "### Examining data types"
   ]
  },
  {
   "cell_type": "code",
   "execution_count": 10,
   "id": "15302af3",
   "metadata": {
    "id": "15302af3",
    "outputId": "10a40f3e-6238-43be-874d-830289a4d4d9"
   },
   "outputs": [
    {
     "data": {
      "text/plain": [
       "studyName                      object\n",
       "Sample Number                 float64\n",
       "Species                        object\n",
       "Region                         object\n",
       "Island                         object\n",
       "Stage                          object\n",
       "Individual ID                  object\n",
       "Clutch Completion              object\n",
       "Date Egg               datetime64[ns]\n",
       "Culmen Length (mm)            float64\n",
       "Culmen Depth (mm)             float64\n",
       "Flipper Length (mm)           float64\n",
       "Body Mass (g)                  object\n",
       "Sex                            object\n",
       "Delta 15 N (o/oo)             float64\n",
       "Delta 13 C (o/oo)             float64\n",
       "Comments                       object\n",
       "dtype: object"
      ]
     },
     "execution_count": 10,
     "metadata": {},
     "output_type": "execute_result"
    }
   ],
   "source": [
    "penguin.dtypes # Checking if datatypes are read correctly. \n",
    "# We have to be sure about data types first and then match it with dtypes result. \n",
    "# If it is correct we are good otherewise we have to change the data type."
   ]
  },
  {
   "cell_type": "code",
   "execution_count": 19,
   "id": "4945ff8d",
   "metadata": {},
   "outputs": [
    {
     "data": {
      "text/plain": [
       "array([3750.0, 3800.0, 3250.0, '.', 3450.0, 3650.0, 3625.0, 4675.0, 0.0,\n",
       "       4250.0, 3300.0, 3700.0, 3200.0, 4400.0, 4500.0, 3325.0, 4200.0,\n",
       "       3400.0, 3600.0, 3950.0, 3150.0, 3900.0, 4150.0, 4650.0, 3100.0,\n",
       "       3000.0, 4600.0, 3425.0, 2975.0, 3500.0, 4300.0, 2900.0, 3550.0,\n",
       "       2850.0, 4050.0, 3350.0, 4100.0, 3050.0, 4450.0, 4000.0, 4700.0,\n",
       "       4350.0, 3725.0, 4725.0, 3075.0, 2925.0, 3175.0, 4775.0, 3825.0,\n",
       "       4275.0, 4075.0, 3775.0, 3875.0, 3275.0, 4475.0, 3975.0, 3475.0,\n",
       "       3525.0, 3575.0, 4550.0, 3850.0, 4800.0, 2700.0, 3675.0, 5700.0,\n",
       "       5400.0, 5200.0, 5150.0, 5550.0, 5850.0, 6300.0, 5350.0, 5000.0,\n",
       "       5050.0, 5100.0, 5650.0, 5250.0, 6050.0, 4950.0, 4750.0, 4900.0,\n",
       "       5300.0, 4850.0, 5800.0, 6000.0, 5950.0, 4625.0, 5450.0, 5600.0,\n",
       "       4875.0, 4925.0, 4975.0, 5500.0, 4575.0, 4375.0, 5750.0],\n",
       "      dtype=object)"
      ]
     },
     "execution_count": 19,
     "metadata": {},
     "output_type": "execute_result"
    }
   ],
   "source": [
    "penguin[\"Body Mass (g)\"].unique()"
   ]
  },
  {
   "cell_type": "markdown",
   "id": "4fdbeeaa",
   "metadata": {
    "id": "4fdbeeaa"
   },
   "source": [
    "- Here body mass (g) was expected to be a continuous (float) feature, but read as an obect. Hence, there are some issues in this variable. ( has a . value ) "
   ]
  },
  {
   "cell_type": "code",
   "execution_count": 20,
   "id": "f867f884",
   "metadata": {},
   "outputs": [],
   "source": [
    " penguin = penguin[penguin[\"Body Mass (g)\"]!=\".\"]"
   ]
  },
  {
   "cell_type": "code",
   "execution_count": 23,
   "id": "634f663a",
   "metadata": {},
   "outputs": [
    {
     "data": {
      "text/plain": [
       "array([3750.0, 3800.0, 3250.0, 3450.0, 3650.0, 3625.0, 4675.0, 0.0,\n",
       "       4250.0, 3300.0, 3700.0, 3200.0, 4400.0, 4500.0, 3325.0, 4200.0,\n",
       "       3400.0, 3600.0, 3950.0, 3150.0, 3900.0, 4150.0, 4650.0, 3100.0,\n",
       "       3000.0, 4600.0, 3425.0, 2975.0, 3500.0, 4300.0, 2900.0, 3550.0,\n",
       "       2850.0, 4050.0, 3350.0, 4100.0, 3050.0, 4450.0, 4000.0, 4700.0,\n",
       "       4350.0, 3725.0, 4725.0, 3075.0, 2925.0, 3175.0, 4775.0, 3825.0,\n",
       "       4275.0, 4075.0, 3775.0, 3875.0, 3275.0, 4475.0, 3975.0, 3475.0,\n",
       "       3525.0, 3575.0, 4550.0, 3850.0, 4800.0, 2700.0, 3675.0, 5700.0,\n",
       "       5400.0, 5200.0, 5150.0, 5550.0, 5850.0, 6300.0, 5350.0, 5000.0,\n",
       "       5050.0, 5100.0, 5650.0, 5250.0, 6050.0, 4950.0, 4750.0, 4900.0,\n",
       "       5300.0, 4850.0, 5800.0, 6000.0, 5950.0, 4625.0, 5450.0, 5600.0,\n",
       "       4875.0, 4925.0, 4975.0, 5500.0, 4575.0, 4375.0, 5750.0],\n",
       "      dtype=object)"
      ]
     },
     "execution_count": 23,
     "metadata": {},
     "output_type": "execute_result"
    }
   ],
   "source": [
    "penguin[\"Body Mass (g)\"].unique()"
   ]
  },
  {
   "cell_type": "code",
   "execution_count": 24,
   "id": "616872f1",
   "metadata": {},
   "outputs": [],
   "source": [
    "penguin[\"Body Mass (g)\"] = penguin[\"Body Mass (g)\"].astype(\"int\")"
   ]
  },
  {
   "cell_type": "code",
   "execution_count": 26,
   "id": "76045c05",
   "metadata": {},
   "outputs": [
    {
     "data": {
      "text/plain": [
       "Species                 object\n",
       "Island                  object\n",
       "Clutch Completion       object\n",
       "Culmen Length (mm)     float64\n",
       "Culmen Depth (mm)      float64\n",
       "Flipper Length (mm)    float64\n",
       "Body Mass (g)            int32\n",
       "Sex                     object\n",
       "dtype: object"
      ]
     },
     "execution_count": 26,
     "metadata": {},
     "output_type": "execute_result"
    }
   ],
   "source": [
    "penguin.dtypes"
   ]
  },
  {
   "cell_type": "markdown",
   "id": "d466407b",
   "metadata": {
    "id": "d466407b"
   },
   "source": [
    "### Dropping few unnecessary columns\n",
    "- Mostly we drops column at the end, however, many a times, based on domain, we already know that some columns may be unnecessary. "
   ]
  },
  {
   "cell_type": "code",
   "execution_count": 27,
   "id": "5d9a66a4",
   "metadata": {
    "id": "5d9a66a4"
   },
   "outputs": [
    {
     "ename": "KeyError",
     "evalue": "\"['studyName' 'Sample Number' 'Stage' 'Region' 'Date Egg' 'Individual ID'\\n 'Delta 15 N (o/oo)' 'Delta 13 C (o/oo)' 'Comments'] not found in axis\"",
     "output_type": "error",
     "traceback": [
      "\u001b[1;31m---------------------------------------------------------------------------\u001b[0m",
      "\u001b[1;31mKeyError\u001b[0m                                  Traceback (most recent call last)",
      "\u001b[1;32m~\\AppData\\Local\\Temp/ipykernel_7204/2832789233.py\u001b[0m in \u001b[0;36m<module>\u001b[1;34m\u001b[0m\n\u001b[0;32m      1\u001b[0m \u001b[1;31m# dropping unnecessary columns\u001b[0m\u001b[1;33m\u001b[0m\u001b[1;33m\u001b[0m\u001b[0m\n\u001b[1;32m----> 2\u001b[1;33m \u001b[0mpenguin\u001b[0m \u001b[1;33m=\u001b[0m \u001b[0mpenguin\u001b[0m\u001b[1;33m.\u001b[0m\u001b[0mdrop\u001b[0m\u001b[1;33m(\u001b[0m\u001b[1;33m[\u001b[0m\u001b[1;34m'studyName'\u001b[0m\u001b[1;33m,\u001b[0m \u001b[1;34m'Sample Number'\u001b[0m\u001b[1;33m,\u001b[0m \u001b[1;34m'Stage'\u001b[0m\u001b[1;33m,\u001b[0m \u001b[1;34m'Region'\u001b[0m\u001b[1;33m,\u001b[0m \u001b[1;34m'Date Egg'\u001b[0m\u001b[1;33m,\u001b[0m \u001b[1;34m'Individual ID'\u001b[0m\u001b[1;33m,\u001b[0m \u001b[1;34m'Delta 15 N (o/oo)'\u001b[0m\u001b[1;33m,\u001b[0m \u001b[1;34m'Delta 13 C (o/oo)'\u001b[0m\u001b[1;33m,\u001b[0m \u001b[1;34m'Comments'\u001b[0m\u001b[1;33m]\u001b[0m\u001b[1;33m,\u001b[0m \u001b[0maxis\u001b[0m \u001b[1;33m=\u001b[0m \u001b[1;36m1\u001b[0m\u001b[1;33m)\u001b[0m\u001b[1;33m\u001b[0m\u001b[1;33m\u001b[0m\u001b[0m\n\u001b[0m",
      "\u001b[1;32m~\\anaconda3\\lib\\site-packages\\pandas\\util\\_decorators.py\u001b[0m in \u001b[0;36mwrapper\u001b[1;34m(*args, **kwargs)\u001b[0m\n\u001b[0;32m    309\u001b[0m                     \u001b[0mstacklevel\u001b[0m\u001b[1;33m=\u001b[0m\u001b[0mstacklevel\u001b[0m\u001b[1;33m,\u001b[0m\u001b[1;33m\u001b[0m\u001b[1;33m\u001b[0m\u001b[0m\n\u001b[0;32m    310\u001b[0m                 )\n\u001b[1;32m--> 311\u001b[1;33m             \u001b[1;32mreturn\u001b[0m \u001b[0mfunc\u001b[0m\u001b[1;33m(\u001b[0m\u001b[1;33m*\u001b[0m\u001b[0margs\u001b[0m\u001b[1;33m,\u001b[0m \u001b[1;33m**\u001b[0m\u001b[0mkwargs\u001b[0m\u001b[1;33m)\u001b[0m\u001b[1;33m\u001b[0m\u001b[1;33m\u001b[0m\u001b[0m\n\u001b[0m\u001b[0;32m    312\u001b[0m \u001b[1;33m\u001b[0m\u001b[0m\n\u001b[0;32m    313\u001b[0m         \u001b[1;32mreturn\u001b[0m \u001b[0mwrapper\u001b[0m\u001b[1;33m\u001b[0m\u001b[1;33m\u001b[0m\u001b[0m\n",
      "\u001b[1;32m~\\anaconda3\\lib\\site-packages\\pandas\\core\\frame.py\u001b[0m in \u001b[0;36mdrop\u001b[1;34m(self, labels, axis, index, columns, level, inplace, errors)\u001b[0m\n\u001b[0;32m   4904\u001b[0m                 \u001b[0mweight\u001b[0m  \u001b[1;36m1.0\u001b[0m     \u001b[1;36m0.8\u001b[0m\u001b[1;33m\u001b[0m\u001b[1;33m\u001b[0m\u001b[0m\n\u001b[0;32m   4905\u001b[0m         \"\"\"\n\u001b[1;32m-> 4906\u001b[1;33m         return super().drop(\n\u001b[0m\u001b[0;32m   4907\u001b[0m             \u001b[0mlabels\u001b[0m\u001b[1;33m=\u001b[0m\u001b[0mlabels\u001b[0m\u001b[1;33m,\u001b[0m\u001b[1;33m\u001b[0m\u001b[1;33m\u001b[0m\u001b[0m\n\u001b[0;32m   4908\u001b[0m             \u001b[0maxis\u001b[0m\u001b[1;33m=\u001b[0m\u001b[0maxis\u001b[0m\u001b[1;33m,\u001b[0m\u001b[1;33m\u001b[0m\u001b[1;33m\u001b[0m\u001b[0m\n",
      "\u001b[1;32m~\\anaconda3\\lib\\site-packages\\pandas\\core\\generic.py\u001b[0m in \u001b[0;36mdrop\u001b[1;34m(self, labels, axis, index, columns, level, inplace, errors)\u001b[0m\n\u001b[0;32m   4148\u001b[0m         \u001b[1;32mfor\u001b[0m \u001b[0maxis\u001b[0m\u001b[1;33m,\u001b[0m \u001b[0mlabels\u001b[0m \u001b[1;32min\u001b[0m \u001b[0maxes\u001b[0m\u001b[1;33m.\u001b[0m\u001b[0mitems\u001b[0m\u001b[1;33m(\u001b[0m\u001b[1;33m)\u001b[0m\u001b[1;33m:\u001b[0m\u001b[1;33m\u001b[0m\u001b[1;33m\u001b[0m\u001b[0m\n\u001b[0;32m   4149\u001b[0m             \u001b[1;32mif\u001b[0m \u001b[0mlabels\u001b[0m \u001b[1;32mis\u001b[0m \u001b[1;32mnot\u001b[0m \u001b[1;32mNone\u001b[0m\u001b[1;33m:\u001b[0m\u001b[1;33m\u001b[0m\u001b[1;33m\u001b[0m\u001b[0m\n\u001b[1;32m-> 4150\u001b[1;33m                 \u001b[0mobj\u001b[0m \u001b[1;33m=\u001b[0m \u001b[0mobj\u001b[0m\u001b[1;33m.\u001b[0m\u001b[0m_drop_axis\u001b[0m\u001b[1;33m(\u001b[0m\u001b[0mlabels\u001b[0m\u001b[1;33m,\u001b[0m \u001b[0maxis\u001b[0m\u001b[1;33m,\u001b[0m \u001b[0mlevel\u001b[0m\u001b[1;33m=\u001b[0m\u001b[0mlevel\u001b[0m\u001b[1;33m,\u001b[0m \u001b[0merrors\u001b[0m\u001b[1;33m=\u001b[0m\u001b[0merrors\u001b[0m\u001b[1;33m)\u001b[0m\u001b[1;33m\u001b[0m\u001b[1;33m\u001b[0m\u001b[0m\n\u001b[0m\u001b[0;32m   4151\u001b[0m \u001b[1;33m\u001b[0m\u001b[0m\n\u001b[0;32m   4152\u001b[0m         \u001b[1;32mif\u001b[0m \u001b[0minplace\u001b[0m\u001b[1;33m:\u001b[0m\u001b[1;33m\u001b[0m\u001b[1;33m\u001b[0m\u001b[0m\n",
      "\u001b[1;32m~\\anaconda3\\lib\\site-packages\\pandas\\core\\generic.py\u001b[0m in \u001b[0;36m_drop_axis\u001b[1;34m(self, labels, axis, level, errors)\u001b[0m\n\u001b[0;32m   4183\u001b[0m                 \u001b[0mnew_axis\u001b[0m \u001b[1;33m=\u001b[0m \u001b[0maxis\u001b[0m\u001b[1;33m.\u001b[0m\u001b[0mdrop\u001b[0m\u001b[1;33m(\u001b[0m\u001b[0mlabels\u001b[0m\u001b[1;33m,\u001b[0m \u001b[0mlevel\u001b[0m\u001b[1;33m=\u001b[0m\u001b[0mlevel\u001b[0m\u001b[1;33m,\u001b[0m \u001b[0merrors\u001b[0m\u001b[1;33m=\u001b[0m\u001b[0merrors\u001b[0m\u001b[1;33m)\u001b[0m\u001b[1;33m\u001b[0m\u001b[1;33m\u001b[0m\u001b[0m\n\u001b[0;32m   4184\u001b[0m             \u001b[1;32melse\u001b[0m\u001b[1;33m:\u001b[0m\u001b[1;33m\u001b[0m\u001b[1;33m\u001b[0m\u001b[0m\n\u001b[1;32m-> 4185\u001b[1;33m                 \u001b[0mnew_axis\u001b[0m \u001b[1;33m=\u001b[0m \u001b[0maxis\u001b[0m\u001b[1;33m.\u001b[0m\u001b[0mdrop\u001b[0m\u001b[1;33m(\u001b[0m\u001b[0mlabels\u001b[0m\u001b[1;33m,\u001b[0m \u001b[0merrors\u001b[0m\u001b[1;33m=\u001b[0m\u001b[0merrors\u001b[0m\u001b[1;33m)\u001b[0m\u001b[1;33m\u001b[0m\u001b[1;33m\u001b[0m\u001b[0m\n\u001b[0m\u001b[0;32m   4186\u001b[0m             \u001b[0mresult\u001b[0m \u001b[1;33m=\u001b[0m \u001b[0mself\u001b[0m\u001b[1;33m.\u001b[0m\u001b[0mreindex\u001b[0m\u001b[1;33m(\u001b[0m\u001b[1;33m**\u001b[0m\u001b[1;33m{\u001b[0m\u001b[0maxis_name\u001b[0m\u001b[1;33m:\u001b[0m \u001b[0mnew_axis\u001b[0m\u001b[1;33m}\u001b[0m\u001b[1;33m)\u001b[0m\u001b[1;33m\u001b[0m\u001b[1;33m\u001b[0m\u001b[0m\n\u001b[0;32m   4187\u001b[0m \u001b[1;33m\u001b[0m\u001b[0m\n",
      "\u001b[1;32m~\\anaconda3\\lib\\site-packages\\pandas\\core\\indexes\\base.py\u001b[0m in \u001b[0;36mdrop\u001b[1;34m(self, labels, errors)\u001b[0m\n\u001b[0;32m   6015\u001b[0m         \u001b[1;32mif\u001b[0m \u001b[0mmask\u001b[0m\u001b[1;33m.\u001b[0m\u001b[0many\u001b[0m\u001b[1;33m(\u001b[0m\u001b[1;33m)\u001b[0m\u001b[1;33m:\u001b[0m\u001b[1;33m\u001b[0m\u001b[1;33m\u001b[0m\u001b[0m\n\u001b[0;32m   6016\u001b[0m             \u001b[1;32mif\u001b[0m \u001b[0merrors\u001b[0m \u001b[1;33m!=\u001b[0m \u001b[1;34m\"ignore\"\u001b[0m\u001b[1;33m:\u001b[0m\u001b[1;33m\u001b[0m\u001b[1;33m\u001b[0m\u001b[0m\n\u001b[1;32m-> 6017\u001b[1;33m                 \u001b[1;32mraise\u001b[0m \u001b[0mKeyError\u001b[0m\u001b[1;33m(\u001b[0m\u001b[1;34mf\"{labels[mask]} not found in axis\"\u001b[0m\u001b[1;33m)\u001b[0m\u001b[1;33m\u001b[0m\u001b[1;33m\u001b[0m\u001b[0m\n\u001b[0m\u001b[0;32m   6018\u001b[0m             \u001b[0mindexer\u001b[0m \u001b[1;33m=\u001b[0m \u001b[0mindexer\u001b[0m\u001b[1;33m[\u001b[0m\u001b[1;33m~\u001b[0m\u001b[0mmask\u001b[0m\u001b[1;33m]\u001b[0m\u001b[1;33m\u001b[0m\u001b[1;33m\u001b[0m\u001b[0m\n\u001b[0;32m   6019\u001b[0m         \u001b[1;32mreturn\u001b[0m \u001b[0mself\u001b[0m\u001b[1;33m.\u001b[0m\u001b[0mdelete\u001b[0m\u001b[1;33m(\u001b[0m\u001b[0mindexer\u001b[0m\u001b[1;33m)\u001b[0m\u001b[1;33m\u001b[0m\u001b[1;33m\u001b[0m\u001b[0m\n",
      "\u001b[1;31mKeyError\u001b[0m: \"['studyName' 'Sample Number' 'Stage' 'Region' 'Date Egg' 'Individual ID'\\n 'Delta 15 N (o/oo)' 'Delta 13 C (o/oo)' 'Comments'] not found in axis\""
     ]
    }
   ],
   "source": [
    "# dropping unnecessary columns\n",
    "penguin = penguin.drop(['studyName', 'Sample Number', 'Stage', 'Region', 'Date Egg', 'Individual ID', 'Delta 15 N (o/oo)', 'Delta 13 C (o/oo)', 'Comments'], axis = 1)"
   ]
  },
  {
   "cell_type": "markdown",
   "id": "3efc285c",
   "metadata": {
    "id": "3efc285c"
   },
   "source": [
    "### Examining unique values\n",
    "- It is to check if each column has correct values, specifically categorical variable"
   ]
  },
  {
   "cell_type": "code",
   "execution_count": 28,
   "id": "562370f6",
   "metadata": {
    "id": "562370f6",
    "outputId": "0c122d28-18b5-4d17-bde4-6dfb99c15d8c"
   },
   "outputs": [
    {
     "data": {
      "text/plain": [
       "Species                  3\n",
       "Island                   3\n",
       "Clutch Completion        2\n",
       "Culmen Length (mm)     142\n",
       "Culmen Depth (mm)       74\n",
       "Flipper Length (mm)     55\n",
       "Body Mass (g)           95\n",
       "Sex                      3\n",
       "dtype: int64"
      ]
     },
     "execution_count": 28,
     "metadata": {},
     "output_type": "execute_result"
    }
   ],
   "source": [
    "penguin.nunique() # nuniuqe function to count unique values in each column"
   ]
  },
  {
   "cell_type": "code",
   "execution_count": 35,
   "id": "86bec268",
   "metadata": {},
   "outputs": [
    {
     "data": {
      "text/plain": [
       "array(['MALE', 'FEMALE', nan, '.'], dtype=object)"
      ]
     },
     "execution_count": 35,
     "metadata": {},
     "output_type": "execute_result"
    }
   ],
   "source": [
    "penguin[\"Sex\"].unique()"
   ]
  },
  {
   "cell_type": "markdown",
   "id": "0a956fe3",
   "metadata": {
    "id": "0a956fe3"
   },
   "source": [
    "- Here we expected 2 unique values in sex column (males and females), but there are three."
   ]
  },
  {
   "cell_type": "markdown",
   "id": "eb8aca22",
   "metadata": {},
   "source": [
    "### Extrating Data with Multiple conditns "
   ]
  },
  {
   "cell_type": "code",
   "execution_count": 44,
   "id": "413e9997",
   "metadata": {},
   "outputs": [
    {
     "data": {
      "text/html": [
       "<div>\n",
       "<style scoped>\n",
       "    .dataframe tbody tr th:only-of-type {\n",
       "        vertical-align: middle;\n",
       "    }\n",
       "\n",
       "    .dataframe tbody tr th {\n",
       "        vertical-align: top;\n",
       "    }\n",
       "\n",
       "    .dataframe thead th {\n",
       "        text-align: right;\n",
       "    }\n",
       "</style>\n",
       "<table border=\"1\" class=\"dataframe\">\n",
       "  <thead>\n",
       "    <tr style=\"text-align: right;\">\n",
       "      <th></th>\n",
       "      <th>Species</th>\n",
       "      <th>Island</th>\n",
       "      <th>Clutch Completion</th>\n",
       "      <th>Culmen Length (mm)</th>\n",
       "      <th>Culmen Depth (mm)</th>\n",
       "      <th>Flipper Length (mm)</th>\n",
       "      <th>Body Mass (g)</th>\n",
       "      <th>Sex</th>\n",
       "    </tr>\n",
       "  </thead>\n",
       "  <tbody>\n",
       "    <tr>\n",
       "      <th>8</th>\n",
       "      <td>Adelie Penguin (Pygoscelis adeliae)</td>\n",
       "      <td>Torgersen</td>\n",
       "      <td>Yes</td>\n",
       "      <td>34.1</td>\n",
       "      <td>18.1</td>\n",
       "      <td>193.0</td>\n",
       "      <td>0</td>\n",
       "      <td>NaN</td>\n",
       "    </tr>\n",
       "    <tr>\n",
       "      <th>9</th>\n",
       "      <td>Adelie Penguin (Pygoscelis adeliae)</td>\n",
       "      <td>Torgersen</td>\n",
       "      <td>Yes</td>\n",
       "      <td>42.0</td>\n",
       "      <td>20.2</td>\n",
       "      <td>190.0</td>\n",
       "      <td>4250</td>\n",
       "      <td>NaN</td>\n",
       "    </tr>\n",
       "    <tr>\n",
       "      <th>10</th>\n",
       "      <td>Adelie Penguin (Pygoscelis adeliae)</td>\n",
       "      <td>Torgersen</td>\n",
       "      <td>Yes</td>\n",
       "      <td>NaN</td>\n",
       "      <td>NaN</td>\n",
       "      <td>186.0</td>\n",
       "      <td>3300</td>\n",
       "      <td>NaN</td>\n",
       "    </tr>\n",
       "    <tr>\n",
       "      <th>11</th>\n",
       "      <td>Adelie Penguin (Pygoscelis adeliae)</td>\n",
       "      <td>Torgersen</td>\n",
       "      <td>Yes</td>\n",
       "      <td>NaN</td>\n",
       "      <td>NaN</td>\n",
       "      <td>180.0</td>\n",
       "      <td>3700</td>\n",
       "      <td>NaN</td>\n",
       "    </tr>\n",
       "    <tr>\n",
       "      <th>47</th>\n",
       "      <td>Adelie Penguin (Pygoscelis adeliae)</td>\n",
       "      <td>Dream</td>\n",
       "      <td>Yes</td>\n",
       "      <td>NaN</td>\n",
       "      <td>NaN</td>\n",
       "      <td>179.0</td>\n",
       "      <td>2975</td>\n",
       "      <td>NaN</td>\n",
       "    </tr>\n",
       "    <tr>\n",
       "      <th>246</th>\n",
       "      <td>Gentoo penguin (Pygoscelis papua)</td>\n",
       "      <td>Biscoe</td>\n",
       "      <td>Yes</td>\n",
       "      <td>44.5</td>\n",
       "      <td>14.3</td>\n",
       "      <td>216.0</td>\n",
       "      <td>4100</td>\n",
       "      <td>NaN</td>\n",
       "    </tr>\n",
       "    <tr>\n",
       "      <th>286</th>\n",
       "      <td>Gentoo penguin (Pygoscelis papua)</td>\n",
       "      <td>Biscoe</td>\n",
       "      <td>Yes</td>\n",
       "      <td>46.2</td>\n",
       "      <td>14.4</td>\n",
       "      <td>214.0</td>\n",
       "      <td>4650</td>\n",
       "      <td>NaN</td>\n",
       "    </tr>\n",
       "    <tr>\n",
       "      <th>324</th>\n",
       "      <td>Gentoo penguin (Pygoscelis papua)</td>\n",
       "      <td>Biscoe</td>\n",
       "      <td>Yes</td>\n",
       "      <td>47.3</td>\n",
       "      <td>13.8</td>\n",
       "      <td>216.0</td>\n",
       "      <td>4725</td>\n",
       "      <td>NaN</td>\n",
       "    </tr>\n",
       "    <tr>\n",
       "      <th>336</th>\n",
       "      <td>Gentoo penguin (Pygoscelis papua)</td>\n",
       "      <td>Biscoe</td>\n",
       "      <td>Yes</td>\n",
       "      <td>44.5</td>\n",
       "      <td>15.7</td>\n",
       "      <td>217.0</td>\n",
       "      <td>4875</td>\n",
       "      <td>.</td>\n",
       "    </tr>\n",
       "  </tbody>\n",
       "</table>\n",
       "</div>"
      ],
      "text/plain": [
       "                                 Species     Island Clutch Completion  \\\n",
       "8    Adelie Penguin (Pygoscelis adeliae)  Torgersen               Yes   \n",
       "9    Adelie Penguin (Pygoscelis adeliae)  Torgersen               Yes   \n",
       "10   Adelie Penguin (Pygoscelis adeliae)  Torgersen               Yes   \n",
       "11   Adelie Penguin (Pygoscelis adeliae)  Torgersen               Yes   \n",
       "47   Adelie Penguin (Pygoscelis adeliae)      Dream               Yes   \n",
       "246    Gentoo penguin (Pygoscelis papua)     Biscoe               Yes   \n",
       "286    Gentoo penguin (Pygoscelis papua)     Biscoe               Yes   \n",
       "324    Gentoo penguin (Pygoscelis papua)     Biscoe               Yes   \n",
       "336    Gentoo penguin (Pygoscelis papua)     Biscoe               Yes   \n",
       "\n",
       "     Culmen Length (mm)  Culmen Depth (mm)  Flipper Length (mm)  \\\n",
       "8                  34.1               18.1                193.0   \n",
       "9                  42.0               20.2                190.0   \n",
       "10                  NaN                NaN                186.0   \n",
       "11                  NaN                NaN                180.0   \n",
       "47                  NaN                NaN                179.0   \n",
       "246                44.5               14.3                216.0   \n",
       "286                46.2               14.4                214.0   \n",
       "324                47.3               13.8                216.0   \n",
       "336                44.5               15.7                217.0   \n",
       "\n",
       "     Body Mass (g)  Sex  \n",
       "8                0  NaN  \n",
       "9             4250  NaN  \n",
       "10            3300  NaN  \n",
       "11            3700  NaN  \n",
       "47            2975  NaN  \n",
       "246           4100  NaN  \n",
       "286           4650  NaN  \n",
       "324           4725  NaN  \n",
       "336           4875    .  "
      ]
     },
     "execution_count": 44,
     "metadata": {},
     "output_type": "execute_result"
    }
   ],
   "source": [
    "penguin.loc[(penguin[\"Sex\"]!=\"MALE\") & (penguin[\"Sex\"]!=\"FEMALE\")]"
   ]
  },
  {
   "cell_type": "code",
   "execution_count": 45,
   "id": "a791b7a6",
   "metadata": {},
   "outputs": [
    {
     "data": {
      "text/html": [
       "<div>\n",
       "<style scoped>\n",
       "    .dataframe tbody tr th:only-of-type {\n",
       "        vertical-align: middle;\n",
       "    }\n",
       "\n",
       "    .dataframe tbody tr th {\n",
       "        vertical-align: top;\n",
       "    }\n",
       "\n",
       "    .dataframe thead th {\n",
       "        text-align: right;\n",
       "    }\n",
       "</style>\n",
       "<table border=\"1\" class=\"dataframe\">\n",
       "  <thead>\n",
       "    <tr style=\"text-align: right;\">\n",
       "      <th></th>\n",
       "      <th>Species</th>\n",
       "      <th>Island</th>\n",
       "      <th>Clutch Completion</th>\n",
       "      <th>Culmen Length (mm)</th>\n",
       "      <th>Culmen Depth (mm)</th>\n",
       "      <th>Flipper Length (mm)</th>\n",
       "      <th>Body Mass (g)</th>\n",
       "      <th>Sex</th>\n",
       "    </tr>\n",
       "  </thead>\n",
       "  <tbody>\n",
       "    <tr>\n",
       "      <th>206</th>\n",
       "      <td>Chinstrap penguin (Pygoscelis antarctica)</td>\n",
       "      <td>Dream</td>\n",
       "      <td>Yes</td>\n",
       "      <td>42.5</td>\n",
       "      <td>NaN</td>\n",
       "      <td>187.0</td>\n",
       "      <td>3350</td>\n",
       "      <td>FEMALE</td>\n",
       "    </tr>\n",
       "  </tbody>\n",
       "</table>\n",
       "</div>"
      ],
      "text/plain": [
       "                                       Species Island Clutch Completion  \\\n",
       "206  Chinstrap penguin (Pygoscelis antarctica)  Dream               Yes   \n",
       "\n",
       "     Culmen Length (mm)  Culmen Depth (mm)  Flipper Length (mm)  \\\n",
       "206                42.5                NaN                187.0   \n",
       "\n",
       "     Body Mass (g)     Sex  \n",
       "206           3350  FEMALE  "
      ]
     },
     "execution_count": 45,
     "metadata": {},
     "output_type": "execute_result"
    }
   ],
   "source": [
    "penguin[penguin.duplicated()]"
   ]
  },
  {
   "cell_type": "code",
   "execution_count": 46,
   "id": "f8dad538",
   "metadata": {
    "id": "f8dad538",
    "outputId": "3b5a5354-c814-4f26-b4cb-8239aa6551fc"
   },
   "outputs": [
    {
     "data": {
      "text/html": [
       "<div>\n",
       "<style scoped>\n",
       "    .dataframe tbody tr th:only-of-type {\n",
       "        vertical-align: middle;\n",
       "    }\n",
       "\n",
       "    .dataframe tbody tr th {\n",
       "        vertical-align: top;\n",
       "    }\n",
       "\n",
       "    .dataframe thead th {\n",
       "        text-align: right;\n",
       "    }\n",
       "</style>\n",
       "<table border=\"1\" class=\"dataframe\">\n",
       "  <thead>\n",
       "    <tr style=\"text-align: right;\">\n",
       "      <th></th>\n",
       "      <th>Species</th>\n",
       "      <th>Island</th>\n",
       "      <th>Clutch Completion</th>\n",
       "      <th>Culmen Length (mm)</th>\n",
       "      <th>Culmen Depth (mm)</th>\n",
       "      <th>Flipper Length (mm)</th>\n",
       "      <th>Body Mass (g)</th>\n",
       "      <th>Sex</th>\n",
       "    </tr>\n",
       "  </thead>\n",
       "  <tbody>\n",
       "    <tr>\n",
       "      <th>0</th>\n",
       "      <td>Adelie Penguin (Pygoscelis adeliae)</td>\n",
       "      <td>Torgersen</td>\n",
       "      <td>Yes</td>\n",
       "      <td>NaN</td>\n",
       "      <td>NaN</td>\n",
       "      <td>181.0</td>\n",
       "      <td>3750</td>\n",
       "      <td>MALE</td>\n",
       "    </tr>\n",
       "    <tr>\n",
       "      <th>1</th>\n",
       "      <td>Adelie Penguin (Pygoscelis adeliae)</td>\n",
       "      <td>Torgersen</td>\n",
       "      <td>Yes</td>\n",
       "      <td>39.5</td>\n",
       "      <td>17.4</td>\n",
       "      <td>186.0</td>\n",
       "      <td>3800</td>\n",
       "      <td>FEMALE</td>\n",
       "    </tr>\n",
       "    <tr>\n",
       "      <th>2</th>\n",
       "      <td>Adelie Penguin (Pygoscelis adeliae)</td>\n",
       "      <td>Torgersen</td>\n",
       "      <td>Yes</td>\n",
       "      <td>40.3</td>\n",
       "      <td>18.0</td>\n",
       "      <td>195.0</td>\n",
       "      <td>3250</td>\n",
       "      <td>FEMALE</td>\n",
       "    </tr>\n",
       "    <tr>\n",
       "      <th>4</th>\n",
       "      <td>Adelie Penguin (Pygoscelis adeliae)</td>\n",
       "      <td>Torgersen</td>\n",
       "      <td>Yes</td>\n",
       "      <td>36.7</td>\n",
       "      <td>19.3</td>\n",
       "      <td>193.0</td>\n",
       "      <td>3450</td>\n",
       "      <td>FEMALE</td>\n",
       "    </tr>\n",
       "    <tr>\n",
       "      <th>5</th>\n",
       "      <td>Adelie Penguin (Pygoscelis adeliae)</td>\n",
       "      <td>Torgersen</td>\n",
       "      <td>Yes</td>\n",
       "      <td>NaN</td>\n",
       "      <td>NaN</td>\n",
       "      <td>190.0</td>\n",
       "      <td>3650</td>\n",
       "      <td>MALE</td>\n",
       "    </tr>\n",
       "    <tr>\n",
       "      <th>...</th>\n",
       "      <td>...</td>\n",
       "      <td>...</td>\n",
       "      <td>...</td>\n",
       "      <td>...</td>\n",
       "      <td>...</td>\n",
       "      <td>...</td>\n",
       "      <td>...</td>\n",
       "      <td>...</td>\n",
       "    </tr>\n",
       "    <tr>\n",
       "      <th>337</th>\n",
       "      <td>Gentoo penguin (Pygoscelis papua)</td>\n",
       "      <td>Biscoe</td>\n",
       "      <td>Yes</td>\n",
       "      <td>48.8</td>\n",
       "      <td>16.2</td>\n",
       "      <td>222.0</td>\n",
       "      <td>6000</td>\n",
       "      <td>MALE</td>\n",
       "    </tr>\n",
       "    <tr>\n",
       "      <th>338</th>\n",
       "      <td>Gentoo penguin (Pygoscelis papua)</td>\n",
       "      <td>Biscoe</td>\n",
       "      <td>No</td>\n",
       "      <td>47.2</td>\n",
       "      <td>13.7</td>\n",
       "      <td>214.0</td>\n",
       "      <td>4925</td>\n",
       "      <td>FEMALE</td>\n",
       "    </tr>\n",
       "    <tr>\n",
       "      <th>340</th>\n",
       "      <td>Gentoo penguin (Pygoscelis papua)</td>\n",
       "      <td>Biscoe</td>\n",
       "      <td>Yes</td>\n",
       "      <td>46.8</td>\n",
       "      <td>14.3</td>\n",
       "      <td>215.0</td>\n",
       "      <td>4850</td>\n",
       "      <td>FEMALE</td>\n",
       "    </tr>\n",
       "    <tr>\n",
       "      <th>341</th>\n",
       "      <td>Gentoo penguin (Pygoscelis papua)</td>\n",
       "      <td>Biscoe</td>\n",
       "      <td>Yes</td>\n",
       "      <td>50.4</td>\n",
       "      <td>15.7</td>\n",
       "      <td>222.0</td>\n",
       "      <td>5750</td>\n",
       "      <td>MALE</td>\n",
       "    </tr>\n",
       "    <tr>\n",
       "      <th>343</th>\n",
       "      <td>Gentoo penguin (Pygoscelis papua)</td>\n",
       "      <td>Biscoe</td>\n",
       "      <td>Yes</td>\n",
       "      <td>49.9</td>\n",
       "      <td>16.1</td>\n",
       "      <td>213.0</td>\n",
       "      <td>5400</td>\n",
       "      <td>MALE</td>\n",
       "    </tr>\n",
       "  </tbody>\n",
       "</table>\n",
       "<p>333 rows × 8 columns</p>\n",
       "</div>"
      ],
      "text/plain": [
       "                                 Species     Island Clutch Completion  \\\n",
       "0    Adelie Penguin (Pygoscelis adeliae)  Torgersen               Yes   \n",
       "1    Adelie Penguin (Pygoscelis adeliae)  Torgersen               Yes   \n",
       "2    Adelie Penguin (Pygoscelis adeliae)  Torgersen               Yes   \n",
       "4    Adelie Penguin (Pygoscelis adeliae)  Torgersen               Yes   \n",
       "5    Adelie Penguin (Pygoscelis adeliae)  Torgersen               Yes   \n",
       "..                                   ...        ...               ...   \n",
       "337    Gentoo penguin (Pygoscelis papua)     Biscoe               Yes   \n",
       "338    Gentoo penguin (Pygoscelis papua)     Biscoe                No   \n",
       "340    Gentoo penguin (Pygoscelis papua)     Biscoe               Yes   \n",
       "341    Gentoo penguin (Pygoscelis papua)     Biscoe               Yes   \n",
       "343    Gentoo penguin (Pygoscelis papua)     Biscoe               Yes   \n",
       "\n",
       "     Culmen Length (mm)  Culmen Depth (mm)  Flipper Length (mm)  \\\n",
       "0                   NaN                NaN                181.0   \n",
       "1                  39.5               17.4                186.0   \n",
       "2                  40.3               18.0                195.0   \n",
       "4                  36.7               19.3                193.0   \n",
       "5                   NaN                NaN                190.0   \n",
       "..                  ...                ...                  ...   \n",
       "337                48.8               16.2                222.0   \n",
       "338                47.2               13.7                214.0   \n",
       "340                46.8               14.3                215.0   \n",
       "341                50.4               15.7                222.0   \n",
       "343                49.9               16.1                213.0   \n",
       "\n",
       "     Body Mass (g)     Sex  \n",
       "0             3750    MALE  \n",
       "1             3800  FEMALE  \n",
       "2             3250  FEMALE  \n",
       "4             3450  FEMALE  \n",
       "5             3650    MALE  \n",
       "..             ...     ...  \n",
       "337           6000    MALE  \n",
       "338           4925  FEMALE  \n",
       "340           4850  FEMALE  \n",
       "341           5750    MALE  \n",
       "343           5400    MALE  \n",
       "\n",
       "[333 rows x 8 columns]"
      ]
     },
     "execution_count": 46,
     "metadata": {},
     "output_type": "execute_result"
    }
   ],
   "source": [
    "penguin.drop_duplicates() # check if there are duplicates"
   ]
  },
  {
   "cell_type": "markdown",
   "id": "17e9b04b",
   "metadata": {
    "id": "17e9b04b"
   },
   "source": [
    "### Summary"
   ]
  },
  {
   "cell_type": "code",
   "execution_count": 47,
   "id": "ac292035",
   "metadata": {
    "id": "ac292035",
    "outputId": "33a75257-fc75-493d-88dc-ac5db61f289b"
   },
   "outputs": [
    {
     "data": {
      "text/html": [
       "<div>\n",
       "<style scoped>\n",
       "    .dataframe tbody tr th:only-of-type {\n",
       "        vertical-align: middle;\n",
       "    }\n",
       "\n",
       "    .dataframe tbody tr th {\n",
       "        vertical-align: top;\n",
       "    }\n",
       "\n",
       "    .dataframe thead th {\n",
       "        text-align: right;\n",
       "    }\n",
       "</style>\n",
       "<table border=\"1\" class=\"dataframe\">\n",
       "  <thead>\n",
       "    <tr style=\"text-align: right;\">\n",
       "      <th></th>\n",
       "      <th>Species</th>\n",
       "      <th>Island</th>\n",
       "      <th>Clutch Completion</th>\n",
       "      <th>Culmen Length (mm)</th>\n",
       "      <th>Culmen Depth (mm)</th>\n",
       "      <th>Flipper Length (mm)</th>\n",
       "      <th>Body Mass (g)</th>\n",
       "      <th>Sex</th>\n",
       "    </tr>\n",
       "  </thead>\n",
       "  <tbody>\n",
       "    <tr>\n",
       "      <th>count</th>\n",
       "      <td>334</td>\n",
       "      <td>334</td>\n",
       "      <td>334</td>\n",
       "      <td>280.000000</td>\n",
       "      <td>227.000000</td>\n",
       "      <td>329.000000</td>\n",
       "      <td>334.000000</td>\n",
       "      <td>326</td>\n",
       "    </tr>\n",
       "    <tr>\n",
       "      <th>unique</th>\n",
       "      <td>3</td>\n",
       "      <td>3</td>\n",
       "      <td>2</td>\n",
       "      <td>NaN</td>\n",
       "      <td>NaN</td>\n",
       "      <td>NaN</td>\n",
       "      <td>NaN</td>\n",
       "      <td>3</td>\n",
       "    </tr>\n",
       "    <tr>\n",
       "      <th>top</th>\n",
       "      <td>Adelie Penguin (Pygoscelis adeliae)</td>\n",
       "      <td>Biscoe</td>\n",
       "      <td>Yes</td>\n",
       "      <td>NaN</td>\n",
       "      <td>NaN</td>\n",
       "      <td>NaN</td>\n",
       "      <td>NaN</td>\n",
       "      <td>MALE</td>\n",
       "    </tr>\n",
       "    <tr>\n",
       "      <th>freq</th>\n",
       "      <td>146</td>\n",
       "      <td>163</td>\n",
       "      <td>299</td>\n",
       "      <td>NaN</td>\n",
       "      <td>NaN</td>\n",
       "      <td>NaN</td>\n",
       "      <td>NaN</td>\n",
       "      <td>164</td>\n",
       "    </tr>\n",
       "    <tr>\n",
       "      <th>mean</th>\n",
       "      <td>NaN</td>\n",
       "      <td>NaN</td>\n",
       "      <td>NaN</td>\n",
       "      <td>44.528571</td>\n",
       "      <td>17.194273</td>\n",
       "      <td>201.033435</td>\n",
       "      <td>4081.961078</td>\n",
       "      <td>NaN</td>\n",
       "    </tr>\n",
       "    <tr>\n",
       "      <th>std</th>\n",
       "      <td>NaN</td>\n",
       "      <td>NaN</td>\n",
       "      <td>NaN</td>\n",
       "      <td>5.238174</td>\n",
       "      <td>2.006894</td>\n",
       "      <td>14.075215</td>\n",
       "      <td>1098.042129</td>\n",
       "      <td>NaN</td>\n",
       "    </tr>\n",
       "    <tr>\n",
       "      <th>min</th>\n",
       "      <td>NaN</td>\n",
       "      <td>NaN</td>\n",
       "      <td>NaN</td>\n",
       "      <td>32.100000</td>\n",
       "      <td>13.200000</td>\n",
       "      <td>172.000000</td>\n",
       "      <td>0.000000</td>\n",
       "      <td>NaN</td>\n",
       "    </tr>\n",
       "    <tr>\n",
       "      <th>25%</th>\n",
       "      <td>NaN</td>\n",
       "      <td>NaN</td>\n",
       "      <td>NaN</td>\n",
       "      <td>40.275000</td>\n",
       "      <td>15.550000</td>\n",
       "      <td>190.000000</td>\n",
       "      <td>3500.000000</td>\n",
       "      <td>NaN</td>\n",
       "    </tr>\n",
       "    <tr>\n",
       "      <th>50%</th>\n",
       "      <td>NaN</td>\n",
       "      <td>NaN</td>\n",
       "      <td>NaN</td>\n",
       "      <td>45.450000</td>\n",
       "      <td>17.500000</td>\n",
       "      <td>197.000000</td>\n",
       "      <td>4000.000000</td>\n",
       "      <td>NaN</td>\n",
       "    </tr>\n",
       "    <tr>\n",
       "      <th>75%</th>\n",
       "      <td>NaN</td>\n",
       "      <td>NaN</td>\n",
       "      <td>NaN</td>\n",
       "      <td>49.000000</td>\n",
       "      <td>18.800000</td>\n",
       "      <td>214.000000</td>\n",
       "      <td>4768.750000</td>\n",
       "      <td>NaN</td>\n",
       "    </tr>\n",
       "    <tr>\n",
       "      <th>max</th>\n",
       "      <td>NaN</td>\n",
       "      <td>NaN</td>\n",
       "      <td>NaN</td>\n",
       "      <td>58.000000</td>\n",
       "      <td>21.500000</td>\n",
       "      <td>231.000000</td>\n",
       "      <td>6300.000000</td>\n",
       "      <td>NaN</td>\n",
       "    </tr>\n",
       "  </tbody>\n",
       "</table>\n",
       "</div>"
      ],
      "text/plain": [
       "                                    Species  Island Clutch Completion  \\\n",
       "count                                   334     334               334   \n",
       "unique                                    3       3                 2   \n",
       "top     Adelie Penguin (Pygoscelis adeliae)  Biscoe               Yes   \n",
       "freq                                    146     163               299   \n",
       "mean                                    NaN     NaN               NaN   \n",
       "std                                     NaN     NaN               NaN   \n",
       "min                                     NaN     NaN               NaN   \n",
       "25%                                     NaN     NaN               NaN   \n",
       "50%                                     NaN     NaN               NaN   \n",
       "75%                                     NaN     NaN               NaN   \n",
       "max                                     NaN     NaN               NaN   \n",
       "\n",
       "        Culmen Length (mm)  Culmen Depth (mm)  Flipper Length (mm)  \\\n",
       "count           280.000000         227.000000           329.000000   \n",
       "unique                 NaN                NaN                  NaN   \n",
       "top                    NaN                NaN                  NaN   \n",
       "freq                   NaN                NaN                  NaN   \n",
       "mean             44.528571          17.194273           201.033435   \n",
       "std               5.238174           2.006894            14.075215   \n",
       "min              32.100000          13.200000           172.000000   \n",
       "25%              40.275000          15.550000           190.000000   \n",
       "50%              45.450000          17.500000           197.000000   \n",
       "75%              49.000000          18.800000           214.000000   \n",
       "max              58.000000          21.500000           231.000000   \n",
       "\n",
       "        Body Mass (g)   Sex  \n",
       "count      334.000000   326  \n",
       "unique            NaN     3  \n",
       "top               NaN  MALE  \n",
       "freq              NaN   164  \n",
       "mean      4081.961078   NaN  \n",
       "std       1098.042129   NaN  \n",
       "min          0.000000   NaN  \n",
       "25%       3500.000000   NaN  \n",
       "50%       4000.000000   NaN  \n",
       "75%       4768.750000   NaN  \n",
       "max       6300.000000   NaN  "
      ]
     },
     "execution_count": 47,
     "metadata": {},
     "output_type": "execute_result"
    }
   ],
   "source": [
    "penguin.describe(include = 'all')"
   ]
  },
  {
   "cell_type": "code",
   "execution_count": 48,
   "id": "25a03f27",
   "metadata": {},
   "outputs": [
    {
     "data": {
      "text/plain": [
       "Adelie Penguin (Pygoscelis adeliae)          146\n",
       "Gentoo penguin (Pygoscelis papua)            121\n",
       "Chinstrap penguin (Pygoscelis antarctica)     67\n",
       "Name: Species, dtype: int64"
      ]
     },
     "execution_count": 48,
     "metadata": {},
     "output_type": "execute_result"
    }
   ],
   "source": [
    "penguin[\"Species\"].value_counts()"
   ]
  },
  {
   "cell_type": "code",
   "execution_count": null,
   "id": "fd663099",
   "metadata": {},
   "outputs": [],
   "source": []
  }
 ],
 "metadata": {
  "colab": {
   "provenance": []
  },
  "kernelspec": {
   "display_name": "Python 3 (ipykernel)",
   "language": "python",
   "name": "python3"
  },
  "language_info": {
   "codemirror_mode": {
    "name": "ipython",
    "version": 3
   },
   "file_extension": ".py",
   "mimetype": "text/x-python",
   "name": "python",
   "nbconvert_exporter": "python",
   "pygments_lexer": "ipython3",
   "version": "3.9.7"
  }
 },
 "nbformat": 4,
 "nbformat_minor": 5
}
