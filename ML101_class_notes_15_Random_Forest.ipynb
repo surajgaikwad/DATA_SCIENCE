{
  "cells": [
    {
      "cell_type": "markdown",
      "id": "f224fa2e",
      "metadata": {
        "id": "f224fa2e"
      },
      "source": [
        "#  Random forest Algorithm"
      ]
    },
    {
      "cell_type": "markdown",
      "id": "a7a765d2",
      "metadata": {
        "id": "a7a765d2"
      },
      "source": [
        "* Leo Breiman and Adele Cutler are the inventors of the widely-used machine learning technique known as random forest, which mixes the output of various decision trees to produce a single conclusion. Its widespread use is motivated by its adaptability and usability because it can solve classification and regression issues.\n",
        "* As suggested by its name, Random Forest is a collection of different decision tree algorithms that uses random sampling.\n",
        "* The decision tree algorithm's drawbacks are eliminated by this \talgorithm.\n",
        "* The concept of Breiman's \"bagging\" is combined with a random selection of elements to create random forest. By using the average or mode of the results from several decision trees, the forecast is meant to be more precise. The more decision trees that are taken into account, the more precise the results will be.\n",
        "* Random Forest has multiple decision trees as base learning models. We randomly perform row sampling and feature sampling from the dataset forming sample datasets for every model. This part is called **Bootstrap**."
      ]
    },
    {
      "cell_type": "markdown",
      "id": "f7b44ce7",
      "metadata": {
        "id": "f7b44ce7"
      },
      "source": [
        "### Bagging: \n",
        "  * An ensemble meta-estimator called a bagging classifier fits base classifiers one at a time to random subsets of the original dataset, and then it aggregates the individual predictions (either by voting or by averaging) to provide a final prediction.\n",
        "  * By adding randomization to the process of building a black-box estimator (such a decision tree), a meta-estimator of this kind can often be used to lower the variance of the estimator.\n",
        "![bagging.png](attachment:bagging.png)\n",
        "* By voting or averaging, bagging minimises overfitting (variance); however, this increases bias, which is offset by the decrease in variance."
      ]
    },
    {
      "cell_type": "markdown",
      "id": "8836e3e5",
      "metadata": {
        "id": "8836e3e5"
      },
      "source": [
        "* To achieve the required result, Random Forest uses the bagging process.\n",
        "* The idea is to repeatedly use different training data samples while applying the decision tree algorithm to the dataset.\n",
        "* These decision trees' outputs will vary and may be skewed as a result of the training data they received. The ultimate result can therefore be regarded as the mean or mode of the results obtained from each individual decision tree. Thus, variance can be minimised. Replacement can be used to do the sampling. The highest-ranking decision tree output will be the ultimate result of the Random Forest algorithm. As a result, the output will be more stable and less skewed."
      ]
    },
    {
      "cell_type": "markdown",
      "id": "031f338a",
      "metadata": {
        "id": "031f338a"
      },
      "source": [
        "![bagging1.png](attachment:bagging1.png)"
      ]
    },
    {
      "cell_type": "markdown",
      "id": "7239fbf1",
      "metadata": {
        "id": "7239fbf1"
      },
      "source": [
        "Steps used:\n",
        "\n",
        "1: Selecting random data points (K) from the training set.\n",
        "\n",
        "2: Building the decision trees associated with the selected data points (subsets).\n",
        "\n",
        "3: Choosing the number (N) for decision trees that we want to build.\n",
        "\n",
        "4: Repeating Step 1 & 2.\n",
        "\n",
        "5: For new data points, find the predictions of each decision tree, and assign the new data points to the category that wins the majority votes."
      ]
    },
    {
      "cell_type": "markdown",
      "id": "20ed8744",
      "metadata": {
        "id": "20ed8744"
      },
      "source": [
        "### Importance of Random Forest Algorithm"
      ]
    },
    {
      "cell_type": "markdown",
      "id": "ed2eb3a3",
      "metadata": {
        "id": "ed2eb3a3"
      },
      "source": [
        "* Used for both regression and classification models of machine learning.\n",
        "* Can handle missing values in the dataset.\n",
        "* Do not overfit the model like decision tree and can be used for categorical variables also. Random forest adds randomness to the model.\n",
        "* Searches for the best feature using a random subset of features for trees.\n",
        "* And then generate the output based on the most ranked output of subset decision trees."
      ]
    },
    {
      "cell_type": "markdown",
      "id": "d1dde18e",
      "metadata": {
        "id": "d1dde18e"
      },
      "source": [
        "### Advantages\n",
        "\n",
        "* Used for both regression and classification types of problems. Easy to use. Overfitting is not a problem in the random forest algorithm.\n",
        "* Can be used to identify the most important feature among available features. \n",
        "* Has high accuracy, flexibility, and less variance."
      ]
    },
    {
      "cell_type": "markdown",
      "id": "e45da94d",
      "metadata": {
        "id": "e45da94d"
      },
      "source": [
        "### Disadvantages\n",
        "\n",
        "* As the number of trees increases, the algorithm becomes slow and ineffective in handling real-time scenarios.\n",
        "* Random forest takes more time in comparison to the decision tree.\n",
        "* Requires more resources for computation."
      ]
    },
    {
      "cell_type": "markdown",
      "id": "0597ef0c",
      "metadata": {
        "id": "0597ef0c"
      },
      "source": [
        "### Python Implementation of Random Forest Algorithm"
      ]
    },
    {
      "cell_type": "code",
      "execution_count": null,
      "id": "0937d452",
      "metadata": {
        "id": "0937d452"
      },
      "outputs": [],
      "source": [
        "# importing libraries  \n",
        "import numpy as nm  \n",
        "import pandas as pd  \n",
        "import seaborn as snp\n",
        "import matplotlib.pyplot as mtp"
      ]
    },
    {
      "cell_type": "code",
      "execution_count": null,
      "id": "a13e417a",
      "metadata": {
        "id": "a13e417a"
      },
      "outputs": [],
      "source": [
        "#importing datasets  \n",
        "data_set= pd.read_csv('User_Data.csv')  "
      ]
    },
    {
      "cell_type": "code",
      "execution_count": null,
      "id": "c3c0a57d",
      "metadata": {
        "id": "c3c0a57d",
        "outputId": "100bceb5-e5ae-4d29-9f79-b22655f5e435"
      },
      "outputs": [
        {
          "data": {
            "text/html": [
              "<div>\n",
              "<style scoped>\n",
              "    .dataframe tbody tr th:only-of-type {\n",
              "        vertical-align: middle;\n",
              "    }\n",
              "\n",
              "    .dataframe tbody tr th {\n",
              "        vertical-align: top;\n",
              "    }\n",
              "\n",
              "    .dataframe thead th {\n",
              "        text-align: right;\n",
              "    }\n",
              "</style>\n",
              "<table border=\"1\" class=\"dataframe\">\n",
              "  <thead>\n",
              "    <tr style=\"text-align: right;\">\n",
              "      <th></th>\n",
              "      <th>User ID</th>\n",
              "      <th>Gender</th>\n",
              "      <th>Age</th>\n",
              "      <th>EstimatedSalary</th>\n",
              "      <th>Purchased</th>\n",
              "    </tr>\n",
              "  </thead>\n",
              "  <tbody>\n",
              "    <tr>\n",
              "      <th>0</th>\n",
              "      <td>15624510</td>\n",
              "      <td>Male</td>\n",
              "      <td>19</td>\n",
              "      <td>19000</td>\n",
              "      <td>0</td>\n",
              "    </tr>\n",
              "    <tr>\n",
              "      <th>1</th>\n",
              "      <td>15810944</td>\n",
              "      <td>Male</td>\n",
              "      <td>35</td>\n",
              "      <td>20000</td>\n",
              "      <td>0</td>\n",
              "    </tr>\n",
              "    <tr>\n",
              "      <th>2</th>\n",
              "      <td>15668575</td>\n",
              "      <td>Female</td>\n",
              "      <td>26</td>\n",
              "      <td>43000</td>\n",
              "      <td>0</td>\n",
              "    </tr>\n",
              "    <tr>\n",
              "      <th>3</th>\n",
              "      <td>15603246</td>\n",
              "      <td>Female</td>\n",
              "      <td>27</td>\n",
              "      <td>57000</td>\n",
              "      <td>0</td>\n",
              "    </tr>\n",
              "    <tr>\n",
              "      <th>4</th>\n",
              "      <td>15804002</td>\n",
              "      <td>Male</td>\n",
              "      <td>19</td>\n",
              "      <td>76000</td>\n",
              "      <td>0</td>\n",
              "    </tr>\n",
              "  </tbody>\n",
              "</table>\n",
              "</div>"
            ],
            "text/plain": [
              "    User ID  Gender  Age  EstimatedSalary  Purchased\n",
              "0  15624510    Male   19            19000          0\n",
              "1  15810944    Male   35            20000          0\n",
              "2  15668575  Female   26            43000          0\n",
              "3  15603246  Female   27            57000          0\n",
              "4  15804002    Male   19            76000          0"
            ]
          },
          "execution_count": 3,
          "metadata": {},
          "output_type": "execute_result"
        }
      ],
      "source": [
        "data_set.head()"
      ]
    },
    {
      "cell_type": "code",
      "execution_count": null,
      "id": "54d5c742",
      "metadata": {
        "id": "54d5c742"
      },
      "outputs": [],
      "source": [
        "#Extracting Independent and dependent Variable  \n",
        "x= data_set.iloc[:, [2,3]].values  \n",
        "y= data_set.iloc[:, 4].values  "
      ]
    },
    {
      "cell_type": "code",
      "execution_count": null,
      "id": "21ade9dd",
      "metadata": {
        "id": "21ade9dd"
      },
      "outputs": [],
      "source": [
        "# Splitting the dataset into training and test set.  \n",
        "from sklearn.model_selection import train_test_split  \n",
        "x_train, x_test, y_train, y_test= train_test_split(x, y, test_size= 0.25, random_state=0)  \n",
        "  "
      ]
    },
    {
      "cell_type": "code",
      "execution_count": null,
      "id": "97b16d16",
      "metadata": {
        "id": "97b16d16"
      },
      "outputs": [],
      "source": [
        "#feature Scaling  \n",
        "from sklearn.preprocessing import StandardScaler    \n",
        "st_x= StandardScaler()    \n",
        "x_train= st_x.fit_transform(x_train)    \n",
        "x_test= st_x.transform(x_test)    "
      ]
    },
    {
      "cell_type": "code",
      "execution_count": null,
      "id": "1c7b4d2e",
      "metadata": {
        "id": "1c7b4d2e",
        "outputId": "d1e812e6-2ae2-4630-e47d-6b1a7f1b9f8c"
      },
      "outputs": [
        {
          "data": {
            "text/plain": [
              "RandomForestClassifier(criterion='entropy', n_estimators=10)"
            ]
          },
          "execution_count": 7,
          "metadata": {},
          "output_type": "execute_result"
        }
      ],
      "source": [
        "#Fitting Decision Tree classifier to the training set  \n",
        "from sklearn.ensemble import RandomForestClassifier  \n",
        "classifier= RandomForestClassifier(n_estimators= 10, criterion=\"entropy\")  \n",
        "classifier.fit(x_train, y_train) "
      ]
    },
    {
      "cell_type": "markdown",
      "id": "8073153c",
      "metadata": {
        "id": "8073153c"
      },
      "source": [
        "In the above code, the classifier object takes below parameters:\n",
        "\n",
        "**n_estimators**= The required number of trees in the Random Forest. The default value is 10. We can choose any number but need to take care of the overfitting issue.\n",
        "\n",
        "**criterion**= It is a function to analyze the accuracy of the split. Here we have taken \"entropy\" for the information gain."
      ]
    },
    {
      "cell_type": "code",
      "execution_count": null,
      "id": "dcf6aac5",
      "metadata": {
        "id": "dcf6aac5"
      },
      "outputs": [],
      "source": [
        "#Predicting the test set result  \n",
        "y_pred= classifier.predict(x_test)  "
      ]
    },
    {
      "cell_type": "code",
      "execution_count": null,
      "id": "bd6e6e29",
      "metadata": {
        "id": "bd6e6e29",
        "outputId": "72a0b04f-e373-4867-ae5a-c5411462111a"
      },
      "outputs": [
        {
          "name": "stdout",
          "output_type": "stream",
          "text": [
            "[0 0 0 0 0 0 0 1 0 0 0 0 0 0 0 1 1 0 1 0 0 1 0 1 0 0 0 0 0 0 0 0 1 0 0 0 0\n",
            " 0 0 1 0 0 0 0 1 0 0 1 0 1 1 0 0 0 1 1 0 0 1 0 0 1 0 1 0 1 0 0 0 0 1 0 0 1\n",
            " 0 0 0 0 1 1 1 1 0 0 1 0 0 1 1 0 0 1 0 0 0 0 0 1 1 1]\n"
          ]
        }
      ],
      "source": [
        "# Output\n",
        "print(y_pred)"
      ]
    },
    {
      "cell_type": "code",
      "execution_count": null,
      "id": "952134c6",
      "metadata": {
        "id": "952134c6"
      },
      "outputs": [],
      "source": [
        "#Creating the Confusion matrix  \n",
        "from sklearn.metrics import confusion_matrix  \n",
        "cm= confusion_matrix(y_test, y_pred)  "
      ]
    },
    {
      "cell_type": "code",
      "execution_count": null,
      "id": "b1d3f2f4",
      "metadata": {
        "id": "b1d3f2f4",
        "outputId": "7671ada1-7674-4b99-d834-0fe8934d016e"
      },
      "outputs": [
        {
          "data": {
            "text/plain": [
              "array([[65,  3],\n",
              "       [ 4, 28]], dtype=int64)"
            ]
          },
          "execution_count": 11,
          "metadata": {},
          "output_type": "execute_result"
        }
      ],
      "source": [
        "cm\n"
      ]
    },
    {
      "cell_type": "code",
      "execution_count": null,
      "id": "b587611a",
      "metadata": {
        "id": "b587611a",
        "outputId": "ee6d1da3-7691-4280-b173-892bcc5db136"
      },
      "outputs": [
        {
          "name": "stderr",
          "output_type": "stream",
          "text": [
            "*c* argument looks like a single numeric RGB or RGBA sequence, which should be avoided as value-mapping will have precedence in case its length matches with *x* & *y*.  Please use the *color* keyword-argument or provide a 2D array with a single row if you intend to specify the same RGB or RGBA value for all points.\n",
            "*c* argument looks like a single numeric RGB or RGBA sequence, which should be avoided as value-mapping will have precedence in case its length matches with *x* & *y*.  Please use the *color* keyword-argument or provide a 2D array with a single row if you intend to specify the same RGB or RGBA value for all points.\n"
          ]
        },
        {
          "data": {
            "image/png": "[encoded data removed]",
            "text/plain": [
              "<Figure size 640x480 with 1 Axes>"
            ]
          },
          "metadata": {},
          "output_type": "display_data"
        }
      ],
      "source": [
        "# Visualizing the training Set result\n",
        "from matplotlib.colors import ListedColormap  \n",
        "x_set, y_set = x_train, y_train  \n",
        "x1, x2 = nm.meshgrid(nm.arange(start = x_set[:, 0].min() - 1, stop = x_set[:, 0].max() + 1, step  =0.01),  \n",
        "nm.arange(start = x_set[:, 1].min() - 1, stop = x_set[:, 1].max() + 1, step = 0.01))  \n",
        "mtp.contourf(x1, x2, classifier.predict(nm.array([x1.ravel(), x2.ravel()]).T).reshape(x1.shape),  \n",
        "alpha = 0.75, cmap = ListedColormap(('purple','green' )))  \n",
        "mtp.xlim(x1.min(), x1.max())  \n",
        "mtp.ylim(x2.min(), x2.max())  \n",
        "for i, j in enumerate(nm.unique(y_set)):  \n",
        "    mtp.scatter(x_set[y_set == j, 0], x_set[y_set == j, 1],  \n",
        "        c = ListedColormap(('purple', 'green'))(i), label = j)  \n",
        "mtp.title('Random Forest Algorithm (Training set)')  \n",
        "mtp.xlabel('Age')  \n",
        "mtp.ylabel('Estimated Salary')  \n",
        "mtp.legend()  \n",
        "mtp.show()  "
      ]
    },
    {
      "cell_type": "code",
      "execution_count": null,
      "id": "b88aab1a",
      "metadata": {
        "id": "b88aab1a",
        "outputId": "162a5a2e-ffae-48e4-b59e-5c3b9825147e"
      },
      "outputs": [
        {
          "name": "stderr",
          "output_type": "stream",
          "text": [
            "*c* argument looks like a single numeric RGB or RGBA sequence, which should be avoided as value-mapping will have precedence in case its length matches with *x* & *y*.  Please use the *color* keyword-argument or provide a 2D array with a single row if you intend to specify the same RGB or RGBA value for all points.\n",
            "*c* argument looks like a single numeric RGB or RGBA sequence, which should be avoided as value-mapping will have precedence in case its length matches with *x* & *y*.  Please use the *color* keyword-argument or provide a 2D array with a single row if you intend to specify the same RGB or RGBA value for all points.\n"
          ]
        },
        {
          "data": {
            "image/png": "[encoded data removed]",
            "text/plain": [
              "<Figure size 640x480 with 1 Axes>"
            ]
          },
          "metadata": {},
          "output_type": "display_data"
        }
      ],
      "source": [
        "# Visualizing the test set result\n",
        "#Visulaizing the test set result  \n",
        "from matplotlib.colors import ListedColormap  \n",
        "x_set, y_set = x_test, y_test  \n",
        "x1, x2 = nm.meshgrid(nm.arange(start = x_set[:, 0].min() - 1, stop = x_set[:, 0].max() + 1, step  =0.01),  \n",
        "nm.arange(start = x_set[:, 1].min() - 1, stop = x_set[:, 1].max() + 1, step = 0.01))  \n",
        "mtp.contourf(x1, x2, classifier.predict(nm.array([x1.ravel(), x2.ravel()]).T).reshape(x1.shape),  \n",
        "alpha = 0.75, cmap = ListedColormap(('purple','green' )))  \n",
        "mtp.xlim(x1.min(), x1.max())  \n",
        "mtp.ylim(x2.min(), x2.max())  \n",
        "for i, j in enumerate(nm.unique(y_set)):  \n",
        "    mtp.scatter(x_set[y_set == j, 0], x_set[y_set == j, 1],  \n",
        "        c = ListedColormap(('purple', 'green'))(i), label = j)  \n",
        "mtp.title('Random Forest Algorithm(Test set)')  \n",
        "mtp.xlabel('Age')  \n",
        "mtp.ylabel('Estimated Salary')  \n",
        "mtp.legend()  \n",
        "mtp.show()  "
      ]
    },
    {
      "cell_type": "code",
      "execution_count": null,
      "id": "c46970db",
      "metadata": {
        "id": "c46970db"
      },
      "outputs": [],
      "source": []
    }
  ],
  "metadata": {
    "kernelspec": {
      "display_name": "Python 3 (ipykernel)",
      "language": "python",
      "name": "python3"
    },
    "language_info": {
      "codemirror_mode": {
        "name": "ipython",
        "version": 3
      },
      "file_extension": ".py",
      "mimetype": "text/x-python",
      "name": "python",
      "nbconvert_exporter": "python",
      "pygments_lexer": "ipython3",
      "version": "3.9.13"
    },
    "colab": {
      "provenance": []
    }
  },
  "nbformat": 4,
  "nbformat_minor": 5
}