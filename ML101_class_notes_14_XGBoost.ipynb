{
  "cells": [
    {
      "cell_type": "markdown",
      "id": "32fbcfbb",
      "metadata": {
        "id": "32fbcfbb"
      },
      "source": [
        "# XGBoost"
      ]
    },
    {
      "cell_type": "markdown",
      "id": "38f0aa7a",
      "metadata": {
        "id": "38f0aa7a"
      },
      "source": [
        "Extreme Gradient Boosting, aka XGBoost, was developed at the University of Washington, USA. It optimizes the gradient boosting."
      ]
    },
    {
      "cell_type": "markdown",
      "id": "4ecdf186",
      "metadata": {
        "id": "4ecdf186"
      },
      "source": [
        "**Boosting**:\n",
        "\n",
        "Boosting uses ensemble methods. It uses number of weak classifier to build a strong classifier. It creates a model utilizing weak models in a series. First, it builts a model using the training dataset. Next, it builds the second model is created which tries to fix the errors identified in the first created model. This procedure continues until either the complete training data set is predicted correctly or the maximum number of models are added.  "
      ]
    },
    {
      "cell_type": "markdown",
      "id": "0e63c712",
      "metadata": {
        "id": "0e63c712"
      },
      "source": [
        "![boosting.png](attachment:boosting.png)"
      ]
    },
    {
      "cell_type": "markdown",
      "id": "4cfa86ff",
      "metadata": {
        "id": "4cfa86ff"
      },
      "source": [
        "**Gradient Boosting**\n",
        "\n",
        "Gradient Boosting is a famous algorithm for boosting techniques. Each predictor in gradient boosting corrects the error of its predecessor. Unlike Adaboost, each predictor is trained using the residual errors of the predecessor as labels rather than adjusting the weights of the training instances.\n",
        "\n",
        "The Gradient Boosted Trees approach uses CART as its base learner (Classification and Regression Trees)."
      ]
    },
    {
      "cell_type": "markdown",
      "id": "fa2836b7",
      "metadata": {
        "id": "fa2836b7"
      },
      "source": [
        "* XGBoost is technically applied using Gradient Boosted Decision Tree.\n",
        "* Using XGBoost, decision trees are created sequentially.\n",
        "* In XGBoost, weights play a crucial role. \n",
        "* The decision tree, which forecasts outcomes, receives weights for each independent variable. \n",
        "* The variables that the decision tree incorrectly predicted are given more weight before being placed into the second decision tree. Then, a more potent and accurate model is created by combining these distinct classifiers and predictors.\n",
        "* It can be used in regression, classification, ranking, and user-defined prediction."
      ]
    },
    {
      "cell_type": "markdown",
      "id": "1518b731",
      "metadata": {
        "id": "1518b731"
      },
      "source": [
        "* Extreme Gradient Boosting, or XG Boost, uses an ensemble strategy based on the gradient boosting algorithm.\n",
        "* Speed, usability, and performance on big datasets are all optimised in XGBoost. It can be used right away with no additional configuration because it doesn't need parameter optimization or tuning.\n",
        "* XGBoost is used for two reasons: \n",
        "   * Execution speed and \n",
        "   * Model performance"
      ]
    },
    {
      "cell_type": "code",
      "execution_count": null,
      "id": "ea5f8a49",
      "metadata": {
        "id": "ea5f8a49"
      },
      "outputs": [],
      "source": [
        "# importing libraries  \n",
        "import numpy as np\n",
        "import pandas as pd  \n",
        "import seaborn as snp\n",
        "import matplotlib.pyplot as plt\n",
        "from xgboost import XGBClassifier, plot_tree\n",
        "\n",
        "from sklearn.datasets import load_boston\n",
        "import xgboost as xgb\n",
        "from sklearn.metrics import mean_squared_error\n",
        "plt.style.use('ggplot')"
      ]
    },
    {
      "cell_type": "code",
      "execution_count": null,
      "id": "508d7e60",
      "metadata": {
        "id": "508d7e60",
        "outputId": "f0ae320b-1979-49f5-c059-8a461f10cb24"
      },
      "outputs": [
        {
          "name": "stderr",
          "output_type": "stream",
          "text": [
            "C:\\Users\\hp\\anaconda3\\lib\\site-packages\\sklearn\\utils\\deprecation.py:87: FutureWarning: Function load_boston is deprecated; `load_boston` is deprecated in 1.0 and will be removed in 1.2.\n",
            "\n",
            "    The Boston housing prices dataset has an ethical problem. You can refer to\n",
            "    the documentation of this function for further details.\n",
            "\n",
            "    The scikit-learn maintainers therefore strongly discourage the use of this\n",
            "    dataset unless the purpose of the code is to study and educate about\n",
            "    ethical issues in data science and machine learning.\n",
            "\n",
            "    In this special case, you can fetch the dataset from the original\n",
            "    source::\n",
            "\n",
            "        import pandas as pd\n",
            "        import numpy as np\n",
            "\n",
            "\n",
            "        data_url = \"http://lib.stat.cmu.edu/datasets/boston\"\n",
            "        raw_df = pd.read_csv(data_url, sep=\"\\s+\", skiprows=22, header=None)\n",
            "        data = np.hstack([raw_df.values[::2, :], raw_df.values[1::2, :2]])\n",
            "        target = raw_df.values[1::2, 2]\n",
            "\n",
            "    Alternative datasets include the California housing dataset (i.e.\n",
            "    :func:`~sklearn.datasets.fetch_california_housing`) and the Ames housing\n",
            "    dataset. You can load the datasets as follows::\n",
            "\n",
            "        from sklearn.datasets import fetch_california_housing\n",
            "        housing = fetch_california_housing()\n",
            "\n",
            "    for the California housing dataset and::\n",
            "\n",
            "        from sklearn.datasets import fetch_openml\n",
            "        housing = fetch_openml(name=\"house_prices\", as_frame=True)\n",
            "\n",
            "    for the Ames housing dataset.\n",
            "    \n",
            "  warnings.warn(msg, category=FutureWarning)\n"
          ]
        }
      ],
      "source": [
        "# Loading the data\n",
        "from sklearn.datasets import load_boston\n",
        "boston = load_boston()"
      ]
    },
    {
      "cell_type": "code",
      "execution_count": null,
      "id": "4cdedaf4",
      "metadata": {
        "id": "4cdedaf4",
        "outputId": "d9bf9529-498e-4350-fd4e-ff8c4ed61a89"
      },
      "outputs": [
        {
          "name": "stdout",
          "output_type": "stream",
          "text": [
            "(506, 13)\n"
          ]
        }
      ],
      "source": [
        "# To check the dataset shape\n",
        "print(boston.data.shape)"
      ]
    },
    {
      "cell_type": "code",
      "execution_count": null,
      "id": "d4e7e41d",
      "metadata": {
        "id": "d4e7e41d",
        "outputId": "0d16d7da-7c1e-41d9-950d-83ff57ea6aa3"
      },
      "outputs": [
        {
          "name": "stdout",
          "output_type": "stream",
          "text": [
            "['CRIM' 'ZN' 'INDUS' 'CHAS' 'NOX' 'RM' 'AGE' 'DIS' 'RAD' 'TAX' 'PTRATIO'\n",
            " 'B' 'LSTAT']\n"
          ]
        }
      ],
      "source": [
        "# To see the column names\n",
        "print(boston.feature_names)"
      ]
    },
    {
      "cell_type": "code",
      "execution_count": null,
      "id": "35a8a6cb",
      "metadata": {
        "id": "35a8a6cb",
        "outputId": "524ce122-d0c5-4583-a5e6-d46d042a2a08"
      },
      "outputs": [
        {
          "name": "stdout",
          "output_type": "stream",
          "text": [
            ".. _boston_dataset:\n",
            "\n",
            "Boston house prices dataset\n",
            "---------------------------\n",
            "\n",
            "**Data Set Characteristics:**  \n",
            "\n",
            "    :Number of Instances: 506 \n",
            "\n",
            "    :Number of Attributes: 13 numeric/categorical predictive. Median Value (attribute 14) is usually the target.\n",
            "\n",
            "    :Attribute Information (in order):\n",
            "        - CRIM     per capita crime rate by town\n",
            "        - ZN       proportion of residential land zoned for lots over 25,000 sq.ft.\n",
            "        - INDUS    proportion of non-retail business acres per town\n",
            "        - CHAS     Charles River dummy variable (= 1 if tract bounds river; 0 otherwise)\n",
            "        - NOX      nitric oxides concentration (parts per 10 million)\n",
            "        - RM       average number of rooms per dwelling\n",
            "        - AGE      proportion of owner-occupied units built prior to 1940\n",
            "        - DIS      weighted distances to five Boston employment centres\n",
            "        - RAD      index of accessibility to radial highways\n",
            "        - TAX      full-value property-tax rate per $10,000\n",
            "        - PTRATIO  pupil-teacher ratio by town\n",
            "        - B        1000(Bk - 0.63)^2 where Bk is the proportion of black people by town\n",
            "        - LSTAT    % lower status of the population\n",
            "        - MEDV     Median value of owner-occupied homes in $1000's\n",
            "\n",
            "    :Missing Attribute Values: None\n",
            "\n",
            "    :Creator: Harrison, D. and Rubinfeld, D.L.\n",
            "\n",
            "This is a copy of UCI ML housing dataset.\n",
            "https://archive.ics.uci.edu/ml/machine-learning-databases/housing/\n",
            "\n",
            "\n",
            "This dataset was taken from the StatLib library which is maintained at Carnegie Mellon University.\n",
            "\n",
            "The Boston house-price data of Harrison, D. and Rubinfeld, D.L. 'Hedonic\n",
            "prices and the demand for clean air', J. Environ. Economics & Management,\n",
            "vol.5, 81-102, 1978.   Used in Belsley, Kuh & Welsch, 'Regression diagnostics\n",
            "...', Wiley, 1980.   N.B. Various transformations are used in the table on\n",
            "pages 244-261 of the latter.\n",
            "\n",
            "The Boston house-price data has been used in many machine learning papers that address regression\n",
            "problems.   \n",
            "     \n",
            ".. topic:: References\n",
            "\n",
            "   - Belsley, Kuh & Welsch, 'Regression diagnostics: Identifying Influential Data and Sources of Collinearity', Wiley, 1980. 244-261.\n",
            "   - Quinlan,R. (1993). Combining Instance-Based and Model-Based Learning. In Proceedings on the Tenth International Conference of Machine Learning, 236-243, University of Massachusetts, Amherst. Morgan Kaufmann.\n",
            "\n"
          ]
        }
      ],
      "source": [
        "# To see the description of the dataset\n",
        "print(boston.DESCR)"
      ]
    },
    {
      "cell_type": "code",
      "execution_count": null,
      "id": "7fd7f20f",
      "metadata": {
        "id": "7fd7f20f",
        "outputId": "c3da9e0f-43a8-439c-d3be-81672bbf5029"
      },
      "outputs": [
        {
          "data": {
            "text/html": [
              "<div>\n",
              "<style scoped>\n",
              "    .dataframe tbody tr th:only-of-type {\n",
              "        vertical-align: middle;\n",
              "    }\n",
              "\n",
              "    .dataframe tbody tr th {\n",
              "        vertical-align: top;\n",
              "    }\n",
              "\n",
              "    .dataframe thead th {\n",
              "        text-align: right;\n",
              "    }\n",
              "</style>\n",
              "<table border=\"1\" class=\"dataframe\">\n",
              "  <thead>\n",
              "    <tr style=\"text-align: right;\">\n",
              "      <th></th>\n",
              "      <th>CRIM</th>\n",
              "      <th>ZN</th>\n",
              "      <th>INDUS</th>\n",
              "      <th>CHAS</th>\n",
              "      <th>NOX</th>\n",
              "      <th>RM</th>\n",
              "      <th>AGE</th>\n",
              "      <th>DIS</th>\n",
              "      <th>RAD</th>\n",
              "      <th>TAX</th>\n",
              "      <th>PTRATIO</th>\n",
              "      <th>B</th>\n",
              "      <th>LSTAT</th>\n",
              "    </tr>\n",
              "  </thead>\n",
              "  <tbody>\n",
              "    <tr>\n",
              "      <th>0</th>\n",
              "      <td>0.00632</td>\n",
              "      <td>18.0</td>\n",
              "      <td>2.31</td>\n",
              "      <td>0.0</td>\n",
              "      <td>0.538</td>\n",
              "      <td>6.575</td>\n",
              "      <td>65.2</td>\n",
              "      <td>4.0900</td>\n",
              "      <td>1.0</td>\n",
              "      <td>296.0</td>\n",
              "      <td>15.3</td>\n",
              "      <td>396.90</td>\n",
              "      <td>4.98</td>\n",
              "    </tr>\n",
              "    <tr>\n",
              "      <th>1</th>\n",
              "      <td>0.02731</td>\n",
              "      <td>0.0</td>\n",
              "      <td>7.07</td>\n",
              "      <td>0.0</td>\n",
              "      <td>0.469</td>\n",
              "      <td>6.421</td>\n",
              "      <td>78.9</td>\n",
              "      <td>4.9671</td>\n",
              "      <td>2.0</td>\n",
              "      <td>242.0</td>\n",
              "      <td>17.8</td>\n",
              "      <td>396.90</td>\n",
              "      <td>9.14</td>\n",
              "    </tr>\n",
              "    <tr>\n",
              "      <th>2</th>\n",
              "      <td>0.02729</td>\n",
              "      <td>0.0</td>\n",
              "      <td>7.07</td>\n",
              "      <td>0.0</td>\n",
              "      <td>0.469</td>\n",
              "      <td>7.185</td>\n",
              "      <td>61.1</td>\n",
              "      <td>4.9671</td>\n",
              "      <td>2.0</td>\n",
              "      <td>242.0</td>\n",
              "      <td>17.8</td>\n",
              "      <td>392.83</td>\n",
              "      <td>4.03</td>\n",
              "    </tr>\n",
              "    <tr>\n",
              "      <th>3</th>\n",
              "      <td>0.03237</td>\n",
              "      <td>0.0</td>\n",
              "      <td>2.18</td>\n",
              "      <td>0.0</td>\n",
              "      <td>0.458</td>\n",
              "      <td>6.998</td>\n",
              "      <td>45.8</td>\n",
              "      <td>6.0622</td>\n",
              "      <td>3.0</td>\n",
              "      <td>222.0</td>\n",
              "      <td>18.7</td>\n",
              "      <td>394.63</td>\n",
              "      <td>2.94</td>\n",
              "    </tr>\n",
              "    <tr>\n",
              "      <th>4</th>\n",
              "      <td>0.06905</td>\n",
              "      <td>0.0</td>\n",
              "      <td>2.18</td>\n",
              "      <td>0.0</td>\n",
              "      <td>0.458</td>\n",
              "      <td>7.147</td>\n",
              "      <td>54.2</td>\n",
              "      <td>6.0622</td>\n",
              "      <td>3.0</td>\n",
              "      <td>222.0</td>\n",
              "      <td>18.7</td>\n",
              "      <td>396.90</td>\n",
              "      <td>5.33</td>\n",
              "    </tr>\n",
              "  </tbody>\n",
              "</table>\n",
              "</div>"
            ],
            "text/plain": [
              "      CRIM    ZN  INDUS  CHAS    NOX     RM   AGE     DIS  RAD    TAX  \\\n",
              "0  0.00632  18.0   2.31   0.0  0.538  6.575  65.2  4.0900  1.0  296.0   \n",
              "1  0.02731   0.0   7.07   0.0  0.469  6.421  78.9  4.9671  2.0  242.0   \n",
              "2  0.02729   0.0   7.07   0.0  0.469  7.185  61.1  4.9671  2.0  242.0   \n",
              "3  0.03237   0.0   2.18   0.0  0.458  6.998  45.8  6.0622  3.0  222.0   \n",
              "4  0.06905   0.0   2.18   0.0  0.458  7.147  54.2  6.0622  3.0  222.0   \n",
              "\n",
              "   PTRATIO       B  LSTAT  \n",
              "0     15.3  396.90   4.98  \n",
              "1     17.8  396.90   9.14  \n",
              "2     17.8  392.83   4.03  \n",
              "3     18.7  394.63   2.94  \n",
              "4     18.7  396.90   5.33  "
            ]
          },
          "execution_count": 7,
          "metadata": {},
          "output_type": "execute_result"
        }
      ],
      "source": [
        "data = pd.DataFrame(boston.data)\n",
        "data.columns = boston.feature_names\n",
        "data.head()"
      ]
    },
    {
      "cell_type": "code",
      "execution_count": null,
      "id": "8fc872e8",
      "metadata": {
        "id": "8fc872e8"
      },
      "outputs": [],
      "source": [
        "X, y = data.iloc[:,:-1],data.iloc[:,-1]\n"
      ]
    },
    {
      "cell_type": "code",
      "execution_count": null,
      "id": "0955ebdf",
      "metadata": {
        "id": "0955ebdf"
      },
      "outputs": [],
      "source": [
        "# we will convert the dataset into an optimized data structure called Dmatrix that XGBoost supports\n",
        "data_dmatrix = xgb.DMatrix(data=X,label=y)"
      ]
    },
    {
      "cell_type": "code",
      "execution_count": null,
      "id": "4541f905",
      "metadata": {
        "id": "4541f905"
      },
      "outputs": [],
      "source": [
        "from sklearn.model_selection import train_test_split\n",
        "X_train, X_test, y_train, y_test = train_test_split(X, y, test_size=0.2, random_state=123)  #For splitting the test data\n"
      ]
    },
    {
      "cell_type": "code",
      "execution_count": null,
      "id": "9878fe5f",
      "metadata": {
        "id": "9878fe5f"
      },
      "outputs": [],
      "source": [
        "#We have to instantiate an XGBoost regressor object by calling the XGBRegressor() class from the XGBoost library with the hyper-parameters passed as arguments.\n",
        "xg_reg = xgb.XGBRegressor(objective ='reg:linear', colsample_bytree = 0.3, learning_rate = 0.1,\n",
        "max_depth = 5, alpha = 10, n_estimators = 10)"
      ]
    },
    {
      "cell_type": "code",
      "execution_count": null,
      "id": "3df96206",
      "metadata": {
        "id": "3df96206",
        "outputId": "f0e7ee28-fccb-4eb4-ca96-428cd27688f4"
      },
      "outputs": [
        {
          "name": "stdout",
          "output_type": "stream",
          "text": [
            "[19:35:27] WARNING: C:/buildkite-agent/builds/buildkite-windows-cpu-autoscaling-group-i-0fc7796c793e6356f-1/xgboost/xgboost-ci-windows/src/objective/regression_obj.cu:213: reg:linear is now deprecated in favor of reg:squarederror.\n"
          ]
        }
      ],
      "source": [
        "#Fit the regressor to the training set and make predictions on the test set using the familiar .fit() and .predict() methods\n",
        "xg_reg.fit(X_train,y_train)\n",
        "preds = xg_reg.predict(X_test)\n"
      ]
    },
    {
      "cell_type": "code",
      "execution_count": null,
      "id": "6c3837f7",
      "metadata": {
        "id": "6c3837f7",
        "outputId": "7903cc93-be9f-41ef-e037-ee552090dbf0"
      },
      "outputs": [
        {
          "name": "stdout",
          "output_type": "stream",
          "text": [
            "RMSE: 6.455243\n"
          ]
        }
      ],
      "source": [
        "# we have to #Compute the rmse by invoking the mean_sqaured_error function from sklearn's\n",
        "#metrics module.\n",
        "rmse = np.sqrt(mean_squared_error(y_test, preds))\n",
        "print(\"RMSE: %f\" % (rmse))\n"
      ]
    },
    {
      "cell_type": "code",
      "execution_count": null,
      "id": "59acd69a",
      "metadata": {
        "id": "59acd69a"
      },
      "outputs": [],
      "source": [
        "#Invoking XGBoost's cv() method and store the results in a cv_results DataFrame\n",
        "params = {\"objective\":\"reg:linear\",'colsample_bytree': 0.3,'learning_rate': 0.1,\n",
        "'max_depth': 5, 'alpha': 10}"
      ]
    },
    {
      "cell_type": "code",
      "execution_count": null,
      "id": "bd45eb45",
      "metadata": {
        "id": "bd45eb45",
        "outputId": "3fb14f8c-ded2-4127-dd3c-fdcae01a2908"
      },
      "outputs": [
        {
          "name": "stdout",
          "output_type": "stream",
          "text": [
            "[19:35:46] WARNING: C:/buildkite-agent/builds/buildkite-windows-cpu-autoscaling-group-i-0fc7796c793e6356f-1/xgboost/xgboost-ci-windows/src/objective/regression_obj.cu:213: reg:linear is now deprecated in favor of reg:squarederror.\n",
            "[19:35:46] WARNING: C:/buildkite-agent/builds/buildkite-windows-cpu-autoscaling-group-i-0fc7796c793e6356f-1/xgboost/xgboost-ci-windows/src/objective/regression_obj.cu:213: reg:linear is now deprecated in favor of reg:squarederror.\n",
            "[19:35:46] WARNING: C:/buildkite-agent/builds/buildkite-windows-cpu-autoscaling-group-i-0fc7796c793e6356f-1/xgboost/xgboost-ci-windows/src/objective/regression_obj.cu:213: reg:linear is now deprecated in favor of reg:squarederror.\n"
          ]
        }
      ],
      "source": [
        "cv_results = xgb.cv(dtrain=data_dmatrix, params=params, nfold=3,\n",
        "num_boost_round=50,early_stopping_rounds=10,metrics=\"rmse\", as_pandas=True, seed=123)"
      ]
    },
    {
      "cell_type": "code",
      "execution_count": null,
      "id": "94faf33c",
      "metadata": {
        "id": "94faf33c",
        "outputId": "9d79feab-af33-4491-fb6f-a3fa32ba3b75"
      },
      "outputs": [
        {
          "name": "stdout",
          "output_type": "stream",
          "text": [
            "49    3.995269\n",
            "Name: test-rmse-mean, dtype: float64\n"
          ]
        }
      ],
      "source": [
        "# We have to Extract and print the final boosting round metric.\n",
        "print((cv_results[\"test-rmse-mean\"]).tail(1))"
      ]
    },
    {
      "cell_type": "code",
      "execution_count": null,
      "id": "06068b13",
      "metadata": {
        "id": "06068b13"
      },
      "outputs": [],
      "source": []
    }
  ],
  "metadata": {
    "kernelspec": {
      "display_name": "Python 3 (ipykernel)",
      "language": "python",
      "name": "python3"
    },
    "language_info": {
      "codemirror_mode": {
        "name": "ipython",
        "version": 3
      },
      "file_extension": ".py",
      "mimetype": "text/x-python",
      "name": "python",
      "nbconvert_exporter": "python",
      "pygments_lexer": "ipython3",
      "version": "3.9.13"
    },
    "colab": {
      "provenance": []
    }
  },
  "nbformat": 4,
  "nbformat_minor": 5
}